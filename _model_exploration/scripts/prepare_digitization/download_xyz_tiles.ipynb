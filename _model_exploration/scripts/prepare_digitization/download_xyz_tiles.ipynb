{
 "cells": [
  {
   "cell_type": "code",
   "execution_count": 1,
   "metadata": {},
   "outputs": [],
   "source": [
    "import geopandas as gpd\n",
    "import mercantile\n",
    "import requests\n",
    "import os\n",
    "\n",
    "from tqdm.notebook import tqdm"
   ]
  },
  {
   "cell_type": "code",
   "execution_count": 2,
   "metadata": {},
   "outputs": [
    {
     "data": {
      "text/html": [
       "<div>\n",
       "<style scoped>\n",
       "    .dataframe tbody tr th:only-of-type {\n",
       "        vertical-align: middle;\n",
       "    }\n",
       "\n",
       "    .dataframe tbody tr th {\n",
       "        vertical-align: top;\n",
       "    }\n",
       "\n",
       "    .dataframe thead th {\n",
       "        text-align: right;\n",
       "    }\n",
       "</style>\n",
       "<table border=\"1\" class=\"dataframe\">\n",
       "  <thead>\n",
       "    <tr style=\"text-align: right;\">\n",
       "      <th></th>\n",
       "      <th>fid</th>\n",
       "      <th>id</th>\n",
       "      <th>zoom</th>\n",
       "      <th>x_tile</th>\n",
       "      <th>y_tile_ud</th>\n",
       "      <th>y_tile_du</th>\n",
       "      <th>minx_coor</th>\n",
       "      <th>miny_coor</th>\n",
       "      <th>maxx_coor</th>\n",
       "      <th>maxy_coor</th>\n",
       "      <th>width</th>\n",
       "      <th>height</th>\n",
       "      <th>area</th>\n",
       "      <th>perimeter</th>\n",
       "      <th>geometry</th>\n",
       "    </tr>\n",
       "  </thead>\n",
       "  <tbody>\n",
       "    <tr>\n",
       "      <th>9</th>\n",
       "      <td>10</td>\n",
       "      <td>36</td>\n",
       "      <td>18</td>\n",
       "      <td>136278</td>\n",
       "      <td>92393</td>\n",
       "      <td>169750</td>\n",
       "      <td>795862.338506</td>\n",
       "      <td>5.912863e+06</td>\n",
       "      <td>796015.212562</td>\n",
       "      <td>5.913016e+06</td>\n",
       "      <td>1070.118396</td>\n",
       "      <td>1222.992453</td>\n",
       "      <td>1.308747e+06</td>\n",
       "      <td>4586.221697</td>\n",
       "      <td>POLYGON ((7.14934 46.81416, 7.14934 46.81416, ...</td>\n",
       "    </tr>\n",
       "  </tbody>\n",
       "</table>\n",
       "</div>"
      ],
      "text/plain": [
       "   fid  id  zoom  x_tile  y_tile_ud  y_tile_du      minx_coor     miny_coor  \\\n",
       "9   10  36    18  136278      92393     169750  795862.338506  5.912863e+06   \n",
       "\n",
       "       maxx_coor     maxy_coor        width       height          area  \\\n",
       "9  796015.212562  5.913016e+06  1070.118396  1222.992453  1.308747e+06   \n",
       "\n",
       "     perimeter                                           geometry  \n",
       "9  4586.221697  POLYGON ((7.14934 46.81416, 7.14934 46.81416, ...  "
      ]
     },
     "execution_count": 2,
     "metadata": {},
     "output_type": "execute_result"
    }
   ],
   "source": [
    "geojson = gpd.read_file(\"data/tile_indices_z18/tiles_dissolved_bboxes_buffer1m.geojsonl.json\")\n",
    "geojson.query(\"id == '36'\")"
   ]
  },
  {
   "cell_type": "code",
   "execution_count": 3,
   "metadata": {},
   "outputs": [
    {
     "name": "stdout",
     "output_type": "stream",
     "text": [
      "zoomlevel = 15\n"
     ]
    },
    {
     "data": {
      "application/vnd.jupyter.widget-view+json": {
       "model_id": "00da3d076329433580e3ea3034d00148",
       "version_major": 2,
       "version_minor": 0
      },
      "text/plain": [
       "  0%|          | 0/4 [00:00<?, ?it/s]"
      ]
     },
     "metadata": {},
     "output_type": "display_data"
    },
    {
     "name": "stdout",
     "output_type": "stream",
     "text": [
      "zoomlevel = 16\n"
     ]
    },
    {
     "data": {
      "application/vnd.jupyter.widget-view+json": {
       "model_id": "38800d7866094337b2982e67736e353a",
       "version_major": 2,
       "version_minor": 0
      },
      "text/plain": [
       "  0%|          | 0/9 [00:00<?, ?it/s]"
      ]
     },
     "metadata": {},
     "output_type": "display_data"
    },
    {
     "name": "stdout",
     "output_type": "stream",
     "text": [
      "zoomlevel = 17\n"
     ]
    },
    {
     "data": {
      "application/vnd.jupyter.widget-view+json": {
       "model_id": "dc4876ed667341deb19e873e00a75238",
       "version_major": 2,
       "version_minor": 0
      },
      "text/plain": [
       "  0%|          | 0/25 [00:00<?, ?it/s]"
      ]
     },
     "metadata": {},
     "output_type": "display_data"
    },
    {
     "name": "stdout",
     "output_type": "stream",
     "text": [
      "zoomlevel = 18\n"
     ]
    },
    {
     "data": {
      "application/vnd.jupyter.widget-view+json": {
       "model_id": "654b3de8fc0c472b85b438df85defe1b",
       "version_major": 2,
       "version_minor": 0
      },
      "text/plain": [
       "  0%|          | 0/90 [00:00<?, ?it/s]"
      ]
     },
     "metadata": {},
     "output_type": "display_data"
    },
    {
     "name": "stdout",
     "output_type": "stream",
     "text": [
      "zoomlevel = 19\n"
     ]
    },
    {
     "data": {
      "application/vnd.jupyter.widget-view+json": {
       "model_id": "f6dad541e6a2416da2e97a5b49ab1530",
       "version_major": 2,
       "version_minor": 0
      },
      "text/plain": [
       "  0%|          | 0/288 [00:00<?, ?it/s]"
      ]
     },
     "metadata": {},
     "output_type": "display_data"
    },
    {
     "name": "stdout",
     "output_type": "stream",
     "text": [
      "zoomlevel = 20\n"
     ]
    },
    {
     "data": {
      "application/vnd.jupyter.widget-view+json": {
       "model_id": "971e9b057dde4477938de21524633a60",
       "version_major": 2,
       "version_minor": 0
      },
      "text/plain": [
       "  0%|          | 0/1020 [00:00<?, ?it/s]"
      ]
     },
     "metadata": {},
     "output_type": "display_data"
    },
    {
     "name": "stdout",
     "output_type": "stream",
     "text": [
      "zoomlevel = 21\n"
     ]
    },
    {
     "data": {
      "application/vnd.jupyter.widget-view+json": {
       "model_id": "5f223b8c66c1476ba97a1cd307fb1dcf",
       "version_major": 2,
       "version_minor": 0
      },
      "text/plain": [
       "  0%|          | 0/3828 [00:00<?, ?it/s]"
      ]
     },
     "metadata": {},
     "output_type": "display_data"
    }
   ],
   "source": [
    "for zoomlevel in [15, 16, 17, 18, 19, 20, 21]:\n",
    "    print(f\"{zoomlevel = }\")\n",
    "\n",
    "    for row in geojson.query(\"id == '36'\").bounds.iterrows():\n",
    "        \n",
    "        bounds = list(row[1].values)\n",
    "        tiles_generator = mercantile.tiles(*bounds, zooms=zoomlevel)\n",
    "\n",
    "        tile_ids = [tile_id for tile_id in tiles_generator]\n",
    "        \n",
    "        for tile_id in tqdm(tile_ids):\n",
    "            x = tile_id.x\n",
    "            y = tile_id.y\n",
    "            z = tile_id.z\n",
    "\n",
    "            if os.path.exists(f\"data/test_titiler_download/{z}/{x}/{y}.png\"):\n",
    "                continue\n",
    "\n",
    "            if not os.path.isdir(f\"data/test_titiler_download/{z}\"):\n",
    "                os.makedirs(f\"data/test_titiler_download/{z}\")\n",
    "            if not os.path.isdir(f\"data/test_titiler_download/{z}/{x}\"):\n",
    "                os.makedirs(f\"data/test_titiler_download/{z}/{x}\")\n",
    "\n",
    "            response = requests.get(f\"https://titiler.stdl.ch/mosaicjson/tiles/{z}/{x}/{y}.png?url=/data/proj-soils/mosaic_soils_all_v20230601_FS.json&bidx=1&bidx=2&bidx=3&nodata=0&pixel_selection=highest\")\n",
    "            with open(f\"data/test_titiler_download/{z}/{x}/{y}.png\", \"wb\") as f:\n",
    "                f.write(response.content)\n"
   ]
  }
 ],
 "metadata": {
  "kernelspec": {
   "display_name": "GIS",
   "language": "python",
   "name": "python3"
  },
  "language_info": {
   "codemirror_mode": {
    "name": "ipython",
    "version": 3
   },
   "file_extension": ".py",
   "mimetype": "text/x-python",
   "name": "python",
   "nbconvert_exporter": "python",
   "pygments_lexer": "ipython3",
   "version": "3.11.3 | packaged by conda-forge | (main, Apr  6 2023, 08:58:31) [Clang 14.0.6 ]"
  },
  "orig_nbformat": 4,
  "vscode": {
   "interpreter": {
    "hash": "67c683be3b89053d7ca5cf9ab92fc1f76d72010376a6f7730bc4c074221af5a2"
   }
  }
 },
 "nbformat": 4,
 "nbformat_minor": 2
}
