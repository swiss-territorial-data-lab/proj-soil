{
 "cells": [
  {
   "attachments": {},
   "cell_type": "markdown",
   "metadata": {},
   "source": [
    "# Calculate Metrics"
   ]
  },
  {
   "cell_type": "code",
   "execution_count": null,
   "metadata": {},
   "outputs": [],
   "source": [
    "import os\n",
    "\n",
    "projsoilsroot = \"/Users/nicibe/Desktop/Job/swisstopo_stdl/soil_fribourg/proj-soils\"\n",
    "config_eval_IGN = os.path.join(projsoilsroot, \"config\", \"eval\", \"config-eval_IGN.yaml\")\n",
    "config_eval_OFS_old_extents = os.path.join(projsoilsroot, \"config\", \"eval\", \"config-eval_OFS_old-extents.yaml\")\n",
    "config_eval_OFS_val_seed6_adj = os.path.join(projsoilsroot, \"config\", \"eval\", \"config-eval_OFS_val-seed6-adj.yaml\")\n",
    "config_eval_heigvd_orig = os.path.join(projsoilsroot, \"config\", \"eval\", \"config-eval_heigvd-orig.yaml\")\n",
    "\n",
    "config_eval_heigvd_145k_mixed_10cm = os.path.join(projsoilsroot, \"config\", \"eval\", \"config-eval_heigvd-145k_mixed-10cm.yaml\")\n",
    "config_eval_heigvd_145k_mixed_20cm = os.path.join(projsoilsroot, \"config\", \"eval\", \"config-eval_heigvd-145k_mixed-20cm.yaml\")\n",
    "config_eval_heigvd_145k_mixed_40cm = os.path.join(projsoilsroot, \"config\", \"eval\", \"config-eval_heigvd-145k_mixed-40cm.yaml\")\n",
    "\n",
    "config_eval_heigvd_71k_10cm_10cm = os.path.join(projsoilsroot, \"config\", \"eval\", \"config-eval_heigvd-71k_10cm-10cm.yaml\")\n",
    "config_eval_heigvd_71k_10cm_20cm = os.path.join(projsoilsroot, \"config\", \"eval\", \"config-eval_heigvd-71k_10cm-20cm.yaml\")\n",
    "config_eval_heigvd_71k_10cm_40cm = os.path.join(projsoilsroot, \"config\", \"eval\", \"config-eval_heigvd-71k_10cm-40cm.yaml\")"
   ]
  },
  {
   "attachments": {},
   "cell_type": "markdown",
   "metadata": {},
   "source": [
    "## IGN"
   ]
  },
  {
   "cell_type": "code",
   "execution_count": null,
   "metadata": {},
   "outputs": [],
   "source": [
    "! python utilities/calculate_metrics.py --config_file {config_eval_IGN}"
   ]
  },
  {
   "attachments": {},
   "cell_type": "markdown",
   "metadata": {},
   "source": [
    "## OFS"
   ]
  },
  {
   "cell_type": "code",
   "execution_count": null,
   "metadata": {},
   "outputs": [],
   "source": [
    "! python utilities/calculate_metrics.py --config_file {config_eval_OFS_old_extents}"
   ]
  },
  {
   "cell_type": "code",
   "execution_count": null,
   "metadata": {},
   "outputs": [],
   "source": [
    "! python utilities/calculate_metrics.py --config_file {config_eval_OFS_val_seed6_adj}"
   ]
  },
  {
   "attachments": {},
   "cell_type": "markdown",
   "metadata": {},
   "source": [
    "## heig-vd"
   ]
  },
  {
   "cell_type": "code",
   "execution_count": null,
   "metadata": {},
   "outputs": [],
   "source": [
    "! python utilities/calculate_metrics.py --config_file {config_eval_heigvd_orig}"
   ]
  },
  {
   "cell_type": "markdown",
   "metadata": {},
   "source": [
    "## heig-vd finetuned (seed6-adjusted)"
   ]
  },
  {
   "cell_type": "markdown",
   "metadata": {},
   "source": [
    "### mixed-145k"
   ]
  },
  {
   "cell_type": "markdown",
   "metadata": {},
   "source": [
    "#### 10cm"
   ]
  },
  {
   "cell_type": "code",
   "execution_count": null,
   "metadata": {},
   "outputs": [],
   "source": [
    "! python utilities/calculate_metrics.py --config_file {config_eval_heigvd_145k_mixed_10cm}"
   ]
  },
  {
   "cell_type": "markdown",
   "metadata": {},
   "source": [
    "#### 20cm"
   ]
  },
  {
   "cell_type": "code",
   "execution_count": null,
   "metadata": {},
   "outputs": [],
   "source": [
    "! python utilities/calculate_metrics.py --config_file {config_eval_heigvd_145k_mixed_20cm}"
   ]
  },
  {
   "cell_type": "markdown",
   "metadata": {},
   "source": [
    "#### 40cm"
   ]
  },
  {
   "cell_type": "code",
   "execution_count": null,
   "metadata": {},
   "outputs": [],
   "source": [
    "! python utilities/calculate_metrics.py --config_file {config_eval_heigvd_145k_mixed_40cm}"
   ]
  },
  {
   "cell_type": "markdown",
   "metadata": {},
   "source": [
    "### 10cm_71k"
   ]
  },
  {
   "cell_type": "markdown",
   "metadata": {},
   "source": [
    "#### 10cm"
   ]
  },
  {
   "cell_type": "code",
   "execution_count": null,
   "metadata": {},
   "outputs": [],
   "source": [
    "! python utilities/calculate_metrics.py --config_file {config_eval_heigvd_71k_10cm_10cm}"
   ]
  },
  {
   "cell_type": "markdown",
   "metadata": {},
   "source": [
    "#### 20cm"
   ]
  },
  {
   "cell_type": "code",
   "execution_count": null,
   "metadata": {},
   "outputs": [],
   "source": [
    "! python utilities/calculate_metrics.py --config_file {config_eval_heigvd_71k_10cm_20cm}"
   ]
  },
  {
   "cell_type": "markdown",
   "metadata": {},
   "source": [
    "#### 40cm"
   ]
  },
  {
   "cell_type": "code",
   "execution_count": null,
   "metadata": {},
   "outputs": [],
   "source": [
    "! python utilities/calculate_metrics.py --config_file {config_eval_heigvd_71k_10cm_40cm}"
   ]
  }
 ],
 "metadata": {
  "kernelspec": {
   "display_name": "Python 3 (ipykernel)",
   "language": "python",
   "name": "python3"
  },
  "language_info": {
   "codemirror_mode": {
    "name": "ipython",
    "version": 3
   },
   "file_extension": ".py",
   "mimetype": "text/x-python",
   "name": "python",
   "nbconvert_exporter": "python",
   "pygments_lexer": "ipython3",
   "version": "3.11.3"
  },
  "vscode": {
   "interpreter": {
    "hash": "67c683be3b89053d7ca5cf9ab92fc1f76d72010376a6f7730bc4c074221af5a2"
   }
  }
 },
 "nbformat": 4,
 "nbformat_minor": 4
}
