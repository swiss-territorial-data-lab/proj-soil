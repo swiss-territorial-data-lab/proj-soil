{
 "cells": [
  {
   "attachments": {},
   "cell_type": "markdown",
   "metadata": {},
   "source": [
    "# Prepare GT for quantitative evaluation"
   ]
  },
  {
   "attachments": {},
   "cell_type": "markdown",
   "metadata": {},
   "source": [
    "## 1. Clean GT\n",
    "\n",
    "- Clean up spelling mistakes\n",
    "- Merge classes\n"
   ]
  },
  {
   "cell_type": "code",
   "execution_count": 35,
   "metadata": {},
   "outputs": [],
   "source": [
    "import geopandas as gpd\n",
    "\n",
    "import difflib\n",
    "import os\n",
    "import numpy as np\n",
    "\n",
    "from shapely.validation import explain_validity"
   ]
  },
  {
   "cell_type": "code",
   "execution_count": 36,
   "metadata": {},
   "outputs": [
    {
     "name": "stdout",
     "output_type": "stream",
     "text": [
      "The directory ../data/0-GT-BS/0-cleaned was created.\n"
     ]
    }
   ],
   "source": [
    "source_dir = \"../data/0-GT-BS/0-0-almost_raw/\"\n",
    "target_dir = \"../data/0-GT-BS/0-cleaned\"\n",
    "\n",
    "if not os.path.exists(target_dir):\n",
    "    os.makedirs(target_dir)\n",
    "    print(f\"The directory {target_dir} was created.\")"
   ]
  },
  {
   "attachments": {},
   "cell_type": "markdown",
   "metadata": {},
   "source": [
    "Get set (all_cats) of all the different class strings present"
   ]
  },
  {
   "cell_type": "code",
   "execution_count": 37,
   "metadata": {},
   "outputs": [
    {
     "name": "stdout",
     "output_type": "stream",
     "text": [
      "nancount = 0\n"
     ]
    }
   ],
   "source": [
    "nancount = 0\n",
    "\n",
    "all_cats = set()\n",
    "for root, dir, files in os.walk(source_dir):\n",
    "        for file in files:\n",
    "            if not file.endswith(\".gpkg\"):\n",
    "                continue\n",
    "                \n",
    "            gt = gpd.read_file(os.path.join(root, file))\n",
    "            # for cat in list(gt[\"CLASSE_SEN\"]):\n",
    "            for row in gt.iterrows():\n",
    "                cat = row[1][\"CLASSE_SEN\"]\n",
    "                all_cats.add(cat)\n",
    "\n",
    "                if not isinstance(cat, str):\n",
    "                    nancount += 1\n",
    "                    assert row[1][\"geometry\"] is None\n",
    "                \n",
    "                if not explain_validity(row[1][\"geometry\"]):\n",
    "                    print(file)\n",
    "\n",
    "                \n",
    "print(f'{nancount = }')"
   ]
  },
  {
   "cell_type": "code",
   "execution_count": 38,
   "metadata": {},
   "outputs": [
    {
     "name": "stdout",
     "output_type": "stream",
     "text": [
      "all_cats = {'eau_naturelle', 'sol_divers', 'batiment', 'surface_non_beton', 'sol_vegetalise', 'surface_beton'}\n"
     ]
    }
   ],
   "source": [
    "print(f'{all_cats = }')"
   ]
  },
  {
   "attachments": {},
   "cell_type": "markdown",
   "metadata": {},
   "source": [
    "### Get rid of typos and merge classes that are not present in IGN classes\n",
    "Use difflibs get_close_matches() to get close matches to the \"real\" \n",
    "categories and store them in as dictionary {(false) string: true string}"
   ]
  },
  {
   "cell_type": "code",
   "execution_count": 14,
   "metadata": {},
   "outputs": [
    {
     "ename": "AssertionError",
     "evalue": "",
     "output_type": "error",
     "traceback": [
      "\u001b[0;31m---------------------------------------------------------------------------\u001b[0m",
      "\u001b[0;31mAssertionError\u001b[0m                            Traceback (most recent call last)",
      "Cell \u001b[0;32mIn[14], line 27\u001b[0m\n\u001b[1;32m     24\u001b[0m     found_cats\u001b[38;5;241m.\u001b[39mextend(matches)\n\u001b[1;32m     26\u001b[0m \u001b[38;5;66;03m# assert that for all cats exactly one match has been found\u001b[39;00m\n\u001b[0;32m---> 27\u001b[0m \u001b[38;5;28;01massert\u001b[39;00m \u001b[38;5;28mlen\u001b[39m(found_cats) \u001b[38;5;241m==\u001b[39m \u001b[38;5;28mlen\u001b[39m(all_cats)\n",
      "\u001b[0;31mAssertionError\u001b[0m: "
     ]
    }
   ],
   "source": [
    "real_cats = [\"batiment\", \"eau_bassin\", \"eau_naturelle\", \"roche_dure_meuble\",\n",
    "    \"roseliere\", \"serre_permanente\", \"sol_agricole\", \"sol_bache\", \"sol_divers\",\n",
    "    \"sol_neige\", \"sol_serre_temporaire\", \"sol_vegetalise\", \"sol_vigne\",\n",
    "    \"surface_beton\", \"surface_non_beton\", \"surface_riparienne\", \"toit_vegetalise\"]\n",
    "\n",
    "all_cats = [cat for cat in all_cats if isinstance(cat, str)] \n",
    "all_cats = list(all_cats)\n",
    "\n",
    "if len(all_cats) == len(real_cats):\n",
    "    print(\"Classses seem to be consistent, no string matching required\") # CM: why this test insure that there is no typos ?\n",
    "    clean_dic = {cat: cat for cat in all_cats}\n",
    "\n",
    "else:\n",
    "    # filter out nans (are floats)\n",
    "    found_cats = []\n",
    "\n",
    "    clean_dic = {}\n",
    "    for real_cat in real_cats:\n",
    "        \n",
    "        matches = difflib.get_close_matches(real_cat, all_cats, n=5, cutoff=0.8)\n",
    "        for match in matches:\n",
    "            clean_dic[match] = real_cat\n",
    "\n",
    "        found_cats.extend(matches)\n",
    "\n",
    "    # assert that for all cats exactly one match has been found\n",
    "    assert len(found_cats) == len(all_cats)"
   ]
  },
  {
   "cell_type": "code",
   "execution_count": null,
   "metadata": {
    "editable": true,
    "slideshow": {
     "slide_type": ""
    },
    "tags": []
   },
   "outputs": [],
   "source": [
    "# merge_dic = {\n",
    "#     \"toit_vegetalise\": \"batiment\",\n",
    "#     \"roseliere\": \"eau\",\n",
    "#     \"terrain_de_sport\": \"terre_vegetalisee\",\n",
    "#     \"infrastructure\": \"revetement_impermeable\"\n",
    "# }\n",
    "\n",
    "# merge_dic = {\n",
    "#     \"toit_vegetalise\": \"batiment\",\n",
    "#     \"roche_dure_meuble\": \"surface_non_beton\",\n",
    "#     \"roseliere\": \"eau_naturelle\",\n",
    "#     \"sol_serre_temporaire\": \"serre_permanente\",\n",
    "#     \"sol_bache\": \"sol_agricole\",\n",
    "#     \"surface_riparienne\": \"sol_vegetalise\"\n",
    "#     # \"terrain_de_sport\": \"sol_vegetalise\",\n",
    "#     # \"eau_bassin\": \"eau_naturelle\",\n",
    "# }"
   ]
  },
  {
   "attachments": {},
   "cell_type": "markdown",
   "metadata": {},
   "source": [
    "Add new column with correct strings and merged classes"
   ]
  },
  {
   "cell_type": "code",
   "execution_count": 39,
   "metadata": {},
   "outputs": [],
   "source": [
    "# def clean(x):\n",
    "#     new = []\n",
    "#     for row in x[\"CLASSE_SEN\"]:\n",
    "#         if isinstance(row, float): # in case of nan (is a float)\n",
    "#             new.append(\"unknown\")\n",
    "#             continue\n",
    "#         new.append(clean_dic[row])\n",
    "#     return new\n",
    "\n",
    "# def merge(x):\n",
    "#     new = []\n",
    "#     # for row in x[\"CLEAN_CLASSE_SEN\"]:\n",
    "#     for row in x[\"CLASSE_SEN\"]:\n",
    "#         if row in merge_dic:\n",
    "#             new.append(merge_dic[row])\n",
    "#         else:\n",
    "#             new.append(row)\n",
    "#     return new\n",
    "\n",
    "class_mapping = {\n",
    "    np.nan: 0,\n",
    "    \"batiment\": 1,\n",
    "    \"toit_vegetalise\": 2,\n",
    "    \"surface_non_beton\": 3,\n",
    "    \"surface_beton\": 4,\n",
    "    \"eau_bassin\": 5,\n",
    "    \"roche_dure_meuble\": 6,\n",
    "    \"eau_naturelle\": 7,\n",
    "    \"roseliere\": 8,\n",
    "    \"sol_neige\": 9,\n",
    "    \"sol_vegetalise\": 10,\n",
    "    \"surface_riparienne\": 11,\n",
    "    \"sol_divers\": 12,\n",
    "    \"sol_vigne\": 13,\n",
    "    \"sol_agricole\": 14,\n",
    "    \"sol_bache\": 15,\n",
    "    \"sol_serre_temporaire\": 16,\n",
    "    \"serre_permanente\": 17\n",
    "}\n",
    "package_mapping = {\n",
    "    0: 0, 1: 1, 2: 1, 3: 2, 4: 3, 5: 4, 6: 5, 7: 6, 8: 6, 9: 7, 10: 8,\n",
    "    11: 8, 12: 8, 13: 9, 14: 10, 15: 10, 16: 10, 17: 11\n",
    "}\n",
    "\n",
    "soil_classes = [9, 10, 12, 13, 14, 15, 16]\n",
    "\n",
    "for root, dir, files in os.walk(source_dir):\n",
    "        for file in files:\n",
    "            if not file.endswith(\".gpkg\"):\n",
    "                continue\n",
    "            \n",
    "            # print(os.path.join(root, file))\n",
    "            gt = gpd.read_file(os.path.join(root, file))\n",
    "\n",
    "            # gt[\"CLEAN_CLASSE_SEN\"] = clean(gt)\n",
    "            # gt[\"CLEAN_CLASSE_SEN\"] = merge(gt)\n",
    "            \n",
    "            gt[\"CLASSE_SEN_ID\"] = gt.apply(\n",
    "                lambda x: class_mapping[x[\"CLASSE_SEN\"]], axis=1)\n",
    "            gt[\"SOIL\"] = gt.apply(\n",
    "                lambda x: x[\"CLASSE_SEN_ID\"] in soil_classes, axis=1)\n",
    "            gt[\"package_id\"] = gt.apply(\n",
    "                lambda x: package_mapping[x[\"CLASSE_SEN_ID\"]], axis=1)\n",
    "\n",
    "            \n",
    "            gt[\"geometry\"] = gt.make_valid()\n",
    "\n",
    "            gt = gt.dropna(subset = [\"CLASSE_SEN\"])\n",
    "            gt = gt.explode(index_parts=False)\n",
    "            gt = gt.loc[gt[\"geometry\"].geom_type=='Polygon']\n",
    "            gt.to_file(os.path.join(target_dir, file.rstrip(\".shp\")+\".gpkg\"))"
   ]
  },
  {
   "cell_type": "code",
   "execution_count": 40,
   "metadata": {},
   "outputs": [
    {
     "data": {
      "text/html": [
       "<div>\n",
       "<style scoped>\n",
       "    .dataframe tbody tr th:only-of-type {\n",
       "        vertical-align: middle;\n",
       "    }\n",
       "\n",
       "    .dataframe tbody tr th {\n",
       "        vertical-align: top;\n",
       "    }\n",
       "\n",
       "    .dataframe thead th {\n",
       "        text-align: right;\n",
       "    }\n",
       "</style>\n",
       "<table border=\"1\" class=\"dataframe\">\n",
       "  <thead>\n",
       "    <tr style=\"text-align: right;\">\n",
       "      <th></th>\n",
       "      <th>OBJID</th>\n",
       "      <th>ART_TXT</th>\n",
       "      <th>class_name</th>\n",
       "      <th>CLASSE_SEN</th>\n",
       "      <th>CLASSE_SEN_ID</th>\n",
       "      <th>SOIL</th>\n",
       "      <th>package_id</th>\n",
       "      <th>geometry</th>\n",
       "    </tr>\n",
       "  </thead>\n",
       "  <tbody>\n",
       "    <tr>\n",
       "      <th>0</th>\n",
       "      <td>1</td>\n",
       "      <td>Building</td>\n",
       "      <td>batiment</td>\n",
       "      <td>batiment</td>\n",
       "      <td>1</td>\n",
       "      <td>False</td>\n",
       "      <td>1</td>\n",
       "      <td>POLYGON ((2611035.276 1267869.836, 2611015.434...</td>\n",
       "    </tr>\n",
       "    <tr>\n",
       "      <th>1</th>\n",
       "      <td>2</td>\n",
       "      <td>Vegetated Soil</td>\n",
       "      <td>sol_vegetatlise</td>\n",
       "      <td>sol_vegetalise</td>\n",
       "      <td>10</td>\n",
       "      <td>True</td>\n",
       "      <td>8</td>\n",
       "      <td>POLYGON ((2611071.409 1267894.394, 2611078.314...</td>\n",
       "    </tr>\n",
       "    <tr>\n",
       "      <th>2</th>\n",
       "      <td>3</td>\n",
       "      <td>Vegetated Soil</td>\n",
       "      <td>sol_vegetatlise</td>\n",
       "      <td>sol_vegetalise</td>\n",
       "      <td>10</td>\n",
       "      <td>True</td>\n",
       "      <td>8</td>\n",
       "      <td>POLYGON ((2611084.509 1267900.341, 2611088.623...</td>\n",
       "    </tr>\n",
       "    <tr>\n",
       "      <th>3</th>\n",
       "      <td>4</td>\n",
       "      <td>Building</td>\n",
       "      <td>batiment</td>\n",
       "      <td>batiment</td>\n",
       "      <td>1</td>\n",
       "      <td>False</td>\n",
       "      <td>1</td>\n",
       "      <td>POLYGON ((2611105.582 1267891.213, 2611110.335...</td>\n",
       "    </tr>\n",
       "    <tr>\n",
       "      <th>4</th>\n",
       "      <td>5</td>\n",
       "      <td>Vegetated Soil</td>\n",
       "      <td>sol_vegetatlise</td>\n",
       "      <td>sol_vegetalise</td>\n",
       "      <td>10</td>\n",
       "      <td>True</td>\n",
       "      <td>8</td>\n",
       "      <td>POLYGON ((2611106.268 1267891.516, 2611107.127...</td>\n",
       "    </tr>\n",
       "  </tbody>\n",
       "</table>\n",
       "</div>"
      ],
      "text/plain": [
       "  OBJID         ART_TXT       class_name      CLASSE_SEN  CLASSE_SEN_ID  \\\n",
       "0     1        Building         batiment        batiment              1   \n",
       "1     2  Vegetated Soil  sol_vegetatlise  sol_vegetalise             10   \n",
       "2     3  Vegetated Soil  sol_vegetatlise  sol_vegetalise             10   \n",
       "3     4        Building         batiment        batiment              1   \n",
       "4     5  Vegetated Soil  sol_vegetatlise  sol_vegetalise             10   \n",
       "\n",
       "    SOIL  package_id                                           geometry  \n",
       "0  False           1  POLYGON ((2611035.276 1267869.836, 2611015.434...  \n",
       "1   True           8  POLYGON ((2611071.409 1267894.394, 2611078.314...  \n",
       "2   True           8  POLYGON ((2611084.509 1267900.341, 2611088.623...  \n",
       "3  False           1  POLYGON ((2611105.582 1267891.213, 2611110.335...  \n",
       "4   True           8  POLYGON ((2611106.268 1267891.516, 2611107.127...  "
      ]
     },
     "execution_count": 40,
     "metadata": {},
     "output_type": "execute_result"
    }
   ],
   "source": [
    "gt.head()"
   ]
  },
  {
   "attachments": {},
   "cell_type": "markdown",
   "metadata": {},
   "source": [
    "# 2. Rasterize"
   ]
  },
  {
   "cell_type": "code",
   "execution_count": 41,
   "metadata": {},
   "outputs": [
    {
     "name": "stdout",
     "output_type": "stream",
     "text": [
      "\u001b[32m2024-10-08 14:12:54.110\u001b[0m | \u001b[1mINFO    \u001b[0m | \u001b[36m__main__\u001b[0m:\u001b[36m<module>\u001b[0m:\u001b[36m125\u001b[0m - \u001b[1mLOG_FILE = '/proj-soils/logs/rasterize_gt.log'\u001b[0m\n",
      "\u001b[32m2024-10-08 14:12:54.110\u001b[0m | \u001b[1mINFO    \u001b[0m | \u001b[36m__main__\u001b[0m:\u001b[36m<module>\u001b[0m:\u001b[36m126\u001b[0m - \u001b[1mPOLYGON_FOLDER = '/proj-soils/data/0-GT-BS/0-cleaned/'\u001b[0m\n",
      "\u001b[32m2024-10-08 14:12:54.110\u001b[0m | \u001b[1mINFO    \u001b[0m | \u001b[36m__main__\u001b[0m:\u001b[36m<module>\u001b[0m:\u001b[36m127\u001b[0m - \u001b[1mFIELD = 'CLASSE_SEN'\u001b[0m\n",
      "\u001b[32m2024-10-08 14:12:54.110\u001b[0m | \u001b[1mINFO    \u001b[0m | \u001b[36m__main__\u001b[0m:\u001b[36m<module>\u001b[0m:\u001b[36m128\u001b[0m - \u001b[1mOUT_TIFF_FOLDER = '/proj-soils/data_vm_bis/'\u001b[0m\n",
      "\u001b[32m2024-10-08 14:12:54.111\u001b[0m | \u001b[1mINFO    \u001b[0m | \u001b[36m__main__\u001b[0m:\u001b[36m<module>\u001b[0m:\u001b[36m129\u001b[0m - \u001b[1mCLASS_MAPPING = {'batiment': 1, 'toit_vegetalise': 2, 'surface_non_beton': 3, 'surface_beton': 4, 'eau_bassin': 5, 'roche_dure_meuble': 6, 'eau_naturelle': 7, 'roseliere': 8, 'sol_neige': 9, 'sol_vegetalise': 10, 'surface_riparienne': 11, 'sol_divers': 12, 'sol_vigne': 13, 'sol_agricole': 14, 'sol_bache': 15, 'sol_serre_temporaire': 16, 'serre_permanente': 17}\u001b[0m\n",
      "\u001b[32m2024-10-08 14:12:54.111\u001b[0m | \u001b[1mINFO    \u001b[0m | \u001b[36m__main__\u001b[0m:\u001b[36m<module>\u001b[0m:\u001b[36m130\u001b[0m - \u001b[1mMASK_PATH = None\u001b[0m\n",
      "\u001b[32m2024-10-08 14:12:54.111\u001b[0m | \u001b[1mINFO    \u001b[0m | \u001b[36m__main__\u001b[0m:\u001b[36m<module>\u001b[0m:\u001b[36m132\u001b[0m - \u001b[1mStarted Programm\u001b[0m\n",
      "\u001b[32m2024-10-08 14:13:09.700\u001b[0m | \u001b[1mINFO    \u001b[0m | \u001b[36m__main__\u001b[0m:\u001b[36m<module>\u001b[0m:\u001b[36m134\u001b[0m - \u001b[1mEnded Program\n",
      "\u001b[0m\n"
     ]
    }
   ],
   "source": [
    "! python utilities/rasterize_gt.py --config_file ../config/eval/config-eval_gt.yaml"
   ]
  },
  {
   "attachments": {},
   "cell_type": "markdown",
   "metadata": {},
   "source": [
    "# 3. Reclassify"
   ]
  },
  {
   "cell_type": "code",
   "execution_count": null,
   "metadata": {},
   "outputs": [],
   "source": [
    "# Reclassify carefully depending on what future evaluation has to be done !"
   ]
  },
  {
   "cell_type": "code",
   "execution_count": 51,
   "metadata": {},
   "outputs": [
    {
     "name": "stdout",
     "output_type": "stream",
     "text": [
      "\u001b[32m2024-10-08 14:39:24.455\u001b[0m | \u001b[1mINFO    \u001b[0m | \u001b[36m__main__\u001b[0m:\u001b[36m<module>\u001b[0m:\u001b[36m84\u001b[0m - \u001b[1mSOURCE_FOLDER = '/proj-soils/data_vm_bis/aoi_basel/1-rasterized/'\u001b[0m\n",
      "\u001b[32m2024-10-08 14:39:24.456\u001b[0m | \u001b[1mINFO    \u001b[0m | \u001b[36m__main__\u001b[0m:\u001b[36m<module>\u001b[0m:\u001b[36m85\u001b[0m - \u001b[1mTARGET_FOLDER = '/proj-soils/data_vm_bis/aoi_basel/2-reclassified/'\u001b[0m\n",
      "\u001b[32m2024-10-08 14:39:24.456\u001b[0m | \u001b[1mINFO    \u001b[0m | \u001b[36m__main__\u001b[0m:\u001b[36m<module>\u001b[0m:\u001b[36m86\u001b[0m - \u001b[1mMAPPING = {0: 0, 1: 1, 2: 1, 3: 2, 4: 3, 5: 5, 6: 4, 7: 5, 8: 6, 9: 7, 10: 8, 11: 8, 12: 9, 13: 10, 14: 11, 15: 12, 16: 12, 17: 1}\u001b[0m\n",
      "\u001b[32m2024-10-08 14:39:24.456\u001b[0m | \u001b[1mINFO    \u001b[0m | \u001b[36m__main__\u001b[0m:\u001b[36m<module>\u001b[0m:\u001b[36m87\u001b[0m - \u001b[1mLOG_FILE = '/proj-soils/logs/reclassify.log'\u001b[0m\n",
      "\u001b[32m2024-10-08 14:39:24.456\u001b[0m | \u001b[1mINFO    \u001b[0m | \u001b[36m__main__\u001b[0m:\u001b[36m<module>\u001b[0m:\u001b[36m89\u001b[0m - \u001b[1mStarted Programm\u001b[0m\n",
      "\u001b[32m2024-10-08 14:39:24.456\u001b[0m | \u001b[1mINFO    \u001b[0m | \u001b[36m__main__\u001b[0m:\u001b[36mreclassify\u001b[0m:\u001b[36m38\u001b[0m - \u001b[1mReclassifying GT_Soil_BS_STDL_V3.tif\u001b[0m\n",
      "\u001b[32m2024-10-08 14:39:40.802\u001b[0m | \u001b[1mINFO    \u001b[0m | \u001b[36m__main__\u001b[0m:\u001b[36m<module>\u001b[0m:\u001b[36m91\u001b[0m - \u001b[1mEnded Program\n",
      "\u001b[0m\n"
     ]
    }
   ],
   "source": [
    "! python utilities/reclassify.py --config_file ../config/eval/config-eval_gt.yaml"
   ]
  },
  {
   "attachments": {},
   "cell_type": "markdown",
   "metadata": {},
   "source": [
    "# 4. Cut tiff to predefined grid of Daniel"
   ]
  },
  {
   "cell_type": "code",
   "execution_count": 53,
   "metadata": {},
   "outputs": [
    {
     "name": "stdout",
     "output_type": "stream",
     "text": [
      "\u001b[32m2024-10-08 14:40:34.110\u001b[0m | \u001b[1mINFO    \u001b[0m | \u001b[36m__main__\u001b[0m:\u001b[36m<module>\u001b[0m:\u001b[36m263\u001b[0m - \u001b[1mTIFF_FOLDER = '/proj-soils/data_vm_bis/aoi_basel/2-reclassified/'\u001b[0m\n",
      "\u001b[32m2024-10-08 14:40:34.110\u001b[0m | \u001b[1mINFO    \u001b[0m | \u001b[36m__main__\u001b[0m:\u001b[36m<module>\u001b[0m:\u001b[36m264\u001b[0m - \u001b[1mOUT_FOLDER = '/proj-soils/data_vm_bis/aoi_basel/3-cut/'\u001b[0m\n",
      "\u001b[32m2024-10-08 14:40:34.111\u001b[0m | \u001b[1mINFO    \u001b[0m | \u001b[36m__main__\u001b[0m:\u001b[36m<module>\u001b[0m:\u001b[36m265\u001b[0m - \u001b[1mGRID_PATH = '/proj-soils/data_vm_bis/aoi_basel/tiles_51.2_0_0.shp'\u001b[0m\n",
      "\u001b[32m2024-10-08 14:40:34.111\u001b[0m | \u001b[1mINFO    \u001b[0m | \u001b[36m__main__\u001b[0m:\u001b[36m<module>\u001b[0m:\u001b[36m266\u001b[0m - \u001b[1mGRID_QUERY = None\u001b[0m\n",
      "\u001b[32m2024-10-08 14:40:34.111\u001b[0m | \u001b[1mINFO    \u001b[0m | \u001b[36m__main__\u001b[0m:\u001b[36m<module>\u001b[0m:\u001b[36m267\u001b[0m - \u001b[1mCELL_LENGTH = 512\u001b[0m\n",
      "\u001b[32m2024-10-08 14:40:34.111\u001b[0m | \u001b[1mINFO    \u001b[0m | \u001b[36m__main__\u001b[0m:\u001b[36m<module>\u001b[0m:\u001b[36m268\u001b[0m - \u001b[1mID_COLUMN = 'RN'\u001b[0m\n",
      "\u001b[32m2024-10-08 14:40:34.111\u001b[0m | \u001b[1mINFO    \u001b[0m | \u001b[36m__main__\u001b[0m:\u001b[36m<module>\u001b[0m:\u001b[36m269\u001b[0m - \u001b[1mLOG_FILE = '/proj-soils/logs/cut_tiff_to_grid.log'\u001b[0m\n",
      "\u001b[32m2024-10-08 14:40:34.111\u001b[0m | \u001b[1mINFO    \u001b[0m | \u001b[36m__main__\u001b[0m:\u001b[36m<module>\u001b[0m:\u001b[36m270\u001b[0m - \u001b[1mMASK_PATH = None\u001b[0m\n",
      "\u001b[32m2024-10-08 14:40:34.111\u001b[0m | \u001b[1mINFO    \u001b[0m | \u001b[36m__main__\u001b[0m:\u001b[36m<module>\u001b[0m:\u001b[36m275\u001b[0m - \u001b[1mStarted Programm\u001b[0m\n",
      "len(grid) = 42\n",
      "\u001b[32m2024-10-08 14:40:34.188\u001b[0m | \u001b[1mINFO    \u001b[0m | \u001b[36m__main__\u001b[0m:\u001b[36mcut_tiff_to_grid\u001b[0m:\u001b[36m91\u001b[0m - \u001b[1mfile = 'GT_Soil_BS_STDL_V3.tif'\u001b[0m\n",
      "\u001b[32m2024-10-08 14:40:34.189\u001b[0m | \u001b[1mINFO    \u001b[0m | \u001b[36m__main__\u001b[0m:\u001b[36mcut_tiff_to_grid\u001b[0m:\u001b[36m92\u001b[0m - \u001b[1m42 gridcells on tiff-extent\u001b[0m\n",
      "\u001b[32m2024-10-08 14:40:34.620\u001b[0m | \u001b[1mINFO    \u001b[0m | \u001b[36m__main__\u001b[0m:\u001b[36m<module>\u001b[0m:\u001b[36m277\u001b[0m - \u001b[1mEnded Program 0.5089230537414551 s\n",
      "\u001b[0m\n"
     ]
    }
   ],
   "source": [
    "! python utilities/cut_tiff_to_grid.py --config_file ../config/eval/config-eval_gt.yaml"
   ]
  },
  {
   "cell_type": "markdown",
   "metadata": {},
   "source": [
    "# 5. Rescale GT ?"
   ]
  },
  {
   "cell_type": "markdown",
   "metadata": {},
   "source": [
    "# 6. Addition by CM"
   ]
  },
  {
   "cell_type": "code",
   "execution_count": 54,
   "metadata": {},
   "outputs": [],
   "source": [
    "! python utilities/cut_border.py --config_file ../config/config-utilities.yaml"
   ]
  },
  {
   "cell_type": "code",
   "execution_count": 6,
   "metadata": {},
   "outputs": [
    {
     "name": "stdout",
     "output_type": "stream",
     "text": [
      "\u001b[32m2024-10-08 15:08:27.704\u001b[0m |                    \u001b[1mINFO    \u001b[0m | \u001b[36m<module>\u001b[0m                    :\u001b[36m617\u001b[0m - \u001b[1mPRED_FOLDER = '/proj-soils/data_vm_bis/aoi_basel/cut/'\u001b[0m\n",
      "\u001b[32m2024-10-08 15:08:27.704\u001b[0m |                    \u001b[1mINFO    \u001b[0m | \u001b[36m<module>\u001b[0m                    :\u001b[36m618\u001b[0m - \u001b[1mGT_FOLDER = '/proj-soils/data_vm_bis/aoi_basel/4-cut-border/'\u001b[0m\n",
      "\u001b[32m2024-10-08 15:08:27.705\u001b[0m |                    \u001b[1mINFO    \u001b[0m | \u001b[36m<module>\u001b[0m                    :\u001b[36m619\u001b[0m - \u001b[1mCONF_MATRIX_MODEL = ''\u001b[0m\n",
      "\u001b[32m2024-10-08 15:08:27.705\u001b[0m |                    \u001b[1mINFO    \u001b[0m | \u001b[36m<module>\u001b[0m                    :\u001b[36m620\u001b[0m - \u001b[1mCLASSES = ['batiment', 'surface_non_beton', 'surface_beton', 'roche_dure_meuble', 'eau_naturelle', 'roseliere', 'sol_neige', 'sol_vegetalise', 'sol_divers', 'sol_vigne', 'sol_agricole', 'sol_bache']\u001b[0m\n",
      "\u001b[32m2024-10-08 15:08:27.705\u001b[0m |                    \u001b[1mINFO    \u001b[0m | \u001b[36m<module>\u001b[0m                    :\u001b[36m621\u001b[0m - \u001b[1mCREATE_CM = True\u001b[0m\n",
      "\u001b[32m2024-10-08 15:08:27.705\u001b[0m |                    \u001b[1mINFO    \u001b[0m | \u001b[36m<module>\u001b[0m                    :\u001b[36m622\u001b[0m - \u001b[1mSAME_NAMES = False\u001b[0m\n",
      "\u001b[32m2024-10-08 15:08:27.705\u001b[0m |                    \u001b[1mINFO    \u001b[0m | \u001b[36m<module>\u001b[0m                    :\u001b[36m623\u001b[0m - \u001b[1mMETRIC_CSV_PATH_MULTICLASS = '/proj-soils/csv/metrics/metrics_heigvd-mixed-145k-10cm_mc_bs_2020.csv'\u001b[0m\n",
      "\u001b[32m2024-10-08 15:08:27.705\u001b[0m |                    \u001b[1mINFO    \u001b[0m | \u001b[36m<module>\u001b[0m                    :\u001b[36m624\u001b[0m - \u001b[1mMETRIC_CSV_PATH_BINARY = '/proj-soils/csv/metrics/metrics_heigvd-mixed-145k-10cm_bn_bs_2020.csv'\u001b[0m\n",
      "\u001b[32m2024-10-08 15:08:27.705\u001b[0m |                    \u001b[1mINFO    \u001b[0m | \u001b[36m<module>\u001b[0m                    :\u001b[36m625\u001b[0m - \u001b[1mCOUNT_CSV_PATH_MULTICLASS = '/proj-soils/csv/counts/counts_heigvd-mixed-145k-10cm_mc_bs_2020.csv'\u001b[0m\n",
      "\u001b[32m2024-10-08 15:08:27.705\u001b[0m |                    \u001b[1mINFO    \u001b[0m | \u001b[36m<module>\u001b[0m                    :\u001b[36m626\u001b[0m - \u001b[1mCOUNT_CSV_PATH_BINARY = '/proj-soils/csv/counts/counts_heigvd-mixed-145k-10cm_bn_bs_2020.csv'\u001b[0m\n",
      "\u001b[32m2024-10-08 15:08:27.705\u001b[0m |                    \u001b[1mINFO    \u001b[0m | \u001b[36m<module>\u001b[0m                    :\u001b[36m627\u001b[0m - \u001b[1mCONF_MATRIX_PATH_MULTICLASS = '/proj-soils/figures/conf_matrices/cm_heigvd-mixed-145k-10cm_mc_bs_2020.png'\u001b[0m\n",
      "\u001b[32m2024-10-08 15:08:27.706\u001b[0m |                    \u001b[1mINFO    \u001b[0m | \u001b[36m<module>\u001b[0m                    :\u001b[36m628\u001b[0m - \u001b[1mCONF_MATRIX_PATH_BINARY = '/proj-soils/figures/conf_matrices/cm_heigvd-mixed-145k-10cm_bn_bs_2020.png'\u001b[0m\n",
      "\u001b[32m2024-10-08 15:08:27.706\u001b[0m |                    \u001b[1mINFO    \u001b[0m | \u001b[36m<module>\u001b[0m                    :\u001b[36m629\u001b[0m - \u001b[1mEXCLUDE_IDS = []\u001b[0m\n",
      "\u001b[32m2024-10-08 15:08:27.706\u001b[0m |                    \u001b[1mINFO    \u001b[0m | \u001b[36m<module>\u001b[0m                    :\u001b[36m630\u001b[0m - \u001b[1mLOG_FILE = '/proj-soils/logs/calculate_metrics.log'\u001b[0m\n",
      "\u001b[32m2024-10-08 15:08:27.706\u001b[0m |                    \u001b[1mINFO    \u001b[0m | \u001b[36m<module>\u001b[0m                    :\u001b[36m633\u001b[0m - \u001b[1mStarted Programm\u001b[0m\n",
      "\u001b[32m2024-10-08 15:08:27.706\u001b[0m |                    \u001b[1mINFO    \u001b[0m | \u001b[36mcalculate_metrics\u001b[0m                    :\u001b[36m123\u001b[0m - \u001b[1m1.tif being processed... \u001b[0m\n",
      "\u001b[32m2024-10-08 15:08:27.706\u001b[0m |                    \u001b[1mINFO    \u001b[0m | \u001b[36mcalculate_metrics\u001b[0m                    :\u001b[36m125\u001b[0m - \u001b[1m1/42\u001b[0m\n",
      "\u001b[32m2024-10-08 15:08:28.352\u001b[0m |                    \u001b[1mINFO    \u001b[0m | \u001b[36mcalculate_metrics\u001b[0m                    :\u001b[36m123\u001b[0m - \u001b[1m42.tif being processed... \u001b[0m\n",
      "\u001b[32m2024-10-08 15:08:28.353\u001b[0m |                    \u001b[1mINFO    \u001b[0m | \u001b[36mcalculate_metrics\u001b[0m                    :\u001b[36m125\u001b[0m - \u001b[1m2/42\u001b[0m\n",
      "\u001b[32m2024-10-08 15:08:28.979\u001b[0m |                    \u001b[1mINFO    \u001b[0m | \u001b[36mcalculate_metrics\u001b[0m                    :\u001b[36m123\u001b[0m - \u001b[1m10.tif being processed... \u001b[0m\n",
      "\u001b[32m2024-10-08 15:08:28.979\u001b[0m |                    \u001b[1mINFO    \u001b[0m | \u001b[36mcalculate_metrics\u001b[0m                    :\u001b[36m125\u001b[0m - \u001b[1m3/42\u001b[0m\n",
      "\u001b[32m2024-10-08 15:08:29.607\u001b[0m |                    \u001b[1mINFO    \u001b[0m | \u001b[36mcalculate_metrics\u001b[0m                    :\u001b[36m123\u001b[0m - \u001b[1m23.tif being processed... \u001b[0m\n",
      "\u001b[32m2024-10-08 15:08:29.608\u001b[0m |                    \u001b[1mINFO    \u001b[0m | \u001b[36mcalculate_metrics\u001b[0m                    :\u001b[36m125\u001b[0m - \u001b[1m4/42\u001b[0m\n",
      "\u001b[32m2024-10-08 15:08:30.234\u001b[0m |                    \u001b[1mINFO    \u001b[0m | \u001b[36mcalculate_metrics\u001b[0m                    :\u001b[36m123\u001b[0m - \u001b[1m11.tif being processed... \u001b[0m\n",
      "\u001b[32m2024-10-08 15:08:30.234\u001b[0m |                    \u001b[1mINFO    \u001b[0m | \u001b[36mcalculate_metrics\u001b[0m                    :\u001b[36m125\u001b[0m - \u001b[1m5/42\u001b[0m\n",
      "\u001b[32m2024-10-08 15:08:30.863\u001b[0m |                    \u001b[1mINFO    \u001b[0m | \u001b[36mcalculate_metrics\u001b[0m                    :\u001b[36m123\u001b[0m - \u001b[1m35.tif being processed... \u001b[0m\n",
      "\u001b[32m2024-10-08 15:08:30.863\u001b[0m |                    \u001b[1mINFO    \u001b[0m | \u001b[36mcalculate_metrics\u001b[0m                    :\u001b[36m125\u001b[0m - \u001b[1m6/42\u001b[0m\n",
      "\u001b[32m2024-10-08 15:08:31.503\u001b[0m |                    \u001b[1mINFO    \u001b[0m | \u001b[36mcalculate_metrics\u001b[0m                    :\u001b[36m123\u001b[0m - \u001b[1m25.tif being processed... \u001b[0m\n",
      "\u001b[32m2024-10-08 15:08:31.503\u001b[0m |                    \u001b[1mINFO    \u001b[0m | \u001b[36mcalculate_metrics\u001b[0m                    :\u001b[36m125\u001b[0m - \u001b[1m7/42\u001b[0m\n",
      "\u001b[32m2024-10-08 15:08:32.129\u001b[0m |                    \u001b[1mINFO    \u001b[0m | \u001b[36mcalculate_metrics\u001b[0m                    :\u001b[36m123\u001b[0m - \u001b[1m7.tif being processed... \u001b[0m\n",
      "\u001b[32m2024-10-08 15:08:32.130\u001b[0m |                    \u001b[1mINFO    \u001b[0m | \u001b[36mcalculate_metrics\u001b[0m                    :\u001b[36m125\u001b[0m - \u001b[1m8/42\u001b[0m\n",
      "\u001b[32m2024-10-08 15:08:32.766\u001b[0m |                    \u001b[1mINFO    \u001b[0m | \u001b[36mcalculate_metrics\u001b[0m                    :\u001b[36m123\u001b[0m - \u001b[1m6.tif being processed... \u001b[0m\n",
      "\u001b[32m2024-10-08 15:08:32.767\u001b[0m |                    \u001b[1mINFO    \u001b[0m | \u001b[36mcalculate_metrics\u001b[0m                    :\u001b[36m125\u001b[0m - \u001b[1m9/42\u001b[0m\n",
      "\u001b[32m2024-10-08 15:08:33.403\u001b[0m |                    \u001b[1mINFO    \u001b[0m | \u001b[36mcalculate_metrics\u001b[0m                    :\u001b[36m123\u001b[0m - \u001b[1m30.tif being processed... \u001b[0m\n",
      "\u001b[32m2024-10-08 15:08:33.404\u001b[0m |                    \u001b[1mINFO    \u001b[0m | \u001b[36mcalculate_metrics\u001b[0m                    :\u001b[36m125\u001b[0m - \u001b[1m10/42\u001b[0m\n",
      "\u001b[32m2024-10-08 15:08:34.031\u001b[0m |                    \u001b[1mINFO    \u001b[0m | \u001b[36mcalculate_metrics\u001b[0m                    :\u001b[36m123\u001b[0m - \u001b[1m17.tif being processed... \u001b[0m\n",
      "\u001b[32m2024-10-08 15:08:34.031\u001b[0m |                    \u001b[1mINFO    \u001b[0m | \u001b[36mcalculate_metrics\u001b[0m                    :\u001b[36m125\u001b[0m - \u001b[1m11/42\u001b[0m\n",
      "\u001b[32m2024-10-08 15:08:34.664\u001b[0m |                    \u001b[1mINFO    \u001b[0m | \u001b[36mcalculate_metrics\u001b[0m                    :\u001b[36m123\u001b[0m - \u001b[1m39.tif being processed... \u001b[0m\n",
      "\u001b[32m2024-10-08 15:08:34.665\u001b[0m |                    \u001b[1mINFO    \u001b[0m | \u001b[36mcalculate_metrics\u001b[0m                    :\u001b[36m125\u001b[0m - \u001b[1m12/42\u001b[0m\n",
      "\u001b[32m2024-10-08 15:08:35.290\u001b[0m |                    \u001b[1mINFO    \u001b[0m | \u001b[36mcalculate_metrics\u001b[0m                    :\u001b[36m123\u001b[0m - \u001b[1m31.tif being processed... \u001b[0m\n",
      "\u001b[32m2024-10-08 15:08:35.290\u001b[0m |                    \u001b[1mINFO    \u001b[0m | \u001b[36mcalculate_metrics\u001b[0m                    :\u001b[36m125\u001b[0m - \u001b[1m13/42\u001b[0m\n",
      "\u001b[32m2024-10-08 15:08:35.921\u001b[0m |                    \u001b[1mINFO    \u001b[0m | \u001b[36mcalculate_metrics\u001b[0m                    :\u001b[36m123\u001b[0m - \u001b[1m40.tif being processed... \u001b[0m\n",
      "\u001b[32m2024-10-08 15:08:35.921\u001b[0m |                    \u001b[1mINFO    \u001b[0m | \u001b[36mcalculate_metrics\u001b[0m                    :\u001b[36m125\u001b[0m - \u001b[1m14/42\u001b[0m\n",
      "\u001b[32m2024-10-08 15:08:36.550\u001b[0m |                    \u001b[1mINFO    \u001b[0m | \u001b[36mcalculate_metrics\u001b[0m                    :\u001b[36m123\u001b[0m - \u001b[1m34.tif being processed... \u001b[0m\n",
      "\u001b[32m2024-10-08 15:08:36.551\u001b[0m |                    \u001b[1mINFO    \u001b[0m | \u001b[36mcalculate_metrics\u001b[0m                    :\u001b[36m125\u001b[0m - \u001b[1m15/42\u001b[0m\n",
      "\u001b[32m2024-10-08 15:08:37.179\u001b[0m |                    \u001b[1mINFO    \u001b[0m | \u001b[36mcalculate_metrics\u001b[0m                    :\u001b[36m123\u001b[0m - \u001b[1m24.tif being processed... \u001b[0m\n",
      "\u001b[32m2024-10-08 15:08:37.180\u001b[0m |                    \u001b[1mINFO    \u001b[0m | \u001b[36mcalculate_metrics\u001b[0m                    :\u001b[36m125\u001b[0m - \u001b[1m16/42\u001b[0m\n",
      "\u001b[32m2024-10-08 15:08:37.813\u001b[0m |                    \u001b[1mINFO    \u001b[0m | \u001b[36mcalculate_metrics\u001b[0m                    :\u001b[36m123\u001b[0m - \u001b[1m36.tif being processed... \u001b[0m\n",
      "\u001b[32m2024-10-08 15:08:37.814\u001b[0m |                    \u001b[1mINFO    \u001b[0m | \u001b[36mcalculate_metrics\u001b[0m                    :\u001b[36m125\u001b[0m - \u001b[1m17/42\u001b[0m\n",
      "\u001b[32m2024-10-08 15:08:38.446\u001b[0m |                    \u001b[1mINFO    \u001b[0m | \u001b[36mcalculate_metrics\u001b[0m                    :\u001b[36m123\u001b[0m - \u001b[1m28.tif being processed... \u001b[0m\n",
      "\u001b[32m2024-10-08 15:08:38.447\u001b[0m |                    \u001b[1mINFO    \u001b[0m | \u001b[36mcalculate_metrics\u001b[0m                    :\u001b[36m125\u001b[0m - \u001b[1m18/42\u001b[0m\n",
      "\u001b[32m2024-10-08 15:08:39.076\u001b[0m |                    \u001b[1mINFO    \u001b[0m | \u001b[36mcalculate_metrics\u001b[0m                    :\u001b[36m123\u001b[0m - \u001b[1m21.tif being processed... \u001b[0m\n",
      "\u001b[32m2024-10-08 15:08:39.077\u001b[0m |                    \u001b[1mINFO    \u001b[0m | \u001b[36mcalculate_metrics\u001b[0m                    :\u001b[36m125\u001b[0m - \u001b[1m19/42\u001b[0m\n",
      "\u001b[32m2024-10-08 15:08:39.709\u001b[0m |                    \u001b[1mINFO    \u001b[0m | \u001b[36mcalculate_metrics\u001b[0m                    :\u001b[36m123\u001b[0m - \u001b[1m20.tif being processed... \u001b[0m\n",
      "\u001b[32m2024-10-08 15:08:39.709\u001b[0m |                    \u001b[1mINFO    \u001b[0m | \u001b[36mcalculate_metrics\u001b[0m                    :\u001b[36m125\u001b[0m - \u001b[1m20/42\u001b[0m\n",
      "\u001b[32m2024-10-08 15:08:40.346\u001b[0m |                    \u001b[1mINFO    \u001b[0m | \u001b[36mcalculate_metrics\u001b[0m                    :\u001b[36m123\u001b[0m - \u001b[1m26.tif being processed... \u001b[0m\n",
      "\u001b[32m2024-10-08 15:08:40.347\u001b[0m |                    \u001b[1mINFO    \u001b[0m | \u001b[36mcalculate_metrics\u001b[0m                    :\u001b[36m125\u001b[0m - \u001b[1m21/42\u001b[0m\n",
      "\u001b[32m2024-10-08 15:08:40.977\u001b[0m |                    \u001b[1mINFO    \u001b[0m | \u001b[36mcalculate_metrics\u001b[0m                    :\u001b[36m123\u001b[0m - \u001b[1m38.tif being processed... \u001b[0m\n",
      "\u001b[32m2024-10-08 15:08:40.978\u001b[0m |                    \u001b[1mINFO    \u001b[0m | \u001b[36mcalculate_metrics\u001b[0m                    :\u001b[36m125\u001b[0m - \u001b[1m22/42\u001b[0m\n",
      "\u001b[32m2024-10-08 15:08:41.610\u001b[0m |                    \u001b[1mINFO    \u001b[0m | \u001b[36mcalculate_metrics\u001b[0m                    :\u001b[36m123\u001b[0m - \u001b[1m15.tif being processed... \u001b[0m\n",
      "\u001b[32m2024-10-08 15:08:41.611\u001b[0m |                    \u001b[1mINFO    \u001b[0m | \u001b[36mcalculate_metrics\u001b[0m                    :\u001b[36m125\u001b[0m - \u001b[1m23/42\u001b[0m\n",
      "\u001b[32m2024-10-08 15:08:42.241\u001b[0m |                    \u001b[1mINFO    \u001b[0m | \u001b[36mcalculate_metrics\u001b[0m                    :\u001b[36m123\u001b[0m - \u001b[1m3.tif being processed... \u001b[0m\n",
      "\u001b[32m2024-10-08 15:08:42.241\u001b[0m |                    \u001b[1mINFO    \u001b[0m | \u001b[36mcalculate_metrics\u001b[0m                    :\u001b[36m125\u001b[0m - \u001b[1m24/42\u001b[0m\n",
      "\u001b[32m2024-10-08 15:08:42.874\u001b[0m |                    \u001b[1mINFO    \u001b[0m | \u001b[36mcalculate_metrics\u001b[0m                    :\u001b[36m123\u001b[0m - \u001b[1m13.tif being processed... \u001b[0m\n",
      "\u001b[32m2024-10-08 15:08:42.875\u001b[0m |                    \u001b[1mINFO    \u001b[0m | \u001b[36mcalculate_metrics\u001b[0m                    :\u001b[36m125\u001b[0m - \u001b[1m25/42\u001b[0m\n",
      "\u001b[32m2024-10-08 15:08:43.501\u001b[0m |                    \u001b[1mINFO    \u001b[0m | \u001b[36mcalculate_metrics\u001b[0m                    :\u001b[36m123\u001b[0m - \u001b[1m2.tif being processed... \u001b[0m\n",
      "\u001b[32m2024-10-08 15:08:43.501\u001b[0m |                    \u001b[1mINFO    \u001b[0m | \u001b[36mcalculate_metrics\u001b[0m                    :\u001b[36m125\u001b[0m - \u001b[1m26/42\u001b[0m\n",
      "\u001b[32m2024-10-08 15:08:44.166\u001b[0m |                    \u001b[1mINFO    \u001b[0m | \u001b[36mcalculate_metrics\u001b[0m                    :\u001b[36m123\u001b[0m - \u001b[1m4.tif being processed... \u001b[0m\n",
      "\u001b[32m2024-10-08 15:08:44.167\u001b[0m |                    \u001b[1mINFO    \u001b[0m | \u001b[36mcalculate_metrics\u001b[0m                    :\u001b[36m125\u001b[0m - \u001b[1m27/42\u001b[0m\n",
      "\u001b[32m2024-10-08 15:08:44.835\u001b[0m |                    \u001b[1mINFO    \u001b[0m | \u001b[36mcalculate_metrics\u001b[0m                    :\u001b[36m123\u001b[0m - \u001b[1m9.tif being processed... \u001b[0m\n",
      "\u001b[32m2024-10-08 15:08:44.836\u001b[0m |                    \u001b[1mINFO    \u001b[0m | \u001b[36mcalculate_metrics\u001b[0m                    :\u001b[36m125\u001b[0m - \u001b[1m28/42\u001b[0m\n",
      "\u001b[32m2024-10-08 15:08:45.471\u001b[0m |                    \u001b[1mINFO    \u001b[0m | \u001b[36mcalculate_metrics\u001b[0m                    :\u001b[36m123\u001b[0m - \u001b[1m29.tif being processed... \u001b[0m\n",
      "\u001b[32m2024-10-08 15:08:45.472\u001b[0m |                    \u001b[1mINFO    \u001b[0m | \u001b[36mcalculate_metrics\u001b[0m                    :\u001b[36m125\u001b[0m - \u001b[1m29/42\u001b[0m\n",
      "\u001b[32m2024-10-08 15:08:46.098\u001b[0m |                    \u001b[1mINFO    \u001b[0m | \u001b[36mcalculate_metrics\u001b[0m                    :\u001b[36m123\u001b[0m - \u001b[1m33.tif being processed... \u001b[0m\n",
      "\u001b[32m2024-10-08 15:08:46.099\u001b[0m |                    \u001b[1mINFO    \u001b[0m | \u001b[36mcalculate_metrics\u001b[0m                    :\u001b[36m125\u001b[0m - \u001b[1m30/42\u001b[0m\n",
      "\u001b[32m2024-10-08 15:08:46.737\u001b[0m |                    \u001b[1mINFO    \u001b[0m | \u001b[36mcalculate_metrics\u001b[0m                    :\u001b[36m123\u001b[0m - \u001b[1m41.tif being processed... \u001b[0m\n",
      "\u001b[32m2024-10-08 15:08:46.738\u001b[0m |                    \u001b[1mINFO    \u001b[0m | \u001b[36mcalculate_metrics\u001b[0m                    :\u001b[36m125\u001b[0m - \u001b[1m31/42\u001b[0m\n",
      "\u001b[32m2024-10-08 15:08:47.393\u001b[0m |                    \u001b[1mINFO    \u001b[0m | \u001b[36mcalculate_metrics\u001b[0m                    :\u001b[36m123\u001b[0m - \u001b[1m37.tif being processed... \u001b[0m\n",
      "\u001b[32m2024-10-08 15:08:47.394\u001b[0m |                    \u001b[1mINFO    \u001b[0m | \u001b[36mcalculate_metrics\u001b[0m                    :\u001b[36m125\u001b[0m - \u001b[1m32/42\u001b[0m\n",
      "\u001b[32m2024-10-08 15:08:48.023\u001b[0m |                    \u001b[1mINFO    \u001b[0m | \u001b[36mcalculate_metrics\u001b[0m                    :\u001b[36m123\u001b[0m - \u001b[1m32.tif being processed... \u001b[0m\n",
      "\u001b[32m2024-10-08 15:08:48.023\u001b[0m |                    \u001b[1mINFO    \u001b[0m | \u001b[36mcalculate_metrics\u001b[0m                    :\u001b[36m125\u001b[0m - \u001b[1m33/42\u001b[0m\n",
      "\u001b[32m2024-10-08 15:08:48.655\u001b[0m |                    \u001b[1mINFO    \u001b[0m | \u001b[36mcalculate_metrics\u001b[0m                    :\u001b[36m123\u001b[0m - \u001b[1m18.tif being processed... \u001b[0m\n",
      "\u001b[32m2024-10-08 15:08:48.656\u001b[0m |                    \u001b[1mINFO    \u001b[0m | \u001b[36mcalculate_metrics\u001b[0m                    :\u001b[36m125\u001b[0m - \u001b[1m34/42\u001b[0m\n",
      "\u001b[32m2024-10-08 15:08:49.288\u001b[0m |                    \u001b[1mINFO    \u001b[0m | \u001b[36mcalculate_metrics\u001b[0m                    :\u001b[36m123\u001b[0m - \u001b[1m12.tif being processed... \u001b[0m\n",
      "\u001b[32m2024-10-08 15:08:49.289\u001b[0m |                    \u001b[1mINFO    \u001b[0m | \u001b[36mcalculate_metrics\u001b[0m                    :\u001b[36m125\u001b[0m - \u001b[1m35/42\u001b[0m\n",
      "\u001b[32m2024-10-08 15:08:49.920\u001b[0m |                    \u001b[1mINFO    \u001b[0m | \u001b[36mcalculate_metrics\u001b[0m                    :\u001b[36m123\u001b[0m - \u001b[1m19.tif being processed... \u001b[0m\n",
      "\u001b[32m2024-10-08 15:08:49.921\u001b[0m |                    \u001b[1mINFO    \u001b[0m | \u001b[36mcalculate_metrics\u001b[0m                    :\u001b[36m125\u001b[0m - \u001b[1m36/42\u001b[0m\n",
      "\u001b[32m2024-10-08 15:08:50.555\u001b[0m |                    \u001b[1mINFO    \u001b[0m | \u001b[36mcalculate_metrics\u001b[0m                    :\u001b[36m123\u001b[0m - \u001b[1m14.tif being processed... \u001b[0m\n",
      "\u001b[32m2024-10-08 15:08:50.556\u001b[0m |                    \u001b[1mINFO    \u001b[0m | \u001b[36mcalculate_metrics\u001b[0m                    :\u001b[36m125\u001b[0m - \u001b[1m37/42\u001b[0m\n",
      "\u001b[32m2024-10-08 15:08:51.189\u001b[0m |                    \u001b[1mINFO    \u001b[0m | \u001b[36mcalculate_metrics\u001b[0m                    :\u001b[36m123\u001b[0m - \u001b[1m27.tif being processed... \u001b[0m\n",
      "\u001b[32m2024-10-08 15:08:51.190\u001b[0m |                    \u001b[1mINFO    \u001b[0m | \u001b[36mcalculate_metrics\u001b[0m                    :\u001b[36m125\u001b[0m - \u001b[1m38/42\u001b[0m\n",
      "\u001b[32m2024-10-08 15:08:51.998\u001b[0m |                    \u001b[1mINFO    \u001b[0m | \u001b[36mcalculate_metrics\u001b[0m                    :\u001b[36m123\u001b[0m - \u001b[1m5.tif being processed... \u001b[0m\n",
      "\u001b[32m2024-10-08 15:08:51.999\u001b[0m |                    \u001b[1mINFO    \u001b[0m | \u001b[36mcalculate_metrics\u001b[0m                    :\u001b[36m125\u001b[0m - \u001b[1m39/42\u001b[0m\n",
      "\u001b[32m2024-10-08 15:08:52.638\u001b[0m |                    \u001b[1mINFO    \u001b[0m | \u001b[36mcalculate_metrics\u001b[0m                    :\u001b[36m123\u001b[0m - \u001b[1m16.tif being processed... \u001b[0m\n",
      "\u001b[32m2024-10-08 15:08:52.638\u001b[0m |                    \u001b[1mINFO    \u001b[0m | \u001b[36mcalculate_metrics\u001b[0m                    :\u001b[36m125\u001b[0m - \u001b[1m40/42\u001b[0m\n",
      "\u001b[32m2024-10-08 15:08:53.278\u001b[0m |                    \u001b[1mINFO    \u001b[0m | \u001b[36mcalculate_metrics\u001b[0m                    :\u001b[36m123\u001b[0m - \u001b[1m22.tif being processed... \u001b[0m\n",
      "\u001b[32m2024-10-08 15:08:53.279\u001b[0m |                    \u001b[1mINFO    \u001b[0m | \u001b[36mcalculate_metrics\u001b[0m                    :\u001b[36m125\u001b[0m - \u001b[1m41/42\u001b[0m\n",
      "\u001b[32m2024-10-08 15:08:53.914\u001b[0m |                    \u001b[1mINFO    \u001b[0m | \u001b[36mcalculate_metrics\u001b[0m                    :\u001b[36m123\u001b[0m - \u001b[1m8.tif being processed... \u001b[0m\n",
      "\u001b[32m2024-10-08 15:08:53.914\u001b[0m |                    \u001b[1mINFO    \u001b[0m | \u001b[36mcalculate_metrics\u001b[0m                    :\u001b[36m125\u001b[0m - \u001b[1m42/42\u001b[0m\n",
      "\u001b[32m2024-10-08 15:08:54.545\u001b[0m |                    \u001b[1mINFO    \u001b[0m | \u001b[36mcalculate_metrics\u001b[0m                    :\u001b[36m242\u001b[0m - \u001b[1m42 images with shape (462, 462) have been considered.\n",
      "\u001b[0m\n",
      "/proj-soils/scripts/utilities/calculate_metrics.py:271: RuntimeWarning: invalid value encountered in divide\n",
      "  class_precisions = class_tps / (class_tps + class_fps)\n",
      "/proj-soils/scripts/utilities/calculate_metrics.py:272: RuntimeWarning: invalid value encountered in divide\n",
      "  class_recalls = class_tps / (class_tps + class_fns)\n",
      "/proj-soils/scripts/utilities/calculate_metrics.py:273: RuntimeWarning: invalid value encountered in divide\n",
      "  class_f1s = class_tps / (class_tps + (0.5 * (class_fps + class_fns)))\n",
      "/proj-soils/scripts/utilities/calculate_metrics.py:274: RuntimeWarning: invalid value encountered in divide\n",
      "  class_ious = class_tps / (class_unions)\n",
      "/proj-soils/scripts/utilities/calculate_metrics.py:275: RuntimeWarning: invalid value encountered in divide\n",
      "  class_mccs = (class_tps * class_tns - class_fps * class_fns) / np.sqrt(\n",
      "\u001b[32m2024-10-08 15:08:54.547\u001b[0m |                    \u001b[1mINFO    \u001b[0m | \u001b[36mcalculate_metrics\u001b[0m                    :\u001b[36m292\u001b[0m - \u001b[1m**  **:\u001b[0m\n",
      "\u001b[32m2024-10-08 15:08:54.547\u001b[0m |                    \u001b[1mINFO    \u001b[0m | \u001b[36mcalculate_metrics\u001b[0m                    :\u001b[36m316\u001b[0m - \u001b[1m\u001b[0m\n",
      "\u001b[32m2024-10-08 15:08:54.547\u001b[0m |                    \u001b[1mINFO    \u001b[0m | \u001b[36mcalculate_metrics\u001b[0m                    :\u001b[36m317\u001b[0m - \u001b[1mMean multiclass Metrics:\u001b[0m\n",
      "\u001b[32m2024-10-08 15:08:54.547\u001b[0m |                    \u001b[1mINFO    \u001b[0m | \u001b[36mcalculate_metrics\u001b[0m                    :\u001b[36m318\u001b[0m - \u001b[1mmean_iou = 0.451\u001b[0m\n",
      "\u001b[32m2024-10-08 15:08:54.547\u001b[0m |                    \u001b[1mINFO    \u001b[0m | \u001b[36mcalculate_metrics\u001b[0m                    :\u001b[36m319\u001b[0m - \u001b[1mmean_mcc = 0.496\u001b[0m\n",
      "\u001b[32m2024-10-08 15:08:54.547\u001b[0m |                    \u001b[1mINFO    \u001b[0m | \u001b[36mcalculate_metrics\u001b[0m                    :\u001b[36m320\u001b[0m - \u001b[1mmean_f1 = 0.525\u001b[0m\n",
      "\u001b[32m2024-10-08 15:08:54.548\u001b[0m |                    \u001b[1mINFO    \u001b[0m | \u001b[36mcalculate_metrics\u001b[0m                    :\u001b[36m321\u001b[0m - \u001b[1mmean_precision = 0.566\u001b[0m\n",
      "\u001b[32m2024-10-08 15:08:54.548\u001b[0m |                    \u001b[1mINFO    \u001b[0m | \u001b[36mcalculate_metrics\u001b[0m                    :\u001b[36m322\u001b[0m - \u001b[1mmean_recall = 0.512\n",
      "\u001b[0m\n",
      "\u001b[32m2024-10-08 15:08:54.548\u001b[0m |                    \u001b[1mINFO    \u001b[0m | \u001b[36mcalculate_metrics\u001b[0m                    :\u001b[36m292\u001b[0m - \u001b[1m**  **:\u001b[0m\n",
      "\u001b[32m2024-10-08 15:08:54.548\u001b[0m |                    \u001b[1mINFO    \u001b[0m | \u001b[36mcalculate_metrics\u001b[0m                    :\u001b[36m316\u001b[0m - \u001b[1m\u001b[0m\n",
      "\u001b[32m2024-10-08 15:08:54.548\u001b[0m |                    \u001b[1mINFO    \u001b[0m | \u001b[36mcalculate_metrics\u001b[0m                    :\u001b[36m317\u001b[0m - \u001b[1mMean binary Metrics:\u001b[0m\n",
      "\u001b[32m2024-10-08 15:08:54.549\u001b[0m |                    \u001b[1mINFO    \u001b[0m | \u001b[36mcalculate_metrics\u001b[0m                    :\u001b[36m318\u001b[0m - \u001b[1mmean_iou = 0.659\u001b[0m\n",
      "\u001b[32m2024-10-08 15:08:54.549\u001b[0m |                    \u001b[1mINFO    \u001b[0m | \u001b[36mcalculate_metrics\u001b[0m                    :\u001b[36m319\u001b[0m - \u001b[1mmean_mcc = 0.576\u001b[0m\n",
      "\u001b[32m2024-10-08 15:08:54.549\u001b[0m |                    \u001b[1mINFO    \u001b[0m | \u001b[36mcalculate_metrics\u001b[0m                    :\u001b[36m320\u001b[0m - \u001b[1mmean_f1 = 0.763\u001b[0m\n",
      "\u001b[32m2024-10-08 15:08:54.549\u001b[0m |                    \u001b[1mINFO    \u001b[0m | \u001b[36mcalculate_metrics\u001b[0m                    :\u001b[36m321\u001b[0m - \u001b[1mmean_precision = 0.905\u001b[0m\n",
      "\u001b[32m2024-10-08 15:08:54.549\u001b[0m |                    \u001b[1mINFO    \u001b[0m | \u001b[36mcalculate_metrics\u001b[0m                    :\u001b[36m322\u001b[0m - \u001b[1mmean_recall = 0.705\n",
      "\u001b[0m\n",
      "\u001b[32m2024-10-08 15:09:13.647\u001b[0m |                    \u001b[1mINFO    \u001b[0m | \u001b[36m<module>\u001b[0m                    :\u001b[36m651\u001b[0m - \u001b[1mEnded Program\n",
      "\u001b[0m\n"
     ]
    }
   ],
   "source": [
    "! python utilities/calculate_metrics.py --config_file ../config/eval/config-eval_heigvd-145k_mixed-10cm.yaml"
   ]
  },
  {
   "cell_type": "code",
   "execution_count": null,
   "metadata": {},
   "outputs": [],
   "source": []
  }
 ],
 "metadata": {
  "kernelspec": {
   "display_name": "Python 3 (ipykernel)",
   "language": "python",
   "name": "python3"
  },
  "language_info": {
   "codemirror_mode": {
    "name": "ipython",
    "version": 3
   },
   "file_extension": ".py",
   "mimetype": "text/x-python",
   "name": "python",
   "nbconvert_exporter": "python",
   "pygments_lexer": "ipython3",
   "version": "3.10.12"
  },
  "vscode": {
   "interpreter": {
    "hash": "67c683be3b89053d7ca5cf9ab92fc1f76d72010376a6f7730bc4c074221af5a2"
   }
  }
 },
 "nbformat": 4,
 "nbformat_minor": 4
}
