{
 "cells": [
  {
   "attachments": {},
   "cell_type": "markdown",
   "metadata": {},
   "source": [
    "# Prepare heig-vd inferences for quantitative evaluation"
   ]
  },
  {
   "cell_type": "code",
   "execution_count": null,
   "metadata": {},
   "outputs": [],
   "source": [
    "import os\n",
    "\n",
    "projsoilsroot = \"/Users/nicibe/Desktop/Job/swisstopo_stdl/soil_fribourg/proj-soils\"\n",
    "config_eval_heigvd_orig = os.path.join(projsoilsroot, \"config\", \"eval\", \"config-eval_heigvd-orig.yaml\")\n",
    "\n",
    "config_eval_heigvd_152k_10cm_10cm = os.path.join(projsoilsroot, \"config\", \"eval\", \"config-eval_heigvd-152k_10cm-10cm.yaml\")\n",
    "config_eval_heigvd_152k_10cm_20cm = os.path.join(projsoilsroot, \"config\", \"eval\", \"config-eval_heigvd-152k_10cm-20cm.yaml\")\n",
    "config_eval_heigvd_152k_10cm_40cm = os.path.join(projsoilsroot, \"config\", \"eval\", \"config-eval_heigvd-152k_10cm-40cm.yaml\")\n",
    "\n",
    "config_eval_heigvd_152k_mixed_10cm = os.path.join(projsoilsroot, \"config\", \"eval\", \"config-eval_heigvd-152k_mixed-10cm.yaml\")\n",
    "config_eval_heigvd_152k_mixed_20cm = os.path.join(projsoilsroot, \"config\", \"eval\", \"config-eval_heigvd-152k_mixed-20cm.yaml\")\n",
    "config_eval_heigvd_152k_mixed_40cm = os.path.join(projsoilsroot, \"config\", \"eval\", \"config-eval_heigvd-152k_mixed-40cm.yaml\")"
   ]
  },
  {
   "cell_type": "markdown",
   "metadata": {},
   "source": [
    "## 152k-10cm"
   ]
  },
  {
   "cell_type": "markdown",
   "metadata": {},
   "source": [
    "### 10cm"
   ]
  },
  {
   "cell_type": "code",
   "execution_count": null,
   "metadata": {},
   "outputs": [],
   "source": [
    "! python utilities/calculate_metrics.py --config_file {config_eval_heigvd_152k_10cm_10cm}"
   ]
  },
  {
   "cell_type": "markdown",
   "metadata": {},
   "source": [
    "### 20cm"
   ]
  },
  {
   "cell_type": "markdown",
   "metadata": {},
   "source": [
    "rescale first"
   ]
  },
  {
   "cell_type": "code",
   "execution_count": null,
   "metadata": {},
   "outputs": [],
   "source": [
    "! python utilities/rescale_tif.py --config_file {config_eval_heigvd_152k_10cm_20cm}"
   ]
  },
  {
   "cell_type": "markdown",
   "metadata": {},
   "source": [
    "### 40cm"
   ]
  },
  {
   "cell_type": "markdown",
   "metadata": {},
   "source": [
    "rescale first"
   ]
  },
  {
   "cell_type": "code",
   "execution_count": null,
   "metadata": {},
   "outputs": [],
   "source": [
    "! python utilities/rescale_tif.py --config_file {config_eval_heigvd_152k_10cm_40cm}"
   ]
  },
  {
   "cell_type": "markdown",
   "metadata": {},
   "source": [
    "## 152k-mixed"
   ]
  },
  {
   "cell_type": "markdown",
   "metadata": {},
   "source": [
    "### 10cm"
   ]
  },
  {
   "cell_type": "code",
   "execution_count": null,
   "metadata": {},
   "outputs": [],
   "source": [
    "! python utilities/calculate_metrics.py --config_file {config_eval_heigvd_152k_mixed_10cm}"
   ]
  },
  {
   "cell_type": "markdown",
   "metadata": {},
   "source": [
    "### 20cm"
   ]
  },
  {
   "cell_type": "markdown",
   "metadata": {},
   "source": [
    "rescale first"
   ]
  },
  {
   "cell_type": "code",
   "execution_count": null,
   "metadata": {},
   "outputs": [],
   "source": [
    "! python utilities/rescale_tif.py --config_file {config_eval_heigvd_152k_mixed_20cm}"
   ]
  },
  {
   "cell_type": "markdown",
   "metadata": {},
   "source": [
    "### 40cm"
   ]
  },
  {
   "cell_type": "markdown",
   "metadata": {},
   "source": [
    "rescale first"
   ]
  },
  {
   "cell_type": "code",
   "execution_count": null,
   "metadata": {},
   "outputs": [],
   "source": [
    "! python utilities/rescale_tif.py --config_file {config_eval_heigvd_152k_mixed_40cm}"
   ]
  }
 ],
 "metadata": {
  "kernelspec": {
   "display_name": "Python 3 (ipykernel)",
   "language": "python",
   "name": "python3"
  },
  "language_info": {
   "codemirror_mode": {
    "name": "ipython",
    "version": 3
   },
   "file_extension": ".py",
   "mimetype": "text/x-python",
   "name": "python",
   "nbconvert_exporter": "python",
   "pygments_lexer": "ipython3",
   "version": "3.11.3"
  },
  "vscode": {
   "interpreter": {
    "hash": "67c683be3b89053d7ca5cf9ab92fc1f76d72010376a6f7730bc4c074221af5a2"
   }
  }
 },
 "nbformat": 4,
 "nbformat_minor": 4
}
