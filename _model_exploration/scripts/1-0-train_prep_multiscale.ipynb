{
 "cells": [
  {
   "attachments": {},
   "cell_type": "markdown",
   "metadata": {},
   "source": [
    "# Prepare Dataset for Fine-Tuning of the heig-vd model"
   ]
  },
  {
   "cell_type": "code",
   "execution_count": null,
   "metadata": {},
   "outputs": [],
   "source": [
    "import os\n",
    "\n",
    "projsoilsroot = \"/Users/nicibe/Desktop/Job/swisstopo_stdl/soil_fribourg/proj-soils\"\n",
    "config_train_gt_10cm = os.path.join(projsoilsroot, \"config\", \"train\", \"config-train_gt-10cm.yaml\")\n",
    "config_train_gt_20cm = os.path.join(projsoilsroot, \"config\", \"train\", \"config-train_gt-20cm.yaml\")\n",
    "config_train_gt_40cm = os.path.join(projsoilsroot, \"config\", \"train\", \"config-train_gt-40cm.yaml\")\n",
    "config_train_scratch_10cm = os.path.join(projsoilsroot, \"config\", \"train\", \"config-train_scratch-10cm.yaml\")\n",
    "config_train_scratch_20cm = os.path.join(projsoilsroot, \"config\", \"train\", \"config-train_scratch-20cm.yaml\")\n",
    "config_train_scratch_40cm = os.path.join(projsoilsroot, \"config\", \"train\", \"config-train_scratch-40cm.yaml\")"
   ]
  },
  {
   "cell_type": "markdown",
   "metadata": {},
   "source": [
    "## GT"
   ]
  },
  {
   "cell_type": "markdown",
   "metadata": {},
   "source": [
    "### 1. Snap to 10cm"
   ]
  },
  {
   "cell_type": "code",
   "execution_count": null,
   "metadata": {},
   "outputs": [],
   "source": [
    "import os\n",
    "import numpy as np\n",
    "import geopandas as gpd\n",
    "\n",
    "\n",
    "root = \"/Users/nicibe/Desktop/Job/swisstopo_stdl/soil_fribourg/data/GT/20240216/0-0-0-raw\"\n",
    "out_folder = \"/Users/nicibe/Desktop/Job/swisstopo_stdl/soil_fribourg/data/GT/20240216/0-0-snapped\"\n",
    "\n",
    "for file in os.listdir(root):\n",
    "    if not file.endswith(\".shp\"):\n",
    "        continue\n",
    "\n",
    "    gt = gpd.read_file(os.path.join(root, file))\n",
    "    bbox = list(gt.total_bounds)\n",
    "\n",
    "    deviation_from_snap = np.array(bbox).round(1) - bbox\n",
    "    plus_xmin, plus_ymin, _, _ = deviation_from_snap\n",
    "\n",
    "    gt.geometry = gt.geometry.translate(plus_xmin, plus_ymin)\n",
    "    gt.to_file(os.path.join(out_folder, file.replace(\".shp\", \".gpkg\")))\n"
   ]
  },
  {
   "cell_type": "markdown",
   "metadata": {},
   "source": [
    "### 2. Assign classes"
   ]
  },
  {
   "cell_type": "code",
   "execution_count": null,
   "metadata": {},
   "outputs": [],
   "source": [
    "source_folder = \"/Users/nicibe/Desktop/Job/swisstopo_stdl/soil_fribourg/data/GT/20240216/0-0-snapped\"\n",
    "out_folder = \"/Users/nicibe/Desktop/Job/swisstopo_stdl/soil_fribourg/data/GT/20240216/0-cleaned\""
   ]
  },
  {
   "cell_type": "code",
   "execution_count": null,
   "metadata": {},
   "outputs": [],
   "source": [
    "class_mapping = {\n",
    "    np.nan: 0,\n",
    "    \"batiment\": 1,\n",
    "    \"toit_vegetalise\": 2,\n",
    "    \"surface_non_beton\": 3,\n",
    "    \"surface_beton\": 4,\n",
    "    \"eau_bassin\": 5,\n",
    "    \"roche_dure_meuble\": 6,\n",
    "    \"eau_naturelle\": 7,\n",
    "    \"roseliere\": 8,\n",
    "    \"sol_neige\": 9,\n",
    "    \"sol_vegetalise\": 10,\n",
    "    \"surface_riparienne\": 11,\n",
    "    \"sol_divers\": 12,\n",
    "    \"sol_vigne\": 13,\n",
    "    \"sol_agricole\": 14,\n",
    "    \"sol_bache\": 15,\n",
    "    \"sol_serre_temporaire\": 16,\n",
    "    \"serre_permanente\": 17\n",
    "}\n",
    "\n",
    "soil_classes = [9, 10, 12, 13, 14, 15, 16]\n",
    "\n",
    "package_mapping = {\n",
    "    0: 0, 1: 1, 2: 1, 3: 2, 4: 3, 5: 4, 6: 5, 7: 6, 8: 6, 9: 7, 10: 8,\n",
    "    11: 8, 12: 8, 13: 9, 14: 10, 15: 10, 16: 10, 17: 11\n",
    "}\n",
    "\n",
    "cl12_mapping = {\n",
    "    0: 0, \n",
    "    1: 1, # batiment\n",
    "    2: 1, # toit_vegetalise -> batiment\n",
    "    3: 2, # surface_non_beton\n",
    "    4: 3, # surface_beton\n",
    "    5: 5, # eau_bassin -> eau_naturelle\n",
    "    6: 4, # roche_dure_meuble\n",
    "    7: 5, # eau_naturelle\n",
    "    8: 6, # roseliere\n",
    "    9: 7, # sol_neige\n",
    "    10: 8, # sol_vegetalise\n",
    "    11: 8, # surface_riparienne -> sol_vegetalise\n",
    "    12: 9, # sol_divers\n",
    "    13: 10, # sol_vigne\n",
    "    14: 11, # sol_agricole\n",
    "    15: 12, # sol_bache\n",
    "    16: 12, # sol_serre_temporaire -> sol_bache\n",
    "    17: 1, # serre_permanente -> batiment\n",
    "    }\n",
    "\n",
    "\n",
    "for root, dir, files in os.walk(source_folder):\n",
    "        for file in files:\n",
    "            if not file.endswith((\".shp\", \".gpkg\")):\n",
    "                continue\n",
    "            \n",
    "            gt = gpd.read_file(os.path.join(root, file))\n",
    "\n",
    "            gt[\"CLASSE_SEN_ID\"] = gt.apply(\n",
    "                lambda x: class_mapping[x[\"CLASSE_SEN\"]], axis=1)\n",
    "            gt[\"package_id\"] = gt.apply(\n",
    "                lambda x: package_mapping[x[\"CLASSE_SEN_ID\"]], axis=1)\n",
    "            gt[\"cl12_id\"] = gt.apply(\n",
    "                lambda x: cl12_mapping[x[\"CLASSE_SEN_ID\"]], axis=1)\n",
    "            gt[\"SOIL\"] = gt.apply(\n",
    "                lambda x: x[\"CLASSE_SEN_ID\"] in soil_classes, axis=1)\n",
    "\n",
    "\n",
    "            # gt[\"geometry\"] = gt.make_valid()\n",
    "\n",
    "            gt = gt.dropna(subset = [\"CLASSE_SEN_ID\"])\n",
    "            gt = gt.explode(index_parts=False)\n",
    "            gt = gt.loc[gt[\"geometry\"].geom_type=='Polygon']\n",
    "\n",
    "            gt = gt[['CLASSE_SEN', 'CLASSE_SEN_ID', 'package_id', 'cl12_id', 'SOIL', 'geometry']]\n",
    "\n",
    "            if file.endswith(\".shp\"):\n",
    "                gt.to_file(os.path.join(out_folder, file.rstrip(\".shp\")+\".gpkg\"), driver=\"GPKG\")\n",
    "            else:\n",
    "                gt.to_file(os.path.join(out_folder, file), driver=\"GPKG\")"
   ]
  },
  {
   "cell_type": "code",
   "execution_count": null,
   "metadata": {},
   "outputs": [],
   "source": [
    "gt.head()"
   ]
  },
  {
   "attachments": {},
   "cell_type": "markdown",
   "metadata": {},
   "source": [
    "### 3. Rasterize"
   ]
  },
  {
   "cell_type": "code",
   "execution_count": null,
   "metadata": {},
   "outputs": [],
   "source": [
    "! python utilities/rasterize_gt.py --config_file {config_train_gt_10cm}"
   ]
  },
  {
   "cell_type": "markdown",
   "metadata": {},
   "source": [
    "### 4. Rescale"
   ]
  },
  {
   "cell_type": "markdown",
   "metadata": {},
   "source": [
    "10cm -> 20cm"
   ]
  },
  {
   "cell_type": "code",
   "execution_count": null,
   "metadata": {},
   "outputs": [],
   "source": [
    "! python utilities/rescale_tif.py --config_file {config_train_gt_20cm}"
   ]
  },
  {
   "cell_type": "markdown",
   "metadata": {},
   "source": [
    "10cm -> 40cm"
   ]
  },
  {
   "cell_type": "code",
   "execution_count": null,
   "metadata": {},
   "outputs": [],
   "source": [
    "! python utilities/rescale_tif.py --config_file {config_train_gt_40cm}"
   ]
  },
  {
   "attachments": {},
   "cell_type": "markdown",
   "metadata": {},
   "source": [
    "### 4. Cut tiff to Grid"
   ]
  },
  {
   "cell_type": "markdown",
   "metadata": {},
   "source": [
    "10cm"
   ]
  },
  {
   "cell_type": "code",
   "execution_count": null,
   "metadata": {},
   "outputs": [],
   "source": [
    "! python utilities/cut_tiff_to_grid.py --config_file {config_train_gt_10cm}"
   ]
  },
  {
   "cell_type": "markdown",
   "metadata": {},
   "source": [
    "20cm"
   ]
  },
  {
   "cell_type": "code",
   "execution_count": 22,
   "metadata": {},
   "outputs": [
    {
     "name": "stdout",
     "output_type": "stream",
     "text": [
      "\u001b[32m2024-03-08 09:47:14.330\u001b[0m | \u001b[1mINFO    \u001b[0m | \u001b[36m__main__\u001b[0m:\u001b[36m<module>\u001b[0m:\u001b[36m258\u001b[0m - \u001b[1mTIFF_FOLDER = '/Users/nicibe/Desktop/Job/swisstopo_stdl/soil_fribourg/data/GT/20240216/3-rasterized-12cl/20cm'\u001b[0m\n",
      "\u001b[32m2024-03-08 09:47:14.331\u001b[0m | \u001b[1mINFO    \u001b[0m | \u001b[36m__main__\u001b[0m:\u001b[36m<module>\u001b[0m:\u001b[36m259\u001b[0m - \u001b[1mOUT_FOLDER = '/Users/nicibe/Desktop/Job/swisstopo_stdl/soil_fribourg/data/GT/20240216/4-cut-to-grid-12cl/20cm/512px'\u001b[0m\n",
      "\u001b[32m2024-03-08 09:47:14.331\u001b[0m | \u001b[1mINFO    \u001b[0m | \u001b[36m__main__\u001b[0m:\u001b[36m<module>\u001b[0m:\u001b[36m260\u001b[0m - \u001b[1mGRID_PATH = '/Users/nicibe/Desktop/Job/swisstopo_stdl/soil_fribourg/data/heig-vd_finetuned/recursive_grids_max204-8m.gpkg'\u001b[0m\n",
      "\u001b[32m2024-03-08 09:47:14.331\u001b[0m | \u001b[1mINFO    \u001b[0m | \u001b[36m__main__\u001b[0m:\u001b[36m<module>\u001b[0m:\u001b[36m261\u001b[0m - \u001b[1mGRID_QUERY = 'depth == 1'\u001b[0m\n",
      "\u001b[32m2024-03-08 09:47:14.331\u001b[0m | \u001b[1mINFO    \u001b[0m | \u001b[36m__main__\u001b[0m:\u001b[36m<module>\u001b[0m:\u001b[36m262\u001b[0m - \u001b[1mCELL_LENGTH = 512\u001b[0m\n",
      "\u001b[32m2024-03-08 09:47:14.331\u001b[0m | \u001b[1mINFO    \u001b[0m | \u001b[36m__main__\u001b[0m:\u001b[36m<module>\u001b[0m:\u001b[36m263\u001b[0m - \u001b[1mID_COLUMN = 'str_ids'\u001b[0m\n",
      "\u001b[32m2024-03-08 09:47:14.331\u001b[0m | \u001b[1mINFO    \u001b[0m | \u001b[36m__main__\u001b[0m:\u001b[36m<module>\u001b[0m:\u001b[36m264\u001b[0m - \u001b[1mLOG_FILE = '/Users/nicibe/Desktop/Job/swisstopo_stdl/soil_fribourg/proj-soils/logs/cut_tiff_to_grid.log'\u001b[0m\n",
      "\u001b[32m2024-03-08 09:47:14.331\u001b[0m | \u001b[1mINFO    \u001b[0m | \u001b[36m__main__\u001b[0m:\u001b[36m<module>\u001b[0m:\u001b[36m265\u001b[0m - \u001b[1mMASK_PATH = None\u001b[0m\n",
      "\u001b[32m2024-03-08 09:47:14.331\u001b[0m | \u001b[1mINFO    \u001b[0m | \u001b[36m__main__\u001b[0m:\u001b[36m<module>\u001b[0m:\u001b[36m268\u001b[0m - \u001b[1mStarted Programm\u001b[0m\n",
      "len(grid) = 48\n",
      "\u001b[32m2024-03-08 09:47:14.379\u001b[0m | \u001b[1mINFO    \u001b[0m | \u001b[36m__main__\u001b[0m:\u001b[36mcut_tiff_to_grid\u001b[0m:\u001b[36m90\u001b[0m - \u001b[1mfile = 'scratch_20200319_1043_12501_0_49-50-51-53-54_aoi40.tif'\u001b[0m\n",
      "\u001b[32m2024-03-08 09:47:14.379\u001b[0m | \u001b[1mINFO    \u001b[0m | \u001b[36m__main__\u001b[0m:\u001b[36mcut_tiff_to_grid\u001b[0m:\u001b[36m91\u001b[0m - \u001b[1m48 gridcells on tiff-extent\u001b[0m\n",
      "len(grid) = 32\n",
      "\u001b[32m2024-03-08 09:47:14.639\u001b[0m | \u001b[1mINFO    \u001b[0m | \u001b[36m__main__\u001b[0m:\u001b[36mcut_tiff_to_grid\u001b[0m:\u001b[36m90\u001b[0m - \u001b[1mfile = 'scratch_20200319_1348_12501_0_41-42-43_aoi37.tif'\u001b[0m\n",
      "\u001b[32m2024-03-08 09:47:14.639\u001b[0m | \u001b[1mINFO    \u001b[0m | \u001b[36m__main__\u001b[0m:\u001b[36mcut_tiff_to_grid\u001b[0m:\u001b[36m91\u001b[0m - \u001b[1m32 gridcells on tiff-extent\u001b[0m\n",
      "len(grid) = 96\n",
      "\u001b[32m2024-03-08 09:47:14.830\u001b[0m | \u001b[1mINFO    \u001b[0m | \u001b[36m__main__\u001b[0m:\u001b[36mcut_tiff_to_grid\u001b[0m:\u001b[36m90\u001b[0m - \u001b[1mfile = 'scratch_20200323_1250_12501_0_3-4-5-6_aoi16.tif'\u001b[0m\n",
      "\u001b[32m2024-03-08 09:47:14.830\u001b[0m | \u001b[1mINFO    \u001b[0m | \u001b[36m__main__\u001b[0m:\u001b[36mcut_tiff_to_grid\u001b[0m:\u001b[36m91\u001b[0m - \u001b[1m96 gridcells on tiff-extent\u001b[0m\n",
      "len(grid) = 16\n",
      "\u001b[32m2024-03-08 09:47:15.317\u001b[0m | \u001b[1mINFO    \u001b[0m | \u001b[36m__main__\u001b[0m:\u001b[36mcut_tiff_to_grid\u001b[0m:\u001b[36m90\u001b[0m - \u001b[1mfile = 'scratch_20200323_1159_12501_0_6-7-8-9-10-11-12-13_aoi23.tif'\u001b[0m\n",
      "\u001b[32m2024-03-08 09:47:15.317\u001b[0m | \u001b[1mINFO    \u001b[0m | \u001b[36m__main__\u001b[0m:\u001b[36mcut_tiff_to_grid\u001b[0m:\u001b[36m91\u001b[0m - \u001b[1m16 gridcells on tiff-extent\u001b[0m\n",
      "len(grid) = 192\n",
      "\u001b[32m2024-03-08 09:47:15.460\u001b[0m | \u001b[1mINFO    \u001b[0m | \u001b[36m__main__\u001b[0m:\u001b[36mcut_tiff_to_grid\u001b[0m:\u001b[36m90\u001b[0m - \u001b[1mfile = 'scratch_20200323_1159_12501_0_6-7-8-9-10-11-12-13_aoi24.tif'\u001b[0m\n",
      "\u001b[32m2024-03-08 09:47:15.460\u001b[0m | \u001b[1mINFO    \u001b[0m | \u001b[36m__main__\u001b[0m:\u001b[36mcut_tiff_to_grid\u001b[0m:\u001b[36m91\u001b[0m - \u001b[1m192 gridcells on tiff-extent\u001b[0m\n",
      "len(grid) = 16\n",
      "\u001b[32m2024-03-08 09:47:16.432\u001b[0m | \u001b[1mINFO    \u001b[0m | \u001b[36m__main__\u001b[0m:\u001b[36mcut_tiff_to_grid\u001b[0m:\u001b[36m90\u001b[0m - \u001b[1mfile = 'scratch_20200318_1318_12501_0_47-48_aoi25.tif'\u001b[0m\n",
      "\u001b[32m2024-03-08 09:47:16.432\u001b[0m | \u001b[1mINFO    \u001b[0m | \u001b[36m__main__\u001b[0m:\u001b[36mcut_tiff_to_grid\u001b[0m:\u001b[36m91\u001b[0m - \u001b[1m16 gridcells on tiff-extent\u001b[0m\n",
      "len(grid) = 16\n",
      "\u001b[32m2024-03-08 09:47:16.534\u001b[0m | \u001b[1mINFO    \u001b[0m | \u001b[36m__main__\u001b[0m:\u001b[36mcut_tiff_to_grid\u001b[0m:\u001b[36m90\u001b[0m - \u001b[1mfile = 'scratch_20200323_1209_12501_0_7-8-9-10-11-12-13-14_aoi32.tif'\u001b[0m\n",
      "\u001b[32m2024-03-08 09:47:16.534\u001b[0m | \u001b[1mINFO    \u001b[0m | \u001b[36m__main__\u001b[0m:\u001b[36mcut_tiff_to_grid\u001b[0m:\u001b[36m91\u001b[0m - \u001b[1m16 gridcells on tiff-extent\u001b[0m\n",
      "len(grid) = 90\n",
      "\u001b[32m2024-03-08 09:47:16.653\u001b[0m | \u001b[1mINFO    \u001b[0m | \u001b[36m__main__\u001b[0m:\u001b[36mcut_tiff_to_grid\u001b[0m:\u001b[36m90\u001b[0m - \u001b[1mfile = 'scratch_20200805_0949_12504_0_2-3_aoi27.tif'\u001b[0m\n",
      "\u001b[32m2024-03-08 09:47:16.653\u001b[0m | \u001b[1mINFO    \u001b[0m | \u001b[36m__main__\u001b[0m:\u001b[36mcut_tiff_to_grid\u001b[0m:\u001b[36m91\u001b[0m - \u001b[1m90 gridcells on tiff-extent\u001b[0m\n",
      "Skipped too small image (out_image.shape = (1, 262, 512))\n",
      "Skipped too small image (out_image.shape = (1, 262, 512))\n",
      "Skipped too small image (out_image.shape = (1, 262, 512))\n",
      "Skipped too small image (out_image.shape = (1, 262, 512))\n",
      "Skipped too small image (out_image.shape = (1, 262, 512))\n",
      "Skipped too small image (out_image.shape = (1, 262, 512))\n",
      "Skipped too small image (out_image.shape = (1, 262, 512))\n",
      "Skipped too small image (out_image.shape = (1, 262, 513))\n",
      "Skipped too small image (out_image.shape = (1, 262, 512))\n",
      "Skipped too small image (out_image.shape = (1, 262, 512))\n",
      "len(grid) = 4\n",
      "\u001b[32m2024-03-08 09:47:17.092\u001b[0m | \u001b[1mINFO    \u001b[0m | \u001b[36m__main__\u001b[0m:\u001b[36mcut_tiff_to_grid\u001b[0m:\u001b[36m90\u001b[0m - \u001b[1mfile = 'scratch_20200324_1038_12501_0_33-34-35_aoi37.tif'\u001b[0m\n",
      "\u001b[32m2024-03-08 09:47:17.092\u001b[0m | \u001b[1mINFO    \u001b[0m | \u001b[36m__main__\u001b[0m:\u001b[36mcut_tiff_to_grid\u001b[0m:\u001b[36m91\u001b[0m - \u001b[1m4 gridcells on tiff-extent\u001b[0m\n",
      "len(grid) = 144\n",
      "\u001b[32m2024-03-08 09:47:17.172\u001b[0m | \u001b[1mINFO    \u001b[0m | \u001b[36m__main__\u001b[0m:\u001b[36mcut_tiff_to_grid\u001b[0m:\u001b[36m90\u001b[0m - \u001b[1mfile = 'scratch_20200323_1301_12501_0_5-6-7_aoi16.tif'\u001b[0m\n",
      "\u001b[32m2024-03-08 09:47:17.172\u001b[0m | \u001b[1mINFO    \u001b[0m | \u001b[36m__main__\u001b[0m:\u001b[36mcut_tiff_to_grid\u001b[0m:\u001b[36m91\u001b[0m - \u001b[1m144 gridcells on tiff-extent\u001b[0m\n",
      "Skipped too small image (out_image.shape = (1, 240, 512))\n",
      "Skipped too small image (out_image.shape = (1, 240, 512))\n",
      "Skipped too small image (out_image.shape = (1, 240, 512))\n",
      "Skipped too small image (out_image.shape = (1, 240, 512))\n",
      "Skipped too small image (out_image.shape = (1, 240, 512))\n",
      "Skipped too small image (out_image.shape = (1, 240, 512))\n",
      "Skipped too small image (out_image.shape = (1, 240, 512))\n",
      "Skipped too small image (out_image.shape = (1, 240, 512))\n",
      "Skipped too small image (out_image.shape = (1, 240, 512))\n",
      "Skipped too small image (out_image.shape = (1, 240, 513))\n",
      "Skipped too small image (out_image.shape = (1, 240, 512))\n",
      "Skipped too small image (out_image.shape = (1, 240, 512))\n",
      "Skipped too small image (out_image.shape = (1, 240, 512))\n",
      "Skipped too small image (out_image.shape = (1, 240, 512))\n",
      "Skipped too small image (out_image.shape = (1, 240, 512))\n",
      "Skipped too small image (out_image.shape = (1, 240, 512))\n",
      "len(grid) = 70\n",
      "\u001b[32m2024-03-08 09:47:17.928\u001b[0m | \u001b[1mINFO    \u001b[0m | \u001b[36m__main__\u001b[0m:\u001b[36mcut_tiff_to_grid\u001b[0m:\u001b[36m90\u001b[0m - \u001b[1mfile = 'scratch_20200526_0916_12501_0_3-4_aoi26.tif'\u001b[0m\n",
      "\u001b[32m2024-03-08 09:47:17.928\u001b[0m | \u001b[1mINFO    \u001b[0m | \u001b[36m__main__\u001b[0m:\u001b[36mcut_tiff_to_grid\u001b[0m:\u001b[36m91\u001b[0m - \u001b[1m70 gridcells on tiff-extent\u001b[0m\n",
      "Skipped too small image (out_image.shape = (1, 250, 512))\n",
      "Skipped too small image (out_image.shape = (1, 250, 512))\n",
      "Skipped too small image (out_image.shape = (1, 250, 512))\n",
      "Skipped too small image (out_image.shape = (1, 250, 513))\n",
      "Skipped too small image (out_image.shape = (1, 250, 512))\n",
      "Skipped too small image (out_image.shape = (1, 250, 512))\n",
      "Skipped too small image (out_image.shape = (1, 250, 512))\n",
      "Skipped too small image (out_image.shape = (1, 250, 512))\n",
      "Skipped too small image (out_image.shape = (1, 250, 512))\n",
      "Skipped too small image (out_image.shape = (1, 250, 512))\n",
      "len(grid) = 50\n",
      "\u001b[32m2024-03-08 09:47:18.253\u001b[0m | \u001b[1mINFO    \u001b[0m | \u001b[36m__main__\u001b[0m:\u001b[36mcut_tiff_to_grid\u001b[0m:\u001b[36m90\u001b[0m - \u001b[1mfile = 'scratch_20200526_0924_12501_0_3-4_aoi26.tif'\u001b[0m\n",
      "\u001b[32m2024-03-08 09:47:18.253\u001b[0m | \u001b[1mINFO    \u001b[0m | \u001b[36m__main__\u001b[0m:\u001b[36mcut_tiff_to_grid\u001b[0m:\u001b[36m91\u001b[0m - \u001b[1m50 gridcells on tiff-extent\u001b[0m\n",
      "Skipped too small image (out_image.shape = (1, 250, 512))\n",
      "Skipped too small image (out_image.shape = (1, 250, 513))\n",
      "Skipped too small image (out_image.shape = (1, 250, 512))\n",
      "Skipped too small image (out_image.shape = (1, 250, 512))\n",
      "Skipped too small image (out_image.shape = (1, 250, 512))\n",
      "Skipped too small image (out_image.shape = (1, 250, 512))\n",
      "Skipped too small image (out_image.shape = (1, 250, 512))\n",
      "Skipped too small image (out_image.shape = (1, 250, 512))\n",
      "Skipped too small image (out_image.shape = (1, 250, 512))\n",
      "Skipped too small image (out_image.shape = (1, 250, 512))\n",
      "len(grid) = 100\n",
      "\u001b[32m2024-03-08 09:47:18.503\u001b[0m | \u001b[1mINFO    \u001b[0m | \u001b[36m__main__\u001b[0m:\u001b[36mcut_tiff_to_grid\u001b[0m:\u001b[36m90\u001b[0m - \u001b[1mfile = 'scratch_20200805_0940_12504_0_2-3_aoi27.tif'\u001b[0m\n",
      "\u001b[32m2024-03-08 09:47:18.503\u001b[0m | \u001b[1mINFO    \u001b[0m | \u001b[36m__main__\u001b[0m:\u001b[36mcut_tiff_to_grid\u001b[0m:\u001b[36m91\u001b[0m - \u001b[1m100 gridcells on tiff-extent\u001b[0m\n",
      "\u001b[32m2024-03-08 09:47:18.987\u001b[0m | \u001b[1mINFO    \u001b[0m | \u001b[36m__main__\u001b[0m:\u001b[36m<module>\u001b[0m:\u001b[36m270\u001b[0m - \u001b[1mEnded Program\n",
      "\u001b[0m\n"
     ]
    }
   ],
   "source": [
    "! python utilities/cut_tiff_to_grid.py --config_file {config_train_gt_20cm}"
   ]
  },
  {
   "cell_type": "markdown",
   "metadata": {},
   "source": [
    "40cm"
   ]
  },
  {
   "cell_type": "code",
   "execution_count": 23,
   "metadata": {},
   "outputs": [
    {
     "name": "stdout",
     "output_type": "stream",
     "text": [
      "\u001b[32m2024-03-08 09:47:19.746\u001b[0m | \u001b[1mINFO    \u001b[0m | \u001b[36m__main__\u001b[0m:\u001b[36m<module>\u001b[0m:\u001b[36m258\u001b[0m - \u001b[1mTIFF_FOLDER = '/Users/nicibe/Desktop/Job/swisstopo_stdl/soil_fribourg/data/GT/20240216/3-rasterized-12cl/40cm'\u001b[0m\n",
      "\u001b[32m2024-03-08 09:47:19.746\u001b[0m | \u001b[1mINFO    \u001b[0m | \u001b[36m__main__\u001b[0m:\u001b[36m<module>\u001b[0m:\u001b[36m259\u001b[0m - \u001b[1mOUT_FOLDER = '/Users/nicibe/Desktop/Job/swisstopo_stdl/soil_fribourg/data/GT/20240216/4-cut-to-grid-12cl/40cm/512px'\u001b[0m\n",
      "\u001b[32m2024-03-08 09:47:19.746\u001b[0m | \u001b[1mINFO    \u001b[0m | \u001b[36m__main__\u001b[0m:\u001b[36m<module>\u001b[0m:\u001b[36m260\u001b[0m - \u001b[1mGRID_PATH = '/Users/nicibe/Desktop/Job/swisstopo_stdl/soil_fribourg/data/heig-vd_finetuned/recursive_grids_max204-8m.gpkg'\u001b[0m\n",
      "\u001b[32m2024-03-08 09:47:19.746\u001b[0m | \u001b[1mINFO    \u001b[0m | \u001b[36m__main__\u001b[0m:\u001b[36m<module>\u001b[0m:\u001b[36m261\u001b[0m - \u001b[1mGRID_QUERY = 'depth == 2'\u001b[0m\n",
      "\u001b[32m2024-03-08 09:47:19.746\u001b[0m | \u001b[1mINFO    \u001b[0m | \u001b[36m__main__\u001b[0m:\u001b[36m<module>\u001b[0m:\u001b[36m262\u001b[0m - \u001b[1mCELL_LENGTH = 512\u001b[0m\n",
      "\u001b[32m2024-03-08 09:47:19.746\u001b[0m | \u001b[1mINFO    \u001b[0m | \u001b[36m__main__\u001b[0m:\u001b[36m<module>\u001b[0m:\u001b[36m263\u001b[0m - \u001b[1mID_COLUMN = 'str_ids'\u001b[0m\n",
      "\u001b[32m2024-03-08 09:47:19.746\u001b[0m | \u001b[1mINFO    \u001b[0m | \u001b[36m__main__\u001b[0m:\u001b[36m<module>\u001b[0m:\u001b[36m264\u001b[0m - \u001b[1mLOG_FILE = '/Users/nicibe/Desktop/Job/swisstopo_stdl/soil_fribourg/proj-soils/logs/cut_tiff_to_grid.log'\u001b[0m\n",
      "\u001b[32m2024-03-08 09:47:19.747\u001b[0m | \u001b[1mINFO    \u001b[0m | \u001b[36m__main__\u001b[0m:\u001b[36m<module>\u001b[0m:\u001b[36m265\u001b[0m - \u001b[1mMASK_PATH = None\u001b[0m\n",
      "\u001b[32m2024-03-08 09:47:19.747\u001b[0m | \u001b[1mINFO    \u001b[0m | \u001b[36m__main__\u001b[0m:\u001b[36m<module>\u001b[0m:\u001b[36m268\u001b[0m - \u001b[1mStarted Programm\u001b[0m\n",
      "len(grid) = 12\n",
      "\u001b[32m2024-03-08 09:47:19.799\u001b[0m | \u001b[1mINFO    \u001b[0m | \u001b[36m__main__\u001b[0m:\u001b[36mcut_tiff_to_grid\u001b[0m:\u001b[36m90\u001b[0m - \u001b[1mfile = 'scratch_20200319_1043_12501_0_49-50-51-53-54_aoi40.tif'\u001b[0m\n",
      "\u001b[32m2024-03-08 09:47:19.799\u001b[0m | \u001b[1mINFO    \u001b[0m | \u001b[36m__main__\u001b[0m:\u001b[36mcut_tiff_to_grid\u001b[0m:\u001b[36m91\u001b[0m - \u001b[1m12 gridcells on tiff-extent\u001b[0m\n",
      "len(grid) = 8\n",
      "\u001b[32m2024-03-08 09:47:19.890\u001b[0m | \u001b[1mINFO    \u001b[0m | \u001b[36m__main__\u001b[0m:\u001b[36mcut_tiff_to_grid\u001b[0m:\u001b[36m90\u001b[0m - \u001b[1mfile = 'scratch_20200319_1348_12501_0_41-42-43_aoi37.tif'\u001b[0m\n",
      "\u001b[32m2024-03-08 09:47:19.890\u001b[0m | \u001b[1mINFO    \u001b[0m | \u001b[36m__main__\u001b[0m:\u001b[36mcut_tiff_to_grid\u001b[0m:\u001b[36m91\u001b[0m - \u001b[1m8 gridcells on tiff-extent\u001b[0m\n",
      "len(grid) = 24\n",
      "\u001b[32m2024-03-08 09:47:19.977\u001b[0m | \u001b[1mINFO    \u001b[0m | \u001b[36m__main__\u001b[0m:\u001b[36mcut_tiff_to_grid\u001b[0m:\u001b[36m90\u001b[0m - \u001b[1mfile = 'scratch_20200323_1250_12501_0_3-4-5-6_aoi16.tif'\u001b[0m\n",
      "\u001b[32m2024-03-08 09:47:19.978\u001b[0m | \u001b[1mINFO    \u001b[0m | \u001b[36m__main__\u001b[0m:\u001b[36mcut_tiff_to_grid\u001b[0m:\u001b[36m91\u001b[0m - \u001b[1m24 gridcells on tiff-extent\u001b[0m\n",
      "len(grid) = 4\n",
      "\u001b[32m2024-03-08 09:47:20.119\u001b[0m | \u001b[1mINFO    \u001b[0m | \u001b[36m__main__\u001b[0m:\u001b[36mcut_tiff_to_grid\u001b[0m:\u001b[36m90\u001b[0m - \u001b[1mfile = 'scratch_20200323_1159_12501_0_6-7-8-9-10-11-12-13_aoi23.tif'\u001b[0m\n",
      "\u001b[32m2024-03-08 09:47:20.120\u001b[0m | \u001b[1mINFO    \u001b[0m | \u001b[36m__main__\u001b[0m:\u001b[36mcut_tiff_to_grid\u001b[0m:\u001b[36m91\u001b[0m - \u001b[1m4 gridcells on tiff-extent\u001b[0m\n",
      "len(grid) = 48\n",
      "\u001b[32m2024-03-08 09:47:20.209\u001b[0m | \u001b[1mINFO    \u001b[0m | \u001b[36m__main__\u001b[0m:\u001b[36mcut_tiff_to_grid\u001b[0m:\u001b[36m90\u001b[0m - \u001b[1mfile = 'scratch_20200323_1159_12501_0_6-7-8-9-10-11-12-13_aoi24.tif'\u001b[0m\n",
      "\u001b[32m2024-03-08 09:47:20.209\u001b[0m | \u001b[1mINFO    \u001b[0m | \u001b[36m__main__\u001b[0m:\u001b[36mcut_tiff_to_grid\u001b[0m:\u001b[36m91\u001b[0m - \u001b[1m48 gridcells on tiff-extent\u001b[0m\n",
      "len(grid) = 4\n",
      "\u001b[32m2024-03-08 09:47:20.493\u001b[0m | \u001b[1mINFO    \u001b[0m | \u001b[36m__main__\u001b[0m:\u001b[36mcut_tiff_to_grid\u001b[0m:\u001b[36m90\u001b[0m - \u001b[1mfile = 'scratch_20200318_1318_12501_0_47-48_aoi25.tif'\u001b[0m\n",
      "\u001b[32m2024-03-08 09:47:20.494\u001b[0m | \u001b[1mINFO    \u001b[0m | \u001b[36m__main__\u001b[0m:\u001b[36mcut_tiff_to_grid\u001b[0m:\u001b[36m91\u001b[0m - \u001b[1m4 gridcells on tiff-extent\u001b[0m\n",
      "len(grid) = 4\n",
      "\u001b[32m2024-03-08 09:47:20.538\u001b[0m | \u001b[1mINFO    \u001b[0m | \u001b[36m__main__\u001b[0m:\u001b[36mcut_tiff_to_grid\u001b[0m:\u001b[36m90\u001b[0m - \u001b[1mfile = 'scratch_20200323_1209_12501_0_7-8-9-10-11-12-13-14_aoi32.tif'\u001b[0m\n",
      "\u001b[32m2024-03-08 09:47:20.539\u001b[0m | \u001b[1mINFO    \u001b[0m | \u001b[36m__main__\u001b[0m:\u001b[36mcut_tiff_to_grid\u001b[0m:\u001b[36m91\u001b[0m - \u001b[1m4 gridcells on tiff-extent\u001b[0m\n",
      "len(grid) = 25\n",
      "\u001b[32m2024-03-08 09:47:20.608\u001b[0m | \u001b[1mINFO    \u001b[0m | \u001b[36m__main__\u001b[0m:\u001b[36mcut_tiff_to_grid\u001b[0m:\u001b[36m90\u001b[0m - \u001b[1mfile = 'scratch_20200805_0949_12504_0_2-3_aoi27.tif'\u001b[0m\n",
      "\u001b[32m2024-03-08 09:47:20.608\u001b[0m | \u001b[1mINFO    \u001b[0m | \u001b[36m__main__\u001b[0m:\u001b[36mcut_tiff_to_grid\u001b[0m:\u001b[36m91\u001b[0m - \u001b[1m25 gridcells on tiff-extent\u001b[0m\n",
      "Skipped too small image (out_image.shape = (1, 131, 512))\n",
      "Skipped too small image (out_image.shape = (1, 131, 512))\n",
      "Skipped too small image (out_image.shape = (1, 131, 512))\n",
      "Skipped too small image (out_image.shape = (1, 131, 512))\n",
      "Skipped too small image (out_image.shape = (1, 131, 512))\n",
      "len(grid) = 1\n",
      "\u001b[32m2024-03-08 09:47:20.742\u001b[0m | \u001b[1mINFO    \u001b[0m | \u001b[36m__main__\u001b[0m:\u001b[36mcut_tiff_to_grid\u001b[0m:\u001b[36m90\u001b[0m - \u001b[1mfile = 'scratch_20200324_1038_12501_0_33-34-35_aoi37.tif'\u001b[0m\n",
      "\u001b[32m2024-03-08 09:47:20.742\u001b[0m | \u001b[1mINFO    \u001b[0m | \u001b[36m__main__\u001b[0m:\u001b[36mcut_tiff_to_grid\u001b[0m:\u001b[36m91\u001b[0m - \u001b[1m1 gridcells on tiff-extent\u001b[0m\n",
      "len(grid) = 40\n",
      "\u001b[32m2024-03-08 09:47:20.802\u001b[0m | \u001b[1mINFO    \u001b[0m | \u001b[36m__main__\u001b[0m:\u001b[36mcut_tiff_to_grid\u001b[0m:\u001b[36m90\u001b[0m - \u001b[1mfile = 'scratch_20200323_1301_12501_0_5-6-7_aoi16.tif'\u001b[0m\n",
      "\u001b[32m2024-03-08 09:47:20.802\u001b[0m | \u001b[1mINFO    \u001b[0m | \u001b[36m__main__\u001b[0m:\u001b[36mcut_tiff_to_grid\u001b[0m:\u001b[36m91\u001b[0m - \u001b[1m40 gridcells on tiff-extent\u001b[0m\n",
      "Skipped too small image (out_image.shape = (1, 120, 512))\n",
      "Skipped too small image (out_image.shape = (1, 120, 512))\n",
      "Skipped too small image (out_image.shape = (1, 120, 512))\n",
      "Skipped too small image (out_image.shape = (1, 120, 512))\n",
      "Skipped too small image (out_image.shape = (1, 120, 512))\n",
      "Skipped too small image (out_image.shape = (1, 120, 512))\n",
      "Skipped too small image (out_image.shape = (1, 120, 512))\n",
      "Skipped too small image (out_image.shape = (1, 120, 512))\n",
      "len(grid) = 20\n",
      "\u001b[32m2024-03-08 09:47:21.002\u001b[0m | \u001b[1mINFO    \u001b[0m | \u001b[36m__main__\u001b[0m:\u001b[36mcut_tiff_to_grid\u001b[0m:\u001b[36m90\u001b[0m - \u001b[1mfile = 'scratch_20200526_0916_12501_0_3-4_aoi26.tif'\u001b[0m\n",
      "\u001b[32m2024-03-08 09:47:21.002\u001b[0m | \u001b[1mINFO    \u001b[0m | \u001b[36m__main__\u001b[0m:\u001b[36mcut_tiff_to_grid\u001b[0m:\u001b[36m91\u001b[0m - \u001b[1m20 gridcells on tiff-extent\u001b[0m\n",
      "Skipped too small image (out_image.shape = (1, 125, 512))\n",
      "Skipped too small image (out_image.shape = (1, 125, 512))\n",
      "Skipped too small image (out_image.shape = (1, 125, 512))\n",
      "Skipped too small image (out_image.shape = (1, 125, 512))\n",
      "Skipped too small image (out_image.shape = (1, 125, 512))\n",
      "len(grid) = 15\n",
      "\u001b[32m2024-03-08 09:47:21.101\u001b[0m | \u001b[1mINFO    \u001b[0m | \u001b[36m__main__\u001b[0m:\u001b[36mcut_tiff_to_grid\u001b[0m:\u001b[36m90\u001b[0m - \u001b[1mfile = 'scratch_20200526_0924_12501_0_3-4_aoi26.tif'\u001b[0m\n",
      "\u001b[32m2024-03-08 09:47:21.102\u001b[0m | \u001b[1mINFO    \u001b[0m | \u001b[36m__main__\u001b[0m:\u001b[36mcut_tiff_to_grid\u001b[0m:\u001b[36m91\u001b[0m - \u001b[1m15 gridcells on tiff-extent\u001b[0m\n",
      "Skipped too small image (out_image.shape = (1, 125, 512))\n",
      "Skipped too small image (out_image.shape = (1, 125, 512))\n",
      "Skipped too small image (out_image.shape = (1, 125, 512))\n",
      "Skipped too small image (out_image.shape = (1, 125, 512))\n",
      "Skipped too small image (out_image.shape = (1, 125, 512))\n",
      "len(grid) = 25\n",
      "\u001b[32m2024-03-08 09:47:21.193\u001b[0m | \u001b[1mINFO    \u001b[0m | \u001b[36m__main__\u001b[0m:\u001b[36mcut_tiff_to_grid\u001b[0m:\u001b[36m90\u001b[0m - \u001b[1mfile = 'scratch_20200805_0940_12504_0_2-3_aoi27.tif'\u001b[0m\n",
      "\u001b[32m2024-03-08 09:47:21.194\u001b[0m | \u001b[1mINFO    \u001b[0m | \u001b[36m__main__\u001b[0m:\u001b[36mcut_tiff_to_grid\u001b[0m:\u001b[36m91\u001b[0m - \u001b[1m25 gridcells on tiff-extent\u001b[0m\n",
      "\u001b[32m2024-03-08 09:47:21.312\u001b[0m | \u001b[1mINFO    \u001b[0m | \u001b[36m__main__\u001b[0m:\u001b[36m<module>\u001b[0m:\u001b[36m270\u001b[0m - \u001b[1mEnded Program\n",
      "\u001b[0m\n"
     ]
    }
   ],
   "source": [
    "! python utilities/cut_tiff_to_grid.py --config_file {config_train_gt_40cm}"
   ]
  },
  {
   "cell_type": "markdown",
   "metadata": {},
   "source": [
    "## Scratch"
   ]
  },
  {
   "cell_type": "markdown",
   "metadata": {},
   "source": [
    "### 1. RGBI -> RGB"
   ]
  },
  {
   "cell_type": "code",
   "execution_count": null,
   "metadata": {},
   "outputs": [],
   "source": [
    "! python utilities/rgbi2rgb.py --config_file {config_train_scratch_10cm}"
   ]
  },
  {
   "cell_type": "markdown",
   "metadata": {},
   "source": [
    "### 2. Rescale"
   ]
  },
  {
   "cell_type": "markdown",
   "metadata": {},
   "source": [
    "10cm -> 10cm"
   ]
  },
  {
   "cell_type": "code",
   "execution_count": null,
   "metadata": {},
   "outputs": [],
   "source": [
    "! python utilities/rescale.py --config_file {config_train_scratch_10cm}"
   ]
  },
  {
   "cell_type": "markdown",
   "metadata": {},
   "source": [
    "10cm -> 20cm"
   ]
  },
  {
   "cell_type": "code",
   "execution_count": null,
   "metadata": {},
   "outputs": [],
   "source": [
    "! python utilities/rescale.py --config_file {config_train_scratch_20cm}"
   ]
  },
  {
   "cell_type": "markdown",
   "metadata": {},
   "source": [
    "10cm -> 40cm"
   ]
  },
  {
   "cell_type": "code",
   "execution_count": null,
   "metadata": {},
   "outputs": [],
   "source": [
    "! python utilities/rescale.py --config_file {config_train_scratch_40cm}"
   ]
  },
  {
   "cell_type": "markdown",
   "metadata": {},
   "source": [
    "### 3. Cut tiff to grid"
   ]
  },
  {
   "cell_type": "markdown",
   "metadata": {},
   "source": [
    "10cm"
   ]
  },
  {
   "cell_type": "code",
   "execution_count": null,
   "metadata": {},
   "outputs": [],
   "source": [
    "! python utilities/cut_tiff_to_grid.py --config_file {config_train_scratch_10cm}"
   ]
  },
  {
   "cell_type": "markdown",
   "metadata": {},
   "source": [
    "20cm\n"
   ]
  },
  {
   "cell_type": "code",
   "execution_count": 20,
   "metadata": {},
   "outputs": [
    {
     "name": "stdout",
     "output_type": "stream",
     "text": [
      "\u001b[32m2024-03-08 09:46:13.924\u001b[0m | \u001b[1mINFO    \u001b[0m | \u001b[36m__main__\u001b[0m:\u001b[36m<module>\u001b[0m:\u001b[36m258\u001b[0m - \u001b[1mTIFF_FOLDER = '/Users/nicibe/Desktop/Job/swisstopo_stdl/soil_fribourg/data/scratch/horizontal_scratch_mosaics-rgb/2-rescaled/20cm'\u001b[0m\n",
      "\u001b[32m2024-03-08 09:46:13.925\u001b[0m | \u001b[1mINFO    \u001b[0m | \u001b[36m__main__\u001b[0m:\u001b[36m<module>\u001b[0m:\u001b[36m259\u001b[0m - \u001b[1mOUT_FOLDER = '/Users/nicibe/Desktop/Job/swisstopo_stdl/soil_fribourg/data/scratch/horizontal_scratch_mosaics-rgb/3-cut_to_grid/20cm/512px'\u001b[0m\n",
      "\u001b[32m2024-03-08 09:46:13.925\u001b[0m | \u001b[1mINFO    \u001b[0m | \u001b[36m__main__\u001b[0m:\u001b[36m<module>\u001b[0m:\u001b[36m260\u001b[0m - \u001b[1mGRID_PATH = '/Users/nicibe/Desktop/Job/swisstopo_stdl/soil_fribourg/data/heig-vd_finetuned/recursive_grids_max204-8m.gpkg'\u001b[0m\n",
      "\u001b[32m2024-03-08 09:46:13.925\u001b[0m | \u001b[1mINFO    \u001b[0m | \u001b[36m__main__\u001b[0m:\u001b[36m<module>\u001b[0m:\u001b[36m261\u001b[0m - \u001b[1mGRID_QUERY = 'depth == 1'\u001b[0m\n",
      "\u001b[32m2024-03-08 09:46:13.925\u001b[0m | \u001b[1mINFO    \u001b[0m | \u001b[36m__main__\u001b[0m:\u001b[36m<module>\u001b[0m:\u001b[36m262\u001b[0m - \u001b[1mCELL_LENGTH = 512\u001b[0m\n",
      "\u001b[32m2024-03-08 09:46:13.925\u001b[0m | \u001b[1mINFO    \u001b[0m | \u001b[36m__main__\u001b[0m:\u001b[36m<module>\u001b[0m:\u001b[36m263\u001b[0m - \u001b[1mID_COLUMN = 'str_ids'\u001b[0m\n",
      "\u001b[32m2024-03-08 09:46:13.925\u001b[0m | \u001b[1mINFO    \u001b[0m | \u001b[36m__main__\u001b[0m:\u001b[36m<module>\u001b[0m:\u001b[36m264\u001b[0m - \u001b[1mLOG_FILE = '/Users/nicibe/Desktop/Job/swisstopo_stdl/soil_fribourg/proj-soils/logs/cut_tiff_to_grid.log'\u001b[0m\n",
      "\u001b[32m2024-03-08 09:46:13.925\u001b[0m | \u001b[1mINFO    \u001b[0m | \u001b[36m__main__\u001b[0m:\u001b[36m<module>\u001b[0m:\u001b[36m265\u001b[0m - \u001b[1mMASK_PATH = None\u001b[0m\n",
      "\u001b[32m2024-03-08 09:46:13.925\u001b[0m | \u001b[1mINFO    \u001b[0m | \u001b[36m__main__\u001b[0m:\u001b[36m<module>\u001b[0m:\u001b[36m268\u001b[0m - \u001b[1mStarted Programm\u001b[0m\n",
      "len(grid) = 48\n",
      "\u001b[32m2024-03-08 09:46:13.984\u001b[0m | \u001b[1mINFO    \u001b[0m | \u001b[36m__main__\u001b[0m:\u001b[36mcut_tiff_to_grid\u001b[0m:\u001b[36m90\u001b[0m - \u001b[1mfile = 'scratch_20200319_1043_12501_0_49-50-51-53-54_aoi40.tif'\u001b[0m\n",
      "\u001b[32m2024-03-08 09:46:13.984\u001b[0m | \u001b[1mINFO    \u001b[0m | \u001b[36m__main__\u001b[0m:\u001b[36mcut_tiff_to_grid\u001b[0m:\u001b[36m91\u001b[0m - \u001b[1m48 gridcells on tiff-extent\u001b[0m\n",
      "len(grid) = 0\n",
      "len(grid) = 4\n",
      "\u001b[32m2024-03-08 09:46:14.417\u001b[0m | \u001b[1mINFO    \u001b[0m | \u001b[36m__main__\u001b[0m:\u001b[36mcut_tiff_to_grid\u001b[0m:\u001b[36m90\u001b[0m - \u001b[1mfile = 'scratch_20200318_1336_12501_0_47_aoi25.tif'\u001b[0m\n",
      "\u001b[32m2024-03-08 09:46:14.417\u001b[0m | \u001b[1mINFO    \u001b[0m | \u001b[36m__main__\u001b[0m:\u001b[36mcut_tiff_to_grid\u001b[0m:\u001b[36m91\u001b[0m - \u001b[1m4 gridcells on tiff-extent\u001b[0m\n",
      "Skipped too small image (out_image.shape = (3, 27, 513))\n",
      "Skipped too small image (out_image.shape = (3, 27, 513))\n",
      "Skipped too small image (out_image.shape = (3, 27, 513))\n",
      "Skipped too small image (out_image.shape = (3, 27, 513))\n",
      "len(grid) = 32\n",
      "\u001b[32m2024-03-08 09:46:14.442\u001b[0m | \u001b[1mINFO    \u001b[0m | \u001b[36m__main__\u001b[0m:\u001b[36mcut_tiff_to_grid\u001b[0m:\u001b[36m90\u001b[0m - \u001b[1mfile = 'scratch_20200319_1348_12501_0_41-42-43_aoi37.tif'\u001b[0m\n",
      "\u001b[32m2024-03-08 09:46:14.442\u001b[0m | \u001b[1mINFO    \u001b[0m | \u001b[36m__main__\u001b[0m:\u001b[36mcut_tiff_to_grid\u001b[0m:\u001b[36m91\u001b[0m - \u001b[1m32 gridcells on tiff-extent\u001b[0m\n",
      "len(grid) = 96\n",
      "\u001b[32m2024-03-08 09:46:14.830\u001b[0m | \u001b[1mINFO    \u001b[0m | \u001b[36m__main__\u001b[0m:\u001b[36mcut_tiff_to_grid\u001b[0m:\u001b[36m90\u001b[0m - \u001b[1mfile = 'scratch_20200323_1250_12501_0_3-4-5-6_aoi16.tif'\u001b[0m\n",
      "\u001b[32m2024-03-08 09:46:14.830\u001b[0m | \u001b[1mINFO    \u001b[0m | \u001b[36m__main__\u001b[0m:\u001b[36mcut_tiff_to_grid\u001b[0m:\u001b[36m91\u001b[0m - \u001b[1m96 gridcells on tiff-extent\u001b[0m\n",
      "len(grid) = 16\n",
      "\u001b[32m2024-03-08 09:46:15.869\u001b[0m | \u001b[1mINFO    \u001b[0m | \u001b[36m__main__\u001b[0m:\u001b[36mcut_tiff_to_grid\u001b[0m:\u001b[36m90\u001b[0m - \u001b[1mfile = 'scratch_20200323_1159_12501_0_6-7-8-9-10-11-12-13_aoi23.tif'\u001b[0m\n",
      "\u001b[32m2024-03-08 09:46:15.869\u001b[0m | \u001b[1mINFO    \u001b[0m | \u001b[36m__main__\u001b[0m:\u001b[36mcut_tiff_to_grid\u001b[0m:\u001b[36m91\u001b[0m - \u001b[1m16 gridcells on tiff-extent\u001b[0m\n",
      "len(grid) = 0\n",
      "len(grid) = 0\n",
      "len(grid) = 192\n",
      "\u001b[32m2024-03-08 09:46:16.132\u001b[0m | \u001b[1mINFO    \u001b[0m | \u001b[36m__main__\u001b[0m:\u001b[36mcut_tiff_to_grid\u001b[0m:\u001b[36m90\u001b[0m - \u001b[1mfile = 'scratch_20200323_1159_12501_0_6-7-8-9-10-11-12-13_aoi24.tif'\u001b[0m\n",
      "\u001b[32m2024-03-08 09:46:16.132\u001b[0m | \u001b[1mINFO    \u001b[0m | \u001b[36m__main__\u001b[0m:\u001b[36mcut_tiff_to_grid\u001b[0m:\u001b[36m91\u001b[0m - \u001b[1m192 gridcells on tiff-extent\u001b[0m\n",
      "len(grid) = 16\n",
      "\u001b[32m2024-03-08 09:46:18.419\u001b[0m | \u001b[1mINFO    \u001b[0m | \u001b[36m__main__\u001b[0m:\u001b[36mcut_tiff_to_grid\u001b[0m:\u001b[36m90\u001b[0m - \u001b[1mfile = 'scratch_20200318_1318_12501_0_47-48_aoi25.tif'\u001b[0m\n",
      "\u001b[32m2024-03-08 09:46:18.420\u001b[0m | \u001b[1mINFO    \u001b[0m | \u001b[36m__main__\u001b[0m:\u001b[36mcut_tiff_to_grid\u001b[0m:\u001b[36m91\u001b[0m - \u001b[1m16 gridcells on tiff-extent\u001b[0m\n",
      "len(grid) = 16\n",
      "\u001b[32m2024-03-08 09:46:18.579\u001b[0m | \u001b[1mINFO    \u001b[0m | \u001b[36m__main__\u001b[0m:\u001b[36mcut_tiff_to_grid\u001b[0m:\u001b[36m90\u001b[0m - \u001b[1mfile = 'scratch_20200323_1209_12501_0_7-8-9-10-11-12-13-14_aoi32.tif'\u001b[0m\n",
      "\u001b[32m2024-03-08 09:46:18.580\u001b[0m | \u001b[1mINFO    \u001b[0m | \u001b[36m__main__\u001b[0m:\u001b[36mcut_tiff_to_grid\u001b[0m:\u001b[36m91\u001b[0m - \u001b[1m16 gridcells on tiff-extent\u001b[0m\n",
      "len(grid) = 0\n",
      "len(grid) = 16\n",
      "\u001b[32m2024-03-08 09:46:18.748\u001b[0m | \u001b[1mINFO    \u001b[0m | \u001b[36m__main__\u001b[0m:\u001b[36mcut_tiff_to_grid\u001b[0m:\u001b[36m90\u001b[0m - \u001b[1mfile = 'scratch_20200323_1209_12501_0_7-8-9-10-11-12-13-14_aoi24.tif'\u001b[0m\n",
      "\u001b[32m2024-03-08 09:46:18.748\u001b[0m | \u001b[1mINFO    \u001b[0m | \u001b[36m__main__\u001b[0m:\u001b[36mcut_tiff_to_grid\u001b[0m:\u001b[36m91\u001b[0m - \u001b[1m16 gridcells on tiff-extent\u001b[0m\n",
      "Skipped too small image (out_image.shape = (3, 243, 513))\n",
      "Skipped too small image (out_image.shape = (3, 243, 513))\n",
      "Skipped too small image (out_image.shape = (3, 243, 513))\n",
      "Skipped too small image (out_image.shape = (3, 243, 513))\n",
      "Skipped too small image (out_image.shape = (3, 243, 513))\n",
      "Skipped too small image (out_image.shape = (3, 243, 513))\n",
      "Skipped too small image (out_image.shape = (3, 243, 513))\n",
      "Skipped too small image (out_image.shape = (3, 243, 513))\n",
      "Skipped too small image (out_image.shape = (3, 243, 513))\n",
      "Skipped too small image (out_image.shape = (3, 243, 513))\n",
      "Skipped too small image (out_image.shape = (3, 243, 513))\n",
      "Skipped too small image (out_image.shape = (3, 243, 513))\n",
      "Skipped too small image (out_image.shape = (3, 243, 513))\n",
      "Skipped too small image (out_image.shape = (3, 243, 513))\n",
      "Skipped too small image (out_image.shape = (3, 243, 513))\n",
      "Skipped too small image (out_image.shape = (3, 243, 513))\n",
      "len(grid) = 90\n",
      "\u001b[32m2024-03-08 09:46:18.835\u001b[0m | \u001b[1mINFO    \u001b[0m | \u001b[36m__main__\u001b[0m:\u001b[36mcut_tiff_to_grid\u001b[0m:\u001b[36m90\u001b[0m - \u001b[1mfile = 'scratch_20200805_0949_12504_0_2-3_aoi27.tif'\u001b[0m\n",
      "\u001b[32m2024-03-08 09:46:18.835\u001b[0m | \u001b[1mINFO    \u001b[0m | \u001b[36m__main__\u001b[0m:\u001b[36mcut_tiff_to_grid\u001b[0m:\u001b[36m91\u001b[0m - \u001b[1m90 gridcells on tiff-extent\u001b[0m\n",
      "Skipped too small image (out_image.shape = (3, 288, 513))\n",
      "Skipped too small image (out_image.shape = (3, 288, 513))\n",
      "Skipped too small image (out_image.shape = (3, 288, 513))\n",
      "Skipped too small image (out_image.shape = (3, 288, 513))\n",
      "Skipped too small image (out_image.shape = (3, 288, 513))\n",
      "Skipped too small image (out_image.shape = (3, 288, 513))\n",
      "Skipped too small image (out_image.shape = (3, 288, 513))\n",
      "Skipped too small image (out_image.shape = (3, 288, 512))\n",
      "Skipped too small image (out_image.shape = (3, 288, 513))\n",
      "Skipped too small image (out_image.shape = (3, 288, 513))\n",
      "len(grid) = 0\n",
      "len(grid) = 0\n",
      "len(grid) = 12\n",
      "\u001b[32m2024-03-08 09:46:19.597\u001b[0m | \u001b[1mINFO    \u001b[0m | \u001b[36m__main__\u001b[0m:\u001b[36mcut_tiff_to_grid\u001b[0m:\u001b[36m90\u001b[0m - \u001b[1mfile = 'scratch_20200324_1038_12501_0_33-34-35_aoi37.tif'\u001b[0m\n",
      "\u001b[32m2024-03-08 09:46:19.597\u001b[0m | \u001b[1mINFO    \u001b[0m | \u001b[36m__main__\u001b[0m:\u001b[36mcut_tiff_to_grid\u001b[0m:\u001b[36m91\u001b[0m - \u001b[1m12 gridcells on tiff-extent\u001b[0m\n",
      "Skipped too small image (out_image.shape = (3, 251, 513))\n",
      "Skipped too small image (out_image.shape = (3, 251, 513))\n",
      "Skipped too small image (out_image.shape = (3, 251, 513))\n",
      "Skipped too small image (out_image.shape = (3, 251, 513))\n",
      "Skipped too small image (out_image.shape = (3, 251, 513))\n",
      "Skipped too small image (out_image.shape = (3, 251, 513))\n",
      "Skipped too small image (out_image.shape = (3, 251, 513))\n",
      "Skipped too small image (out_image.shape = (3, 251, 513))\n",
      "len(grid) = 0\n",
      "len(grid) = 10\n",
      "\u001b[32m2024-03-08 09:46:19.687\u001b[0m | \u001b[1mINFO    \u001b[0m | \u001b[36m__main__\u001b[0m:\u001b[36mcut_tiff_to_grid\u001b[0m:\u001b[36m90\u001b[0m - \u001b[1mfile = 'scratch_20200318_1215_12501_0_48-49_aoi26.tif'\u001b[0m\n",
      "\u001b[32m2024-03-08 09:46:19.687\u001b[0m | \u001b[1mINFO    \u001b[0m | \u001b[36m__main__\u001b[0m:\u001b[36mcut_tiff_to_grid\u001b[0m:\u001b[36m91\u001b[0m - \u001b[1m10 gridcells on tiff-extent\u001b[0m\n",
      "Skipped too small image (out_image.shape = (3, 49, 513))\n",
      "Skipped too small image (out_image.shape = (3, 49, 513))\n",
      "Skipped too small image (out_image.shape = (3, 49, 513))\n",
      "Skipped too small image (out_image.shape = (3, 49, 513))\n",
      "Skipped too small image (out_image.shape = (3, 49, 513))\n",
      "Skipped too small image (out_image.shape = (3, 49, 513))\n",
      "Skipped too small image (out_image.shape = (3, 49, 513))\n",
      "Skipped too small image (out_image.shape = (3, 49, 513))\n",
      "Skipped too small image (out_image.shape = (3, 49, 513))\n",
      "Skipped too small image (out_image.shape = (3, 49, 513))\n",
      "len(grid) = 0\n",
      "len(grid) = 80\n",
      "\u001b[32m2024-03-08 09:46:19.742\u001b[0m | \u001b[1mINFO    \u001b[0m | \u001b[36m__main__\u001b[0m:\u001b[36mcut_tiff_to_grid\u001b[0m:\u001b[36m90\u001b[0m - \u001b[1mfile = 'scratch_20200318_1231_12501_0_47-48_aoi26.tif'\u001b[0m\n",
      "\u001b[32m2024-03-08 09:46:19.742\u001b[0m | \u001b[1mINFO    \u001b[0m | \u001b[36m__main__\u001b[0m:\u001b[36mcut_tiff_to_grid\u001b[0m:\u001b[36m91\u001b[0m - \u001b[1m80 gridcells on tiff-extent\u001b[0m\n",
      "Skipped too small image (out_image.shape = (3, 334, 513))\n",
      "Skipped too small image (out_image.shape = (3, 334, 513))\n",
      "Skipped too small image (out_image.shape = (3, 334, 513))\n",
      "Skipped too small image (out_image.shape = (3, 334, 513))\n",
      "Skipped too small image (out_image.shape = (3, 334, 513))\n",
      "Skipped too small image (out_image.shape = (3, 334, 513))\n",
      "Skipped too small image (out_image.shape = (3, 334, 513))\n",
      "Skipped too small image (out_image.shape = (3, 334, 513))\n",
      "Skipped too small image (out_image.shape = (3, 334, 513))\n",
      "Skipped too small image (out_image.shape = (3, 334, 513))\n",
      "len(grid) = 0\n",
      "len(grid) = 144\n",
      "\u001b[32m2024-03-08 09:46:20.455\u001b[0m | \u001b[1mINFO    \u001b[0m | \u001b[36m__main__\u001b[0m:\u001b[36mcut_tiff_to_grid\u001b[0m:\u001b[36m90\u001b[0m - \u001b[1mfile = 'scratch_20200323_1301_12501_0_5-6-7_aoi16.tif'\u001b[0m\n",
      "\u001b[32m2024-03-08 09:46:20.455\u001b[0m | \u001b[1mINFO    \u001b[0m | \u001b[36m__main__\u001b[0m:\u001b[36mcut_tiff_to_grid\u001b[0m:\u001b[36m91\u001b[0m - \u001b[1m144 gridcells on tiff-extent\u001b[0m\n",
      "Skipped too small image (out_image.shape = (3, 250, 513))\n",
      "Skipped too small image (out_image.shape = (3, 250, 513))\n",
      "Skipped too small image (out_image.shape = (3, 250, 513))\n",
      "Skipped too small image (out_image.shape = (3, 250, 513))\n",
      "Skipped too small image (out_image.shape = (3, 250, 513))\n",
      "Skipped too small image (out_image.shape = (3, 250, 513))\n",
      "Skipped too small image (out_image.shape = (3, 250, 513))\n",
      "Skipped too small image (out_image.shape = (3, 250, 513))\n",
      "Skipped too small image (out_image.shape = (3, 250, 512))\n",
      "Skipped too small image (out_image.shape = (3, 250, 513))\n",
      "Skipped too small image (out_image.shape = (3, 250, 513))\n",
      "Skipped too small image (out_image.shape = (3, 250, 513))\n",
      "Skipped too small image (out_image.shape = (3, 250, 513))\n",
      "Skipped too small image (out_image.shape = (3, 250, 513))\n",
      "Skipped too small image (out_image.shape = (3, 250, 513))\n",
      "Skipped too small image (out_image.shape = (3, 250, 513))\n",
      "len(grid) = 70\n",
      "\u001b[32m2024-03-08 09:46:21.526\u001b[0m | \u001b[1mINFO    \u001b[0m | \u001b[36m__main__\u001b[0m:\u001b[36mcut_tiff_to_grid\u001b[0m:\u001b[36m90\u001b[0m - \u001b[1mfile = 'scratch_20200526_0916_12501_0_3-4_aoi26.tif'\u001b[0m\n",
      "\u001b[32m2024-03-08 09:46:21.526\u001b[0m | \u001b[1mINFO    \u001b[0m | \u001b[36m__main__\u001b[0m:\u001b[36mcut_tiff_to_grid\u001b[0m:\u001b[36m91\u001b[0m - \u001b[1m70 gridcells on tiff-extent\u001b[0m\n",
      "Skipped too small image (out_image.shape = (3, 265, 513))\n",
      "Skipped too small image (out_image.shape = (3, 265, 513))\n",
      "Skipped too small image (out_image.shape = (3, 265, 513))\n",
      "Skipped too small image (out_image.shape = (3, 265, 513))\n",
      "Skipped too small image (out_image.shape = (3, 265, 513))\n",
      "Skipped too small image (out_image.shape = (3, 265, 513))\n",
      "Skipped too small image (out_image.shape = (3, 265, 513))\n",
      "Skipped too small image (out_image.shape = (3, 265, 513))\n",
      "Skipped too small image (out_image.shape = (3, 265, 513))\n",
      "Skipped too small image (out_image.shape = (3, 265, 513))\n",
      "len(grid) = 0\n",
      "len(grid) = 0\n",
      "len(grid) = 50\n",
      "\u001b[32m2024-03-08 09:46:22.223\u001b[0m | \u001b[1mINFO    \u001b[0m | \u001b[36m__main__\u001b[0m:\u001b[36mcut_tiff_to_grid\u001b[0m:\u001b[36m90\u001b[0m - \u001b[1mfile = 'scratch_20200526_0924_12501_0_3-4_aoi26.tif'\u001b[0m\n",
      "\u001b[32m2024-03-08 09:46:22.223\u001b[0m | \u001b[1mINFO    \u001b[0m | \u001b[36m__main__\u001b[0m:\u001b[36mcut_tiff_to_grid\u001b[0m:\u001b[36m91\u001b[0m - \u001b[1m50 gridcells on tiff-extent\u001b[0m\n",
      "Skipped too small image (out_image.shape = (3, 261, 513))\n",
      "Skipped too small image (out_image.shape = (3, 261, 513))\n",
      "Skipped too small image (out_image.shape = (3, 261, 513))\n",
      "Skipped too small image (out_image.shape = (3, 261, 513))\n",
      "Skipped too small image (out_image.shape = (3, 261, 513))\n",
      "Skipped too small image (out_image.shape = (3, 261, 513))\n",
      "Skipped too small image (out_image.shape = (3, 261, 513))\n",
      "Skipped too small image (out_image.shape = (3, 261, 513))\n",
      "Skipped too small image (out_image.shape = (3, 261, 513))\n",
      "Skipped too small image (out_image.shape = (3, 261, 513))\n",
      "len(grid) = 0\n",
      "len(grid) = 30\n",
      "\u001b[32m2024-03-08 09:46:22.615\u001b[0m | \u001b[1mINFO    \u001b[0m | \u001b[36m__main__\u001b[0m:\u001b[36mcut_tiff_to_grid\u001b[0m:\u001b[36m90\u001b[0m - \u001b[1mfile = 'scratch_20200318_1247_12501_0_47-48_aoi26.tif'\u001b[0m\n",
      "\u001b[32m2024-03-08 09:46:22.615\u001b[0m | \u001b[1mINFO    \u001b[0m | \u001b[36m__main__\u001b[0m:\u001b[36mcut_tiff_to_grid\u001b[0m:\u001b[36m91\u001b[0m - \u001b[1m30 gridcells on tiff-extent\u001b[0m\n",
      "Skipped too small image (out_image.shape = (3, 453, 513))\n",
      "Skipped too small image (out_image.shape = (3, 453, 512))\n",
      "Skipped too small image (out_image.shape = (3, 453, 512))\n",
      "Skipped too small image (out_image.shape = (3, 453, 512))\n",
      "Skipped too small image (out_image.shape = (3, 453, 512))\n",
      "Skipped too small image (out_image.shape = (3, 453, 512))\n",
      "Skipped too small image (out_image.shape = (3, 453, 512))\n",
      "Skipped too small image (out_image.shape = (3, 453, 512))\n",
      "Skipped too small image (out_image.shape = (3, 453, 512))\n",
      "Skipped too small image (out_image.shape = (3, 453, 512))\n",
      "len(grid) = 16\n",
      "\u001b[32m2024-03-08 09:46:22.846\u001b[0m | \u001b[1mINFO    \u001b[0m | \u001b[36m__main__\u001b[0m:\u001b[36mcut_tiff_to_grid\u001b[0m:\u001b[36m90\u001b[0m - \u001b[1mfile = 'scratch_20200323_1151_12501_0_9-10-11_aoi24.tif'\u001b[0m\n",
      "\u001b[32m2024-03-08 09:46:22.846\u001b[0m | \u001b[1mINFO    \u001b[0m | \u001b[36m__main__\u001b[0m:\u001b[36mcut_tiff_to_grid\u001b[0m:\u001b[36m91\u001b[0m - \u001b[1m16 gridcells on tiff-extent\u001b[0m\n",
      "Skipped too small image (out_image.shape = (3, 36, 513))\n",
      "Skipped too small image (out_image.shape = (3, 36, 513))\n",
      "Skipped too small image (out_image.shape = (3, 36, 513))\n",
      "Skipped too small image (out_image.shape = (3, 36, 513))\n",
      "Skipped too small image (out_image.shape = (3, 36, 513))\n",
      "Skipped too small image (out_image.shape = (3, 36, 513))\n",
      "Skipped too small image (out_image.shape = (3, 36, 513))\n",
      "Skipped too small image (out_image.shape = (3, 36, 513))\n",
      "Skipped too small image (out_image.shape = (3, 36, 513))\n",
      "Skipped too small image (out_image.shape = (3, 36, 513))\n",
      "Skipped too small image (out_image.shape = (3, 36, 513))\n",
      "Skipped too small image (out_image.shape = (3, 36, 513))\n",
      "Skipped too small image (out_image.shape = (3, 36, 513))\n",
      "Skipped too small image (out_image.shape = (3, 36, 513))\n",
      "Skipped too small image (out_image.shape = (3, 36, 513))\n",
      "Skipped too small image (out_image.shape = (3, 36, 513))\n",
      "len(grid) = 0\n",
      "len(grid) = 100\n",
      "\u001b[32m2024-03-08 09:46:22.914\u001b[0m | \u001b[1mINFO    \u001b[0m | \u001b[36m__main__\u001b[0m:\u001b[36mcut_tiff_to_grid\u001b[0m:\u001b[36m90\u001b[0m - \u001b[1mfile = 'scratch_20200805_0940_12504_0_2-3_aoi27.tif'\u001b[0m\n",
      "\u001b[32m2024-03-08 09:46:22.914\u001b[0m | \u001b[1mINFO    \u001b[0m | \u001b[36m__main__\u001b[0m:\u001b[36mcut_tiff_to_grid\u001b[0m:\u001b[36m91\u001b[0m - \u001b[1m100 gridcells on tiff-extent\u001b[0m\n",
      "\u001b[32m2024-03-08 09:46:23.760\u001b[0m | \u001b[1mINFO    \u001b[0m | \u001b[36m__main__\u001b[0m:\u001b[36m<module>\u001b[0m:\u001b[36m270\u001b[0m - \u001b[1mEnded Program\n",
      "\u001b[0m\n"
     ]
    }
   ],
   "source": [
    "! python utilities/cut_tiff_to_grid.py --config_file {config_train_scratch_20cm}"
   ]
  },
  {
   "cell_type": "markdown",
   "metadata": {},
   "source": [
    "40cm\n"
   ]
  },
  {
   "cell_type": "code",
   "execution_count": 21,
   "metadata": {},
   "outputs": [
    {
     "name": "stdout",
     "output_type": "stream",
     "text": [
      "\u001b[32m2024-03-08 09:46:24.566\u001b[0m | \u001b[1mINFO    \u001b[0m | \u001b[36m__main__\u001b[0m:\u001b[36m<module>\u001b[0m:\u001b[36m258\u001b[0m - \u001b[1mTIFF_FOLDER = '/Users/nicibe/Desktop/Job/swisstopo_stdl/soil_fribourg/data/scratch/horizontal_scratch_mosaics-rgb/2-rescaled/40cm'\u001b[0m\n",
      "\u001b[32m2024-03-08 09:46:24.566\u001b[0m | \u001b[1mINFO    \u001b[0m | \u001b[36m__main__\u001b[0m:\u001b[36m<module>\u001b[0m:\u001b[36m259\u001b[0m - \u001b[1mOUT_FOLDER = '/Users/nicibe/Desktop/Job/swisstopo_stdl/soil_fribourg/data/scratch/horizontal_scratch_mosaics-rgb/3-cut_to_grid/40cm/512px'\u001b[0m\n",
      "\u001b[32m2024-03-08 09:46:24.566\u001b[0m | \u001b[1mINFO    \u001b[0m | \u001b[36m__main__\u001b[0m:\u001b[36m<module>\u001b[0m:\u001b[36m260\u001b[0m - \u001b[1mGRID_PATH = '/Users/nicibe/Desktop/Job/swisstopo_stdl/soil_fribourg/data/heig-vd_finetuned/recursive_grids_max204-8m.gpkg'\u001b[0m\n",
      "\u001b[32m2024-03-08 09:46:24.566\u001b[0m | \u001b[1mINFO    \u001b[0m | \u001b[36m__main__\u001b[0m:\u001b[36m<module>\u001b[0m:\u001b[36m261\u001b[0m - \u001b[1mGRID_QUERY = 'depth == 2'\u001b[0m\n",
      "\u001b[32m2024-03-08 09:46:24.566\u001b[0m | \u001b[1mINFO    \u001b[0m | \u001b[36m__main__\u001b[0m:\u001b[36m<module>\u001b[0m:\u001b[36m262\u001b[0m - \u001b[1mCELL_LENGTH = 512\u001b[0m\n",
      "\u001b[32m2024-03-08 09:46:24.566\u001b[0m | \u001b[1mINFO    \u001b[0m | \u001b[36m__main__\u001b[0m:\u001b[36m<module>\u001b[0m:\u001b[36m263\u001b[0m - \u001b[1mID_COLUMN = 'str_ids'\u001b[0m\n",
      "\u001b[32m2024-03-08 09:46:24.566\u001b[0m | \u001b[1mINFO    \u001b[0m | \u001b[36m__main__\u001b[0m:\u001b[36m<module>\u001b[0m:\u001b[36m264\u001b[0m - \u001b[1mLOG_FILE = '/Users/nicibe/Desktop/Job/swisstopo_stdl/soil_fribourg/proj-soils/logs/cut_tiff_to_grid.log'\u001b[0m\n",
      "\u001b[32m2024-03-08 09:46:24.567\u001b[0m | \u001b[1mINFO    \u001b[0m | \u001b[36m__main__\u001b[0m:\u001b[36m<module>\u001b[0m:\u001b[36m265\u001b[0m - \u001b[1mMASK_PATH = None\u001b[0m\n",
      "\u001b[32m2024-03-08 09:46:24.567\u001b[0m | \u001b[1mINFO    \u001b[0m | \u001b[36m__main__\u001b[0m:\u001b[36m<module>\u001b[0m:\u001b[36m268\u001b[0m - \u001b[1mStarted Programm\u001b[0m\n",
      "len(grid) = 12\n",
      "\u001b[32m2024-03-08 09:46:24.624\u001b[0m | \u001b[1mINFO    \u001b[0m | \u001b[36m__main__\u001b[0m:\u001b[36mcut_tiff_to_grid\u001b[0m:\u001b[36m90\u001b[0m - \u001b[1mfile = 'scratch_20200319_1043_12501_0_49-50-51-53-54_aoi40.tif'\u001b[0m\n",
      "\u001b[32m2024-03-08 09:46:24.625\u001b[0m | \u001b[1mINFO    \u001b[0m | \u001b[36m__main__\u001b[0m:\u001b[36mcut_tiff_to_grid\u001b[0m:\u001b[36m91\u001b[0m - \u001b[1m12 gridcells on tiff-extent\u001b[0m\n",
      "len(grid) = 0\n",
      "len(grid) = 2\n",
      "\u001b[32m2024-03-08 09:46:24.745\u001b[0m | \u001b[1mINFO    \u001b[0m | \u001b[36m__main__\u001b[0m:\u001b[36mcut_tiff_to_grid\u001b[0m:\u001b[36m90\u001b[0m - \u001b[1mfile = 'scratch_20200318_1336_12501_0_47_aoi25.tif'\u001b[0m\n",
      "\u001b[32m2024-03-08 09:46:24.746\u001b[0m | \u001b[1mINFO    \u001b[0m | \u001b[36m__main__\u001b[0m:\u001b[36mcut_tiff_to_grid\u001b[0m:\u001b[36m91\u001b[0m - \u001b[1m2 gridcells on tiff-extent\u001b[0m\n",
      "Skipped too small image (out_image.shape = (3, 14, 513))\n",
      "Skipped too small image (out_image.shape = (3, 14, 513))\n",
      "len(grid) = 8\n",
      "\u001b[32m2024-03-08 09:46:24.767\u001b[0m | \u001b[1mINFO    \u001b[0m | \u001b[36m__main__\u001b[0m:\u001b[36mcut_tiff_to_grid\u001b[0m:\u001b[36m90\u001b[0m - \u001b[1mfile = 'scratch_20200319_1348_12501_0_41-42-43_aoi37.tif'\u001b[0m\n",
      "\u001b[32m2024-03-08 09:46:24.767\u001b[0m | \u001b[1mINFO    \u001b[0m | \u001b[36m__main__\u001b[0m:\u001b[36mcut_tiff_to_grid\u001b[0m:\u001b[36m91\u001b[0m - \u001b[1m8 gridcells on tiff-extent\u001b[0m\n",
      "len(grid) = 24\n",
      "\u001b[32m2024-03-08 09:46:24.874\u001b[0m | \u001b[1mINFO    \u001b[0m | \u001b[36m__main__\u001b[0m:\u001b[36mcut_tiff_to_grid\u001b[0m:\u001b[36m90\u001b[0m - \u001b[1mfile = 'scratch_20200323_1250_12501_0_3-4-5-6_aoi16.tif'\u001b[0m\n",
      "\u001b[32m2024-03-08 09:46:24.874\u001b[0m | \u001b[1mINFO    \u001b[0m | \u001b[36m__main__\u001b[0m:\u001b[36mcut_tiff_to_grid\u001b[0m:\u001b[36m91\u001b[0m - \u001b[1m24 gridcells on tiff-extent\u001b[0m\n",
      "len(grid) = 4\n",
      "\u001b[32m2024-03-08 09:46:25.072\u001b[0m | \u001b[1mINFO    \u001b[0m | \u001b[36m__main__\u001b[0m:\u001b[36mcut_tiff_to_grid\u001b[0m:\u001b[36m90\u001b[0m - \u001b[1mfile = 'scratch_20200323_1159_12501_0_6-7-8-9-10-11-12-13_aoi23.tif'\u001b[0m\n",
      "\u001b[32m2024-03-08 09:46:25.072\u001b[0m | \u001b[1mINFO    \u001b[0m | \u001b[36m__main__\u001b[0m:\u001b[36mcut_tiff_to_grid\u001b[0m:\u001b[36m91\u001b[0m - \u001b[1m4 gridcells on tiff-extent\u001b[0m\n",
      "len(grid) = 0\n",
      "len(grid) = 0\n",
      "len(grid) = 48\n",
      "\u001b[32m2024-03-08 09:46:25.203\u001b[0m | \u001b[1mINFO    \u001b[0m | \u001b[36m__main__\u001b[0m:\u001b[36mcut_tiff_to_grid\u001b[0m:\u001b[36m90\u001b[0m - \u001b[1mfile = 'scratch_20200323_1159_12501_0_6-7-8-9-10-11-12-13_aoi24.tif'\u001b[0m\n",
      "\u001b[32m2024-03-08 09:46:25.203\u001b[0m | \u001b[1mINFO    \u001b[0m | \u001b[36m__main__\u001b[0m:\u001b[36mcut_tiff_to_grid\u001b[0m:\u001b[36m91\u001b[0m - \u001b[1m48 gridcells on tiff-extent\u001b[0m\n",
      "len(grid) = 4\n",
      "\u001b[32m2024-03-08 09:46:25.615\u001b[0m | \u001b[1mINFO    \u001b[0m | \u001b[36m__main__\u001b[0m:\u001b[36mcut_tiff_to_grid\u001b[0m:\u001b[36m90\u001b[0m - \u001b[1mfile = 'scratch_20200318_1318_12501_0_47-48_aoi25.tif'\u001b[0m\n",
      "\u001b[32m2024-03-08 09:46:25.615\u001b[0m | \u001b[1mINFO    \u001b[0m | \u001b[36m__main__\u001b[0m:\u001b[36mcut_tiff_to_grid\u001b[0m:\u001b[36m91\u001b[0m - \u001b[1m4 gridcells on tiff-extent\u001b[0m\n",
      "len(grid) = 4\n",
      "\u001b[32m2024-03-08 09:46:25.675\u001b[0m | \u001b[1mINFO    \u001b[0m | \u001b[36m__main__\u001b[0m:\u001b[36mcut_tiff_to_grid\u001b[0m:\u001b[36m90\u001b[0m - \u001b[1mfile = 'scratch_20200323_1209_12501_0_7-8-9-10-11-12-13-14_aoi32.tif'\u001b[0m\n",
      "\u001b[32m2024-03-08 09:46:25.675\u001b[0m | \u001b[1mINFO    \u001b[0m | \u001b[36m__main__\u001b[0m:\u001b[36mcut_tiff_to_grid\u001b[0m:\u001b[36m91\u001b[0m - \u001b[1m4 gridcells on tiff-extent\u001b[0m\n",
      "len(grid) = 0\n",
      "len(grid) = 8\n",
      "\u001b[32m2024-03-08 09:46:25.735\u001b[0m | \u001b[1mINFO    \u001b[0m | \u001b[36m__main__\u001b[0m:\u001b[36mcut_tiff_to_grid\u001b[0m:\u001b[36m90\u001b[0m - \u001b[1mfile = 'scratch_20200323_1209_12501_0_7-8-9-10-11-12-13-14_aoi24.tif'\u001b[0m\n",
      "\u001b[32m2024-03-08 09:46:25.735\u001b[0m | \u001b[1mINFO    \u001b[0m | \u001b[36m__main__\u001b[0m:\u001b[36mcut_tiff_to_grid\u001b[0m:\u001b[36m91\u001b[0m - \u001b[1m8 gridcells on tiff-extent\u001b[0m\n",
      "Skipped too small image (out_image.shape = (3, 122, 513))\n",
      "Skipped too small image (out_image.shape = (3, 122, 513))\n",
      "Skipped too small image (out_image.shape = (3, 122, 513))\n",
      "Skipped too small image (out_image.shape = (3, 122, 513))\n",
      "Skipped too small image (out_image.shape = (3, 122, 513))\n",
      "Skipped too small image (out_image.shape = (3, 122, 513))\n",
      "Skipped too small image (out_image.shape = (3, 122, 513))\n",
      "Skipped too small image (out_image.shape = (3, 122, 513))\n",
      "len(grid) = 25\n",
      "\u001b[32m2024-03-08 09:46:25.791\u001b[0m | \u001b[1mINFO    \u001b[0m | \u001b[36m__main__\u001b[0m:\u001b[36mcut_tiff_to_grid\u001b[0m:\u001b[36m90\u001b[0m - \u001b[1mfile = 'scratch_20200805_0949_12504_0_2-3_aoi27.tif'\u001b[0m\n",
      "\u001b[32m2024-03-08 09:46:25.792\u001b[0m | \u001b[1mINFO    \u001b[0m | \u001b[36m__main__\u001b[0m:\u001b[36mcut_tiff_to_grid\u001b[0m:\u001b[36m91\u001b[0m - \u001b[1m25 gridcells on tiff-extent\u001b[0m\n",
      "Skipped too small image (out_image.shape = (3, 144, 513))\n",
      "Skipped too small image (out_image.shape = (3, 144, 513))\n",
      "Skipped too small image (out_image.shape = (3, 144, 513))\n",
      "Skipped too small image (out_image.shape = (3, 144, 512))\n",
      "Skipped too small image (out_image.shape = (3, 144, 513))\n",
      "len(grid) = 0\n",
      "len(grid) = 0\n",
      "len(grid) = 5\n",
      "\u001b[32m2024-03-08 09:46:26.040\u001b[0m | \u001b[1mINFO    \u001b[0m | \u001b[36m__main__\u001b[0m:\u001b[36mcut_tiff_to_grid\u001b[0m:\u001b[36m90\u001b[0m - \u001b[1mfile = 'scratch_20200324_1038_12501_0_33-34-35_aoi37.tif'\u001b[0m\n",
      "\u001b[32m2024-03-08 09:46:26.041\u001b[0m | \u001b[1mINFO    \u001b[0m | \u001b[36m__main__\u001b[0m:\u001b[36mcut_tiff_to_grid\u001b[0m:\u001b[36m91\u001b[0m - \u001b[1m5 gridcells on tiff-extent\u001b[0m\n",
      "Skipped too small image (out_image.shape = (3, 126, 513))\n",
      "Skipped too small image (out_image.shape = (3, 126, 513))\n",
      "Skipped too small image (out_image.shape = (3, 126, 513))\n",
      "Skipped too small image (out_image.shape = (3, 126, 513))\n",
      "len(grid) = 0\n",
      "len(grid) = 5\n",
      "\u001b[32m2024-03-08 09:46:26.085\u001b[0m | \u001b[1mINFO    \u001b[0m | \u001b[36m__main__\u001b[0m:\u001b[36mcut_tiff_to_grid\u001b[0m:\u001b[36m90\u001b[0m - \u001b[1mfile = 'scratch_20200318_1215_12501_0_48-49_aoi26.tif'\u001b[0m\n",
      "\u001b[32m2024-03-08 09:46:26.085\u001b[0m | \u001b[1mINFO    \u001b[0m | \u001b[36m__main__\u001b[0m:\u001b[36mcut_tiff_to_grid\u001b[0m:\u001b[36m91\u001b[0m - \u001b[1m5 gridcells on tiff-extent\u001b[0m\n",
      "Skipped too small image (out_image.shape = (3, 25, 513))\n",
      "Skipped too small image (out_image.shape = (3, 25, 513))\n",
      "Skipped too small image (out_image.shape = (3, 25, 513))\n",
      "Skipped too small image (out_image.shape = (3, 25, 513))\n",
      "Skipped too small image (out_image.shape = (3, 25, 513))\n",
      "len(grid) = 0\n",
      "len(grid) = 20\n",
      "\u001b[32m2024-03-08 09:46:26.140\u001b[0m | \u001b[1mINFO    \u001b[0m | \u001b[36m__main__\u001b[0m:\u001b[36mcut_tiff_to_grid\u001b[0m:\u001b[36m90\u001b[0m - \u001b[1mfile = 'scratch_20200318_1231_12501_0_47-48_aoi26.tif'\u001b[0m\n",
      "\u001b[32m2024-03-08 09:46:26.140\u001b[0m | \u001b[1mINFO    \u001b[0m | \u001b[36m__main__\u001b[0m:\u001b[36mcut_tiff_to_grid\u001b[0m:\u001b[36m91\u001b[0m - \u001b[1m20 gridcells on tiff-extent\u001b[0m\n",
      "Skipped too small image (out_image.shape = (3, 423, 513))\n",
      "Skipped too small image (out_image.shape = (3, 423, 513))\n",
      "Skipped too small image (out_image.shape = (3, 423, 513))\n",
      "Skipped too small image (out_image.shape = (3, 423, 513))\n",
      "Skipped too small image (out_image.shape = (3, 423, 513))\n",
      "len(grid) = 0\n",
      "len(grid) = 40\n",
      "\u001b[32m2024-03-08 09:46:26.363\u001b[0m | \u001b[1mINFO    \u001b[0m | \u001b[36m__main__\u001b[0m:\u001b[36mcut_tiff_to_grid\u001b[0m:\u001b[36m90\u001b[0m - \u001b[1mfile = 'scratch_20200323_1301_12501_0_5-6-7_aoi16.tif'\u001b[0m\n",
      "\u001b[32m2024-03-08 09:46:26.363\u001b[0m | \u001b[1mINFO    \u001b[0m | \u001b[36m__main__\u001b[0m:\u001b[36mcut_tiff_to_grid\u001b[0m:\u001b[36m91\u001b[0m - \u001b[1m40 gridcells on tiff-extent\u001b[0m\n",
      "Skipped too small image (out_image.shape = (3, 125, 513))\n",
      "Skipped too small image (out_image.shape = (3, 125, 512))\n",
      "Skipped too small image (out_image.shape = (3, 125, 513))\n",
      "Skipped too small image (out_image.shape = (3, 125, 513))\n",
      "Skipped too small image (out_image.shape = (3, 125, 513))\n",
      "Skipped too small image (out_image.shape = (3, 125, 513))\n",
      "Skipped too small image (out_image.shape = (3, 125, 513))\n",
      "Skipped too small image (out_image.shape = (3, 125, 513))\n",
      "len(grid) = 20\n",
      "\u001b[32m2024-03-08 09:46:26.676\u001b[0m | \u001b[1mINFO    \u001b[0m | \u001b[36m__main__\u001b[0m:\u001b[36mcut_tiff_to_grid\u001b[0m:\u001b[36m90\u001b[0m - \u001b[1mfile = 'scratch_20200526_0916_12501_0_3-4_aoi26.tif'\u001b[0m\n",
      "\u001b[32m2024-03-08 09:46:26.676\u001b[0m | \u001b[1mINFO    \u001b[0m | \u001b[36m__main__\u001b[0m:\u001b[36mcut_tiff_to_grid\u001b[0m:\u001b[36m91\u001b[0m - \u001b[1m20 gridcells on tiff-extent\u001b[0m\n",
      "Skipped too small image (out_image.shape = (3, 133, 513))\n",
      "Skipped too small image (out_image.shape = (3, 133, 513))\n",
      "Skipped too small image (out_image.shape = (3, 133, 513))\n",
      "Skipped too small image (out_image.shape = (3, 133, 513))\n",
      "Skipped too small image (out_image.shape = (3, 133, 513))\n",
      "len(grid) = 0\n",
      "len(grid) = 0\n",
      "len(grid) = 15\n",
      "\u001b[32m2024-03-08 09:46:26.877\u001b[0m | \u001b[1mINFO    \u001b[0m | \u001b[36m__main__\u001b[0m:\u001b[36mcut_tiff_to_grid\u001b[0m:\u001b[36m90\u001b[0m - \u001b[1mfile = 'scratch_20200526_0924_12501_0_3-4_aoi26.tif'\u001b[0m\n",
      "\u001b[32m2024-03-08 09:46:26.878\u001b[0m | \u001b[1mINFO    \u001b[0m | \u001b[36m__main__\u001b[0m:\u001b[36mcut_tiff_to_grid\u001b[0m:\u001b[36m91\u001b[0m - \u001b[1m15 gridcells on tiff-extent\u001b[0m\n",
      "Skipped too small image (out_image.shape = (3, 131, 513))\n",
      "Skipped too small image (out_image.shape = (3, 131, 513))\n",
      "Skipped too small image (out_image.shape = (3, 131, 513))\n",
      "Skipped too small image (out_image.shape = (3, 131, 513))\n",
      "Skipped too small image (out_image.shape = (3, 131, 513))\n",
      "len(grid) = 0\n",
      "len(grid) = 10\n",
      "\u001b[32m2024-03-08 09:46:27.004\u001b[0m | \u001b[1mINFO    \u001b[0m | \u001b[36m__main__\u001b[0m:\u001b[36mcut_tiff_to_grid\u001b[0m:\u001b[36m90\u001b[0m - \u001b[1mfile = 'scratch_20200318_1247_12501_0_47-48_aoi26.tif'\u001b[0m\n",
      "\u001b[32m2024-03-08 09:46:27.004\u001b[0m | \u001b[1mINFO    \u001b[0m | \u001b[36m__main__\u001b[0m:\u001b[36mcut_tiff_to_grid\u001b[0m:\u001b[36m91\u001b[0m - \u001b[1m10 gridcells on tiff-extent\u001b[0m\n",
      "Skipped too small image (out_image.shape = (3, 227, 513))\n",
      "Skipped too small image (out_image.shape = (3, 227, 513))\n",
      "Skipped too small image (out_image.shape = (3, 227, 513))\n",
      "Skipped too small image (out_image.shape = (3, 227, 513))\n",
      "Skipped too small image (out_image.shape = (3, 227, 513))\n",
      "len(grid) = 8\n",
      "\u001b[32m2024-03-08 09:46:27.077\u001b[0m | \u001b[1mINFO    \u001b[0m | \u001b[36m__main__\u001b[0m:\u001b[36mcut_tiff_to_grid\u001b[0m:\u001b[36m90\u001b[0m - \u001b[1mfile = 'scratch_20200323_1151_12501_0_9-10-11_aoi24.tif'\u001b[0m\n",
      "\u001b[32m2024-03-08 09:46:27.078\u001b[0m | \u001b[1mINFO    \u001b[0m | \u001b[36m__main__\u001b[0m:\u001b[36mcut_tiff_to_grid\u001b[0m:\u001b[36m91\u001b[0m - \u001b[1m8 gridcells on tiff-extent\u001b[0m\n",
      "Skipped too small image (out_image.shape = (3, 18, 513))\n",
      "Skipped too small image (out_image.shape = (3, 18, 513))\n",
      "Skipped too small image (out_image.shape = (3, 18, 513))\n",
      "Skipped too small image (out_image.shape = (3, 18, 513))\n",
      "Skipped too small image (out_image.shape = (3, 18, 512))\n",
      "Skipped too small image (out_image.shape = (3, 18, 513))\n",
      "Skipped too small image (out_image.shape = (3, 18, 513))\n",
      "Skipped too small image (out_image.shape = (3, 18, 513))\n",
      "len(grid) = 0\n",
      "len(grid) = 25\n",
      "\u001b[32m2024-03-08 09:46:27.134\u001b[0m | \u001b[1mINFO    \u001b[0m | \u001b[36m__main__\u001b[0m:\u001b[36mcut_tiff_to_grid\u001b[0m:\u001b[36m90\u001b[0m - \u001b[1mfile = 'scratch_20200805_0940_12504_0_2-3_aoi27.tif'\u001b[0m\n",
      "\u001b[32m2024-03-08 09:46:27.134\u001b[0m | \u001b[1mINFO    \u001b[0m | \u001b[36m__main__\u001b[0m:\u001b[36mcut_tiff_to_grid\u001b[0m:\u001b[36m91\u001b[0m - \u001b[1m25 gridcells on tiff-extent\u001b[0m\n",
      "\u001b[32m2024-03-08 09:46:27.395\u001b[0m | \u001b[1mINFO    \u001b[0m | \u001b[36m__main__\u001b[0m:\u001b[36m<module>\u001b[0m:\u001b[36m270\u001b[0m - \u001b[1mEnded Program\n",
      "\u001b[0m\n"
     ]
    }
   ],
   "source": [
    "! python utilities/cut_tiff_to_grid.py --config_file {config_train_scratch_40cm}"
   ]
  },
  {
   "cell_type": "markdown",
   "metadata": {},
   "source": [
    "## Create Dataset"
   ]
  },
  {
   "cell_type": "markdown",
   "metadata": {},
   "source": [
    "10cm"
   ]
  },
  {
   "cell_type": "code",
   "execution_count": 24,
   "metadata": {},
   "outputs": [
    {
     "name": "stdout",
     "output_type": "stream",
     "text": [
      "\u001b[32m2024-03-08 09:50:03.401\u001b[0m | \u001b[1mINFO    \u001b[0m | \u001b[36m__main__\u001b[0m:\u001b[36m<module>\u001b[0m:\u001b[36m156\u001b[0m - \u001b[1mSOURCE_IPT_FOLDER = '/Users/nicibe/Desktop/Job/swisstopo_stdl/soil_fribourg/data/scratch/horizontal_scratch_mosaics-rgb/3-cut_to_grid/10cm/512px'\u001b[0m\n",
      "\u001b[32m2024-03-08 09:50:03.401\u001b[0m | \u001b[1mINFO    \u001b[0m | \u001b[36m__main__\u001b[0m:\u001b[36m<module>\u001b[0m:\u001b[36m157\u001b[0m - \u001b[1mSOURCE_TGT_FOLDER = '/Users/nicibe/Desktop/Job/swisstopo_stdl/soil_fribourg/data/GT/20240216/4-cut-to-grid-12cl/10cm/512px'\u001b[0m\n",
      "\u001b[32m2024-03-08 09:50:03.402\u001b[0m | \u001b[1mINFO    \u001b[0m | \u001b[36m__main__\u001b[0m:\u001b[36m<module>\u001b[0m:\u001b[36m158\u001b[0m - \u001b[1mTARGET_ROOT = '/Users/nicibe/Desktop/Job/swisstopo_stdl/soil_fribourg/data/datasets.nosync/dataset_12cl_seed6-adjusted_multiscale'\u001b[0m\n",
      "\u001b[32m2024-03-08 09:50:03.402\u001b[0m | \u001b[1mINFO    \u001b[0m | \u001b[36m__main__\u001b[0m:\u001b[36m<module>\u001b[0m:\u001b[36m159\u001b[0m - \u001b[1mSEED = None\u001b[0m\n",
      "\u001b[32m2024-03-08 09:50:03.402\u001b[0m | \u001b[1mINFO    \u001b[0m | \u001b[36m__main__\u001b[0m:\u001b[36m<module>\u001b[0m:\u001b[36m160\u001b[0m - \u001b[1mSPLIT_FILE = '/Users/nicibe/Desktop/Job/swisstopo_stdl/soil_fribourg/data/datasets.nosync/seed6_adjusted_split.yaml'\u001b[0m\n",
      "\u001b[32m2024-03-08 09:50:03.402\u001b[0m | \u001b[1mINFO    \u001b[0m | \u001b[36m__main__\u001b[0m:\u001b[36m<module>\u001b[0m:\u001b[36m161\u001b[0m - \u001b[1mLOG_FILE = '/Users/nicibe/Desktop/Job/swisstopo_stdl/soil_fribourg/proj-soils/logs/random_split.log'\u001b[0m\n",
      "\u001b[32m2024-03-08 09:50:03.402\u001b[0m | \u001b[1mINFO    \u001b[0m | \u001b[36m__main__\u001b[0m:\u001b[36m<module>\u001b[0m:\u001b[36m163\u001b[0m - \u001b[1mStarted Programm\u001b[0m\n",
      "\u001b[32m2024-03-08 09:50:03.445\u001b[0m | \u001b[1mINFO    \u001b[0m | \u001b[36m__main__\u001b[0m:\u001b[36mrandom_split\u001b[0m:\u001b[36m91\u001b[0m - \u001b[1mLoaded split from /Users/nicibe/Desktop/Job/swisstopo_stdl/soil_fribourg/data/datasets.nosync/seed6_adjusted_split.yaml\u001b[0m\n",
      "\u001b[32m2024-03-08 09:50:03.445\u001b[0m | \u001b[1mINFO    \u001b[0m | \u001b[36m__main__\u001b[0m:\u001b[36mrandom_split\u001b[0m:\u001b[36m93\u001b[0m - \u001b[1mlen(train_ids) = 164\u001b[0m\n",
      "\u001b[32m2024-03-08 09:50:03.445\u001b[0m | \u001b[1mINFO    \u001b[0m | \u001b[36m__main__\u001b[0m:\u001b[36mrandom_split\u001b[0m:\u001b[36m94\u001b[0m - \u001b[1mlen(val_ids) = 43\u001b[0m\n",
      "\u001b[32m2024-03-08 09:50:10.279\u001b[0m | \u001b[1mINFO    \u001b[0m | \u001b[36m__main__\u001b[0m:\u001b[36mrandom_split\u001b[0m:\u001b[36m121\u001b[0m - \u001b[1mtraincount = 2640\u001b[0m\n",
      "\u001b[32m2024-03-08 09:50:10.303\u001b[0m | \u001b[1mINFO    \u001b[0m | \u001b[36m__main__\u001b[0m:\u001b[36mrandom_split\u001b[0m:\u001b[36m122\u001b[0m - \u001b[1mvalcount = 692\u001b[0m\n",
      "\u001b[32m2024-03-08 09:50:10.304\u001b[0m | \u001b[1mINFO    \u001b[0m | \u001b[36m__main__\u001b[0m:\u001b[36m<module>\u001b[0m:\u001b[36m165\u001b[0m - \u001b[1mEnded Program\n",
      "\u001b[0m\n"
     ]
    }
   ],
   "source": [
    "! python utilities/random_split.py --config_file {config_train_gt_10cm}"
   ]
  },
  {
   "cell_type": "markdown",
   "metadata": {},
   "source": [
    "20cm"
   ]
  },
  {
   "cell_type": "code",
   "execution_count": 25,
   "metadata": {},
   "outputs": [
    {
     "name": "stdout",
     "output_type": "stream",
     "text": [
      "\u001b[32m2024-03-08 09:50:10.880\u001b[0m | \u001b[1mINFO    \u001b[0m | \u001b[36m__main__\u001b[0m:\u001b[36m<module>\u001b[0m:\u001b[36m156\u001b[0m - \u001b[1mSOURCE_IPT_FOLDER = '/Users/nicibe/Desktop/Job/swisstopo_stdl/soil_fribourg/data/scratch/horizontal_scratch_mosaics-rgb/3-cut_to_grid/20cm/512px'\u001b[0m\n",
      "\u001b[32m2024-03-08 09:50:10.880\u001b[0m | \u001b[1mINFO    \u001b[0m | \u001b[36m__main__\u001b[0m:\u001b[36m<module>\u001b[0m:\u001b[36m157\u001b[0m - \u001b[1mSOURCE_TGT_FOLDER = '/Users/nicibe/Desktop/Job/swisstopo_stdl/soil_fribourg/data/GT/20240216/4-cut-to-grid-12cl/20cm/512px'\u001b[0m\n",
      "\u001b[32m2024-03-08 09:50:10.880\u001b[0m | \u001b[1mINFO    \u001b[0m | \u001b[36m__main__\u001b[0m:\u001b[36m<module>\u001b[0m:\u001b[36m158\u001b[0m - \u001b[1mTARGET_ROOT = '/Users/nicibe/Desktop/Job/swisstopo_stdl/soil_fribourg/data/datasets.nosync/dataset_12cl_seed6-adjusted_multiscale'\u001b[0m\n",
      "\u001b[32m2024-03-08 09:50:10.880\u001b[0m | \u001b[1mINFO    \u001b[0m | \u001b[36m__main__\u001b[0m:\u001b[36m<module>\u001b[0m:\u001b[36m159\u001b[0m - \u001b[1mSEED = None\u001b[0m\n",
      "\u001b[32m2024-03-08 09:50:10.880\u001b[0m | \u001b[1mINFO    \u001b[0m | \u001b[36m__main__\u001b[0m:\u001b[36m<module>\u001b[0m:\u001b[36m160\u001b[0m - \u001b[1mSPLIT_FILE = '/Users/nicibe/Desktop/Job/swisstopo_stdl/soil_fribourg/data/datasets.nosync/seed6_adjusted_split.yaml'\u001b[0m\n",
      "\u001b[32m2024-03-08 09:50:10.880\u001b[0m | \u001b[1mINFO    \u001b[0m | \u001b[36m__main__\u001b[0m:\u001b[36m<module>\u001b[0m:\u001b[36m161\u001b[0m - \u001b[1mLOG_FILE = '/Users/nicibe/Desktop/Job/swisstopo_stdl/soil_fribourg/proj-soils/logs/random_split.log'\u001b[0m\n",
      "\u001b[32m2024-03-08 09:50:10.880\u001b[0m | \u001b[1mINFO    \u001b[0m | \u001b[36m__main__\u001b[0m:\u001b[36m<module>\u001b[0m:\u001b[36m163\u001b[0m - \u001b[1mStarted Programm\u001b[0m\n",
      "\u001b[32m2024-03-08 09:50:10.889\u001b[0m | \u001b[1mINFO    \u001b[0m | \u001b[36m__main__\u001b[0m:\u001b[36mrandom_split\u001b[0m:\u001b[36m91\u001b[0m - \u001b[1mLoaded split from /Users/nicibe/Desktop/Job/swisstopo_stdl/soil_fribourg/data/datasets.nosync/seed6_adjusted_split.yaml\u001b[0m\n",
      "\u001b[32m2024-03-08 09:50:10.889\u001b[0m | \u001b[1mINFO    \u001b[0m | \u001b[36m__main__\u001b[0m:\u001b[36mrandom_split\u001b[0m:\u001b[36m93\u001b[0m - \u001b[1mlen(train_ids) = 164\u001b[0m\n",
      "\u001b[32m2024-03-08 09:50:10.889\u001b[0m | \u001b[1mINFO    \u001b[0m | \u001b[36m__main__\u001b[0m:\u001b[36mrandom_split\u001b[0m:\u001b[36m94\u001b[0m - \u001b[1mlen(val_ids) = 43\u001b[0m\n",
      "\u001b[32m2024-03-08 09:50:12.572\u001b[0m | \u001b[1mINFO    \u001b[0m | \u001b[36m__main__\u001b[0m:\u001b[36mrandom_split\u001b[0m:\u001b[36m121\u001b[0m - \u001b[1mtraincount = 656\u001b[0m\n",
      "\u001b[32m2024-03-08 09:50:12.572\u001b[0m | \u001b[1mINFO    \u001b[0m | \u001b[36m__main__\u001b[0m:\u001b[36mrandom_split\u001b[0m:\u001b[36m122\u001b[0m - \u001b[1mvalcount = 172\u001b[0m\n",
      "\u001b[32m2024-03-08 09:50:12.572\u001b[0m | \u001b[1mINFO    \u001b[0m | \u001b[36m__main__\u001b[0m:\u001b[36m<module>\u001b[0m:\u001b[36m165\u001b[0m - \u001b[1mEnded Program\n",
      "\u001b[0m\n"
     ]
    }
   ],
   "source": [
    "! python utilities/random_split.py --config_file {config_train_gt_20cm}"
   ]
  },
  {
   "cell_type": "markdown",
   "metadata": {},
   "source": [
    "40cm"
   ]
  },
  {
   "cell_type": "code",
   "execution_count": 26,
   "metadata": {},
   "outputs": [
    {
     "name": "stdout",
     "output_type": "stream",
     "text": [
      "\u001b[32m2024-03-08 09:50:13.007\u001b[0m | \u001b[1mINFO    \u001b[0m | \u001b[36m__main__\u001b[0m:\u001b[36m<module>\u001b[0m:\u001b[36m156\u001b[0m - \u001b[1mSOURCE_IPT_FOLDER = '/Users/nicibe/Desktop/Job/swisstopo_stdl/soil_fribourg/data/scratch/horizontal_scratch_mosaics-rgb/3-cut_to_grid/40cm/512px'\u001b[0m\n",
      "\u001b[32m2024-03-08 09:50:13.007\u001b[0m | \u001b[1mINFO    \u001b[0m | \u001b[36m__main__\u001b[0m:\u001b[36m<module>\u001b[0m:\u001b[36m157\u001b[0m - \u001b[1mSOURCE_TGT_FOLDER = '/Users/nicibe/Desktop/Job/swisstopo_stdl/soil_fribourg/data/GT/20240216/4-cut-to-grid-12cl/40cm/512px'\u001b[0m\n",
      "\u001b[32m2024-03-08 09:50:13.007\u001b[0m | \u001b[1mINFO    \u001b[0m | \u001b[36m__main__\u001b[0m:\u001b[36m<module>\u001b[0m:\u001b[36m158\u001b[0m - \u001b[1mTARGET_ROOT = '/Users/nicibe/Desktop/Job/swisstopo_stdl/soil_fribourg/data/datasets.nosync/dataset_12cl_seed6-adjusted_multiscale'\u001b[0m\n",
      "\u001b[32m2024-03-08 09:50:13.007\u001b[0m | \u001b[1mINFO    \u001b[0m | \u001b[36m__main__\u001b[0m:\u001b[36m<module>\u001b[0m:\u001b[36m159\u001b[0m - \u001b[1mSEED = None\u001b[0m\n",
      "\u001b[32m2024-03-08 09:50:13.007\u001b[0m | \u001b[1mINFO    \u001b[0m | \u001b[36m__main__\u001b[0m:\u001b[36m<module>\u001b[0m:\u001b[36m160\u001b[0m - \u001b[1mSPLIT_FILE = '/Users/nicibe/Desktop/Job/swisstopo_stdl/soil_fribourg/data/datasets.nosync/seed6_adjusted_split.yaml'\u001b[0m\n",
      "\u001b[32m2024-03-08 09:50:13.007\u001b[0m | \u001b[1mINFO    \u001b[0m | \u001b[36m__main__\u001b[0m:\u001b[36m<module>\u001b[0m:\u001b[36m161\u001b[0m - \u001b[1mLOG_FILE = '/Users/nicibe/Desktop/Job/swisstopo_stdl/soil_fribourg/proj-soils/logs/random_split.log'\u001b[0m\n",
      "\u001b[32m2024-03-08 09:50:13.008\u001b[0m | \u001b[1mINFO    \u001b[0m | \u001b[36m__main__\u001b[0m:\u001b[36m<module>\u001b[0m:\u001b[36m163\u001b[0m - \u001b[1mStarted Programm\u001b[0m\n",
      "\u001b[32m2024-03-08 09:50:13.013\u001b[0m | \u001b[1mINFO    \u001b[0m | \u001b[36m__main__\u001b[0m:\u001b[36mrandom_split\u001b[0m:\u001b[36m91\u001b[0m - \u001b[1mLoaded split from /Users/nicibe/Desktop/Job/swisstopo_stdl/soil_fribourg/data/datasets.nosync/seed6_adjusted_split.yaml\u001b[0m\n",
      "\u001b[32m2024-03-08 09:50:13.013\u001b[0m | \u001b[1mINFO    \u001b[0m | \u001b[36m__main__\u001b[0m:\u001b[36mrandom_split\u001b[0m:\u001b[36m93\u001b[0m - \u001b[1mlen(train_ids) = 164\u001b[0m\n",
      "\u001b[32m2024-03-08 09:50:13.013\u001b[0m | \u001b[1mINFO    \u001b[0m | \u001b[36m__main__\u001b[0m:\u001b[36mrandom_split\u001b[0m:\u001b[36m94\u001b[0m - \u001b[1mlen(val_ids) = 43\u001b[0m\n",
      "\u001b[32m2024-03-08 09:50:13.395\u001b[0m | \u001b[1mINFO    \u001b[0m | \u001b[36m__main__\u001b[0m:\u001b[36mrandom_split\u001b[0m:\u001b[36m121\u001b[0m - \u001b[1mtraincount = 164\u001b[0m\n",
      "\u001b[32m2024-03-08 09:50:13.395\u001b[0m | \u001b[1mINFO    \u001b[0m | \u001b[36m__main__\u001b[0m:\u001b[36mrandom_split\u001b[0m:\u001b[36m122\u001b[0m - \u001b[1mvalcount = 43\u001b[0m\n",
      "\u001b[32m2024-03-08 09:50:13.395\u001b[0m | \u001b[1mINFO    \u001b[0m | \u001b[36m__main__\u001b[0m:\u001b[36m<module>\u001b[0m:\u001b[36m165\u001b[0m - \u001b[1mEnded Program\n",
      "\u001b[0m\n"
     ]
    }
   ],
   "source": [
    "! python utilities/random_split.py --config_file {config_train_gt_40cm}"
   ]
  }
 ],
 "metadata": {
  "kernelspec": {
   "display_name": "Python 3 (ipykernel)",
   "language": "python",
   "name": "python3"
  },
  "language_info": {
   "codemirror_mode": {
    "name": "ipython",
    "version": 3
   },
   "file_extension": ".py",
   "mimetype": "text/x-python",
   "name": "python",
   "nbconvert_exporter": "python",
   "pygments_lexer": "ipython3",
   "version": "3.10.12"
  },
  "vscode": {
   "interpreter": {
    "hash": "67c683be3b89053d7ca5cf9ab92fc1f76d72010376a6f7730bc4c074221af5a2"
   }
  }
 },
 "nbformat": 4,
 "nbformat_minor": 4
}
