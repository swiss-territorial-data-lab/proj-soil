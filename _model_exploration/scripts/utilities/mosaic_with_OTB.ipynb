{
 "cells": [
  {
   "attachments": {},
   "cell_type": "markdown",
   "metadata": {},
   "source": [
    "# Combine Horizontally"
   ]
  },
  {
   "cell_type": "code",
   "execution_count": 1,
   "metadata": {},
   "outputs": [],
   "source": [
    "import os\n",
    "from osgeo import gdal\n",
    "from pprint import pprint"
   ]
  },
  {
   "cell_type": "code",
   "execution_count": 2,
   "metadata": {},
   "outputs": [
    {
     "name": "stdout",
     "output_type": "stream",
     "text": [
      "{'scratch_20200318_1215_12501_0': [48, 49],\n",
      " 'scratch_20200318_1231_12501_0': [47, 48],\n",
      " 'scratch_20200318_1247_12501_0': [47, 48],\n",
      " 'scratch_20200318_1318_12501_0': [47, 48],\n",
      " 'scratch_20200318_1336_12501_0': [47],\n",
      " 'scratch_20200319_1007_12501_0': [50, 51, 52],\n",
      " 'scratch_20200319_1025_12501_0': [50, 51, 52],\n",
      " 'scratch_20200319_1043_12501_0': [49, 50, 51, 53, 54],\n",
      " 'scratch_20200319_1101_12501_0': [48, 49, 51, 52],\n",
      " 'scratch_20200319_1348_12501_0': [41, 42, 43],\n",
      " 'scratch_20200323_1151_12501_0': [9, 10, 11],\n",
      " 'scratch_20200323_1159_12501_0': [6, 7, 8, 9, 10, 11, 12, 13],\n",
      " 'scratch_20200323_1209_12501_0': [7, 8, 9, 10, 11, 12, 13, 14],\n",
      " 'scratch_20200323_1218_12501_0': [8, 9, 10, 11, 12, 13, 14],\n",
      " 'scratch_20200323_1238_12501_0': [2, 3],\n",
      " 'scratch_20200323_1250_12501_0': [3, 4, 5, 6],\n",
      " 'scratch_20200323_1301_12501_0': [5, 6, 7],\n",
      " 'scratch_20200324_1020_12501_0': [29, 30, 31],\n",
      " 'scratch_20200324_1038_12501_0': [33, 34, 35],\n",
      " 'scratch_20200415_1158_12501_0': [0, 1],\n",
      " 'scratch_20200526_0909_12501_0': [3, 4],\n",
      " 'scratch_20200526_0916_12501_0': [3, 4],\n",
      " 'scratch_20200526_0924_12501_0': [3, 4],\n",
      " 'scratch_20200805_0838_12504_0': [0, 1],\n",
      " 'scratch_20200805_0846_12504_0': [0],\n",
      " 'scratch_20200805_0940_12504_0': [2, 3],\n",
      " 'scratch_20200805_0949_12504_0': [2, 3],\n",
      " 'scratch_20200807_0941_12504_0': [2, 3]}\n"
     ]
    }
   ],
   "source": [
    "tiff_dir = \"/Users/nicibe/Desktop/Job/swisstopo_stdl/S3_download/proj-soils/02_data/021_initial/SWISSIMAGE_RS/Scratch/STDL_SO/SOP_AOI_TIFF\"\n",
    "tiffs = [file for file in os.listdir(tiff_dir) if file.endswith(\".tif\")]\n",
    "tiffs.sort()\n",
    "# tiffs.reverse()\n",
    "\n",
    "# tiffs = [os.path.join(tiff_dir, tiff) for tiff in tiffs if \"scratch_20200319_1348_12501\" in tiff]\n",
    "# tiffs = [os.path.join(tiff_dir, tiff) for tiff in tiffs if \"scratch_20200323_1209_12501\" in tiff]\n",
    "\n",
    "num_dict = {}\n",
    "\n",
    "for tiff in tiffs:\n",
    "\n",
    "    base = \"_\".join(tiff.split(\"_\")[:-1])\n",
    "\n",
    "\n",
    "    current_number = int(tiff.split(\"_\")[-1][:-4])\n",
    "\n",
    "    if base in num_dict:\n",
    "        num_dict[base].append(int(current_number))\n",
    "    else:\n",
    "        num_dict[base] = [int(current_number)]\n",
    "\n",
    "for numbers in num_dict.values():\n",
    "    numbers.sort()\n",
    "\n",
    "pprint(num_dict)"
   ]
  },
  {
   "cell_type": "code",
   "execution_count": 14,
   "metadata": {},
   "outputs": [
    {
     "name": "stdout",
     "output_type": "stream",
     "text": [
      "scratch_20200526_0924_12501_0\n",
      "2023-06-14 08:47:59 (INFO) Mosaic: Default RAM limit for OTB is 256 MB\n",
      "2023-06-14 08:47:59 (INFO) Mosaic: GDAL maximum cache size is 1638 MB\n",
      "2023-06-14 08:47:59 (INFO) Mosaic: OTB will use at most 10 threads\n",
      "2023-06-14 08:47:59 (INFO): Loading metadata from official product\n",
      "2023-06-14 08:47:59 (INFO): Loading metadata from official product\n",
      "2023-06-14 08:47:59 (INFO) Mosaic: Temporary files prefix is: data/horizontal_scratch_mosaics/band-harmo_large-feather/scratch_20200526_0924_12501_0_3-4_first\n",
      "2023-06-14 08:47:59 (INFO) Mosaic: Computing distance maps\n",
      "2023-06-14 08:47:59 (INFO): Estimated memory for full processing: 2004.85MB (avail.: 256 MB), optimal image partitioning: 8 blocks\n",
      "2023-06-14 08:47:59 (INFO): File data/horizontal_scratch_mosaics/band-harmo_large-feather/scratch_20200526_0924_12501_0_3-4_first_tmp_binary_mask_0.tif will be written in 6 blocks of 512x512 pixels\n",
      "Writing binary mask (from image boundaries) data/horizontal_scratch_mosaics/band-harmo_large-feather/scratch_20200526_0924_12501_0_3-4_first_tmp_binary_mask_0.tif: 100% [**************************************************] (0s)\n",
      "2023-06-14 08:47:59 (INFO): Loading metadata from official product\n",
      "2023-06-14 08:48:00 (INFO): File data/horizontal_scratch_mosaics/band-harmo_large-feather/scratch_20200526_0924_12501_0_3-4_first_tmp_distance_image_0.tif will be written in 1 blocks of 1029x901 pixels\n",
      "Writing distance map image data/horizontal_scratch_mosaics/band-harmo_large-feather/scratch_20200526_0924_12501_0_3-4_first_tmp_distance_image_0.tif: 100% [**************************************************] (0s)\n",
      "2023-06-14 08:48:00 (INFO): Loading metadata from official product\n",
      "2023-06-14 08:48:00 (INFO): Estimated memory for full processing: 2004.85MB (avail.: 256 MB), optimal image partitioning: 8 blocks\n",
      "2023-06-14 08:48:00 (INFO): File data/horizontal_scratch_mosaics/band-harmo_large-feather/scratch_20200526_0924_12501_0_3-4_first_tmp_binary_mask_0.tif will be written in 6 blocks of 512x512 pixels\n",
      "Writing binary mask (from image boundaries) data/horizontal_scratch_mosaics/band-harmo_large-feather/scratch_20200526_0924_12501_0_3-4_first_tmp_binary_mask_0.tif: 100% [**************************************************] (0s)\n",
      "2023-06-14 08:48:00 (INFO): Loading metadata from official product\n",
      "2023-06-14 08:48:00 (INFO): File data/horizontal_scratch_mosaics/band-harmo_large-feather/scratch_20200526_0924_12501_0_3-4_first_tmp_distance_image_1.tif will be written in 1 blocks of 1029x901 pixels\n",
      "Writing distance map image data/horizontal_scratch_mosaics/band-harmo_large-feather/scratch_20200526_0924_12501_0_3-4_first_tmp_distance_image_1.tif: 100% [**************************************************] (0s)\n",
      "2023-06-14 08:48:00 (INFO): Loading metadata from official product\n"
     ]
    },
    {
     "name": "stderr",
     "output_type": "stream",
     "text": [
      "WARNING: In ../Modules/Filtering/Mosaic/include/otbStreamingMosaicFilterBase.hxx, line 334\n",
      "PersistentStatisticsMosaicFilter (0x7fa2a1f54ff0): NoDataOutputPixel not set. Using zeros\n",
      "\n"
     ]
    },
    {
     "name": "stdout",
     "output_type": "stream",
     "text": [
      "2023-06-14 08:48:00 (INFO): Estimated memory for full processing: 10782.5MB (avail.: 256 MB), optimal image partitioning: 43 blocks\n",
      "2023-06-14 08:48:00 (INFO): Estimation will be performed in 50 blocks of 2048x2048 pixels\n",
      "Computing statistics: 100% [**************************************************] (20s)\n",
      "2023-06-14 08:48:21 (INFO) Mosaic: Large feathering\n",
      "2023-06-14 08:48:21 (INFO) Mosaic: Correction cost function: RMSE based cost function\n",
      "2023-06-14 08:48:21 (INFO) Mosaic: computing correction model for band 0\n",
      "2023-06-14 08:48:21 (INFO) Mosaic: \n",
      "\t[ Band 0 ]\n",
      "\tGains  : 1 1\n",
      "2023-06-14 08:48:21 (INFO) Mosaic: computing correction model for band 1\n",
      "2023-06-14 08:48:21 (INFO) Mosaic: \n",
      "\t[ Band 1 ]\n",
      "\tGains  : 1.00473 0.994802\n",
      "2023-06-14 08:48:21 (INFO) Mosaic: computing correction model for band 2\n",
      "2023-06-14 08:48:21 (INFO) Mosaic: \n",
      "\t[ Band 2 ]\n",
      "\tGains  : 1.00555 0.993936\n",
      "2023-06-14 08:48:21 (INFO) Mosaic: computing correction model for band 3\n",
      "2023-06-14 08:48:21 (INFO) Mosaic: \n",
      "\t[ Band 3 ]\n",
      "\tGains  : 1.03321 0.965771\n"
     ]
    },
    {
     "name": "stderr",
     "output_type": "stream",
     "text": [
      "WARNING: In ../Modules/Filtering/Mosaic/include/otbStreamingMosaicFilterBase.hxx, line 313\n",
      "StreamingLargeFeatherMosaicFilter (0x7fa2a1f58f30): Input images may have not the same projection\n",
      "\n",
      "WARNING: In ../Modules/Filtering/Mosaic/include/otbStreamingMosaicFilterBase.hxx, line 313\n",
      "StreamingLargeFeatherMosaicFilter (0x7fa2a1f58f30): Input images may have not the same projection\n",
      "\n",
      "WARNING: In ../Modules/Filtering/Mosaic/include/otbStreamingMosaicFilterBase.hxx, line 334\n",
      "StreamingLargeFeatherMosaicFilter (0x7fa2a1f58f30): NoDataOutputPixel not set. Using zeros\n",
      "\n",
      "WARNING: In ../Modules/Filtering/Mosaic/include/otbStreamingMosaicFilterBase.hxx, line 313\n",
      "StreamingLargeFeatherMosaicFilter (0x7fa2a1f58f30): Input images may have not the same projection\n",
      "\n",
      "WARNING: In ../Modules/Filtering/Mosaic/include/otbStreamingMosaicFilterBase.hxx, line 313\n",
      "StreamingLargeFeatherMosaicFilter (0x7fa2a1f58f30): Input images may have not the same projection\n",
      "\n",
      "WARNING: In ../Modules/Filtering/Mosaic/include/otbStreamingMosaicFilterBase.hxx, line 313\n",
      "StreamingLargeFeatherMosaicFilter (0x7fa2a1f58f30): Input images may have not the same projection\n",
      "\n",
      "WARNING: In ../Modules/Filtering/Mosaic/include/otbStreamingMosaicFilterBase.hxx, line 313\n",
      "StreamingLargeFeatherMosaicFilter (0x7fa2a1f58f30): Input images may have not the same projection\n",
      "\n"
     ]
    },
    {
     "name": "stdout",
     "output_type": "stream",
     "text": [
      "2023-06-14 08:48:21 (INFO): Estimated memory for full processing: 9622.57MB (avail.: 256 MB), optimal image partitioning: 38 blocks\n",
      "2023-06-14 08:48:21 (INFO): File data/horizontal_scratch_mosaics/band-harmo_large-feather/scratch_20200526_0924_12501_0_3-4_first.tif will be written in 45 blocks of 2304x2048 pixels\n",
      "Writing data/horizontal_scratch_mosaics/band-harmo_large-feather/scratch_20200526_0924_12501_0_3-4_first.tif...: 100% [**************************************************] (14s)\n",
      "2023-06-14 08:48:36 (INFO) Mosaic: Clean temporary files\n",
      "Input file size is 18994, 9010\n",
      "0...10...20...30...40...50...60...70...80...90...100 - done.\n"
     ]
    }
   ],
   "source": [
    "mosaic_params = {\n",
    "    \"-harmo.method \": \"band\",\n",
    "    \"-comp.feather \": \"large\",\n",
    "    \"-nodata \": \"0\",\n",
    "    \"-ram \": \"2048\"\n",
    "    # \"-comp.feather.slim.length \": \"50\"\n",
    "}\n",
    "\n",
    "\n",
    "for base, numbers in num_dict.items():\n",
    "    full_base = os.path.join(tiff_dir, base)\n",
    "    full_ipt_paths = [f\"{full_base}_{number}.tif\" for number in numbers]\n",
    "\n",
    "    outputbase = f\"data/horizontal_scratch_mosaics/band-harmo_large-feather/{base}_{'-'.join(str(number) for number in numbers)}\"\n",
    "    if os.path.exists(outputbase + \".tif\"):\n",
    "        continue\n",
    "\n",
    "    print(base)\n",
    "\n",
    "\n",
    "    \n",
    "    mosaic_params[\"-il \"] = \" \".join(full_ipt_paths)\n",
    "    mosaic_params[\"-out \"] = f\"{outputbase}_first.tif uint8\"\n",
    "\n",
    "    # print(mosaic_params, end=\"\\n\\n\")\n",
    "\n",
    "    no_warnings = \"export CPL_LOG=/Users/nicibe/Desktop/Job/swisstopo_stdl/soil_fribourg/proj-soils/OTB_log\"\n",
    "    mosaic_fn = \"/Applications/OTB-8.1.1-Darwin64/bin/otbcli_Mosaic\"\n",
    "    param_str = f\"{' '.join([str(key)+str(value) for key, value in mosaic_params.items()])}\"\n",
    "    os.system(f\"{no_warnings}; {mosaic_fn} {param_str}\")\n",
    "\n",
    "    gdal_translate = \"/Applications/OTB-8.1.1-Darwin64/bin/gdal_translate\"\n",
    "    colorinterp_params = \"-colorinterp_1 undefined -colorinterp_2 red -colorinterp_3 green -colorinterp_4 blue\"\n",
    "    os.system(f\"{gdal_translate} {colorinterp_params} {outputbase+'_first.tif'} {outputbase+'.tif'}\")\n",
    "    os.remove(outputbase+'_first.tif')"
   ]
  },
  {
   "cell_type": "code",
   "execution_count": null,
   "metadata": {},
   "outputs": [],
   "source": []
  }
 ],
 "metadata": {
  "kernelspec": {
   "display_name": "GIS",
   "language": "python",
   "name": "python3"
  },
  "language_info": {
   "codemirror_mode": {
    "name": "ipython",
    "version": 3
   },
   "file_extension": ".py",
   "mimetype": "text/x-python",
   "name": "python",
   "nbconvert_exporter": "python",
   "pygments_lexer": "ipython3",
   "version": "3.11.3 | packaged by conda-forge | (main, Apr  6 2023, 08:58:31) [Clang 14.0.6 ]"
  },
  "orig_nbformat": 4,
  "vscode": {
   "interpreter": {
    "hash": "67c683be3b89053d7ca5cf9ab92fc1f76d72010376a6f7730bc4c074221af5a2"
   }
  }
 },
 "nbformat": 4,
 "nbformat_minor": 2
}
