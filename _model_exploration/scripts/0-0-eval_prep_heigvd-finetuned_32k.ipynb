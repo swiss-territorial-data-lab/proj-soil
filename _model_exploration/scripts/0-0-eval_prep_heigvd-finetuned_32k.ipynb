{
 "cells": [
  {
   "attachments": {},
   "cell_type": "markdown",
   "metadata": {},
   "source": [
    "# Prepare heig-vd inferences for quantitative evaluation"
   ]
  },
  {
   "cell_type": "code",
   "execution_count": 2,
   "metadata": {},
   "outputs": [],
   "source": [
    "import os\n",
    "\n",
    "projsoilsroot = \"/Users/nicibe/Desktop/Job/swisstopo_stdl/soil_fribourg/proj-soils\"\n",
    "config_eval_heigvd_orig = os.path.join(projsoilsroot, \"config\", \"eval\", \"config-eval_heigvd-orig.yaml\")\n",
    "config_eval_heigvd_32k_10cm = os.path.join(projsoilsroot, \"config\", \"eval\", \"config-eval_heigvd-32k-10cm.yaml\")\n",
    "config_eval_heigvd_32k_20cm = os.path.join(projsoilsroot, \"config\", \"eval\", \"config-eval_heigvd-32k-20cm.yaml\")\n",
    "config_eval_heigvd_32k_40cm = os.path.join(projsoilsroot, \"config\", \"eval\", \"config-eval_heigvd-32k-40cm.yaml\")"
   ]
  },
  {
   "cell_type": "markdown",
   "metadata": {},
   "source": [
    "## 32k"
   ]
  },
  {
   "cell_type": "markdown",
   "metadata": {},
   "source": [
    "### 10cm"
   ]
  },
  {
   "cell_type": "code",
   "execution_count": 2,
   "metadata": {},
   "outputs": [
    {
     "name": "stdout",
     "output_type": "stream",
     "text": [
      "\u001b[32m2024-03-04 11:29:51.738\u001b[0m |                    \u001b[1mINFO    \u001b[0m | \u001b[36m<module>\u001b[0m                    :\u001b[36m563\u001b[0m - \u001b[1mPRED_FOLDER = '/Users/nicibe/Desktop/Job/swisstopo_stdl/soil_fribourg/data/heig-vd_finetuned/0-inferences/32k'\u001b[0m\n",
      "\u001b[32m2024-03-04 11:29:51.739\u001b[0m |                    \u001b[1mINFO    \u001b[0m | \u001b[36m<module>\u001b[0m                    :\u001b[36m564\u001b[0m - \u001b[1mGT_FOLDER = '/Users/nicibe/Desktop/Job/swisstopo_stdl/soil_fribourg/data/GT/20240216/4-cut-to-grid-12cl/2048px'\u001b[0m\n",
      "\u001b[32m2024-03-04 11:29:51.739\u001b[0m |                    \u001b[1mINFO    \u001b[0m | \u001b[36m<module>\u001b[0m                    :\u001b[36m565\u001b[0m - \u001b[1mCONF_MATRIX_MODEL = 'heigvd-32k-10cm'\u001b[0m\n",
      "\u001b[32m2024-03-04 11:29:51.739\u001b[0m |                    \u001b[1mINFO    \u001b[0m | \u001b[36m<module>\u001b[0m                    :\u001b[36m566\u001b[0m - \u001b[1mCLASSES = ['batiment', 'surface_non_beton', 'surface_beton', 'roche_dure_meuble', 'eau_naturelle', 'roseliere', 'sol_neige', 'sol_vegetalise', 'sol_divers', 'sol_vigne', 'sol_agricole', 'sol_bache']\u001b[0m\n",
      "\u001b[32m2024-03-04 11:29:51.740\u001b[0m |                    \u001b[1mINFO    \u001b[0m | \u001b[36m<module>\u001b[0m                    :\u001b[36m567\u001b[0m - \u001b[1mCREATE_CM = True\u001b[0m\n",
      "\u001b[32m2024-03-04 11:29:51.740\u001b[0m |                    \u001b[1mINFO    \u001b[0m | \u001b[36m<module>\u001b[0m                    :\u001b[36m568\u001b[0m - \u001b[1mSAME_NAMES = True\u001b[0m\n",
      "\u001b[32m2024-03-04 11:29:51.740\u001b[0m |                    \u001b[1mINFO    \u001b[0m | \u001b[36m<module>\u001b[0m                    :\u001b[36m569\u001b[0m - \u001b[1mMETRIC_CSV_PATH_MULTICLASS = '/Users/nicibe/Desktop/Job/swisstopo_stdl/soil_fribourg/proj-soils/csv/metrics/metrics_heigvd-32k_mc_val-test-v2.csv'\u001b[0m\n",
      "\u001b[32m2024-03-04 11:29:51.740\u001b[0m |                    \u001b[1mINFO    \u001b[0m | \u001b[36m<module>\u001b[0m                    :\u001b[36m570\u001b[0m - \u001b[1mMETRIC_CSV_PATH_BINARY = '/Users/nicibe/Desktop/Job/swisstopo_stdl/soil_fribourg/proj-soils/csv/metrics/metrics_heigvd-32k_bn_val-test-v2.csv'\u001b[0m\n",
      "\u001b[32m2024-03-04 11:29:51.740\u001b[0m |                    \u001b[1mINFO    \u001b[0m | \u001b[36m<module>\u001b[0m                    :\u001b[36m571\u001b[0m - \u001b[1mCOUNT_CSV_PATH_MULTICLASS = '/Users/nicibe/Desktop/Job/swisstopo_stdl/soil_fribourg/proj-soils/csv/counts/counts_heigvd-32k_mc_val-test-v2.csv'\u001b[0m\n",
      "\u001b[32m2024-03-04 11:29:51.740\u001b[0m |                    \u001b[1mINFO    \u001b[0m | \u001b[36m<module>\u001b[0m                    :\u001b[36m572\u001b[0m - \u001b[1mCOUNT_CSV_PATH_BINARY = '/Users/nicibe/Desktop/Job/swisstopo_stdl/soil_fribourg/proj-soils/csv/counts/counts_heigvd-32k_bn_val-test-v2.csv'\u001b[0m\n",
      "\u001b[32m2024-03-04 11:29:51.740\u001b[0m |                    \u001b[1mINFO    \u001b[0m | \u001b[36m<module>\u001b[0m                    :\u001b[36m573\u001b[0m - \u001b[1mCONF_MATRIX_PATH_MULTICLASS = '/Users/nicibe/Desktop/Job/swisstopo_stdl/soil_fribourg/proj-soils/figures/conf_matrices/cm_heigvd-32k_mc_val-test-v2.png'\u001b[0m\n",
      "\u001b[32m2024-03-04 11:29:51.740\u001b[0m |                    \u001b[1mINFO    \u001b[0m | \u001b[36m<module>\u001b[0m                    :\u001b[36m574\u001b[0m - \u001b[1mCONF_MATRIX_PATH_BINARY = '/Users/nicibe/Desktop/Job/swisstopo_stdl/soil_fribourg/proj-soils/figures/conf_matrices/cm_heigvd-32k_bn_val-test-v2.png'\u001b[0m\n",
      "\u001b[32m2024-03-04 11:29:51.740\u001b[0m |                    \u001b[1mINFO    \u001b[0m | \u001b[36m<module>\u001b[0m                    :\u001b[36m575\u001b[0m - \u001b[1mEXCLUDE_IDS = []\u001b[0m\n",
      "\u001b[32m2024-03-04 11:29:51.740\u001b[0m |                    \u001b[1mINFO    \u001b[0m | \u001b[36m<module>\u001b[0m                    :\u001b[36m576\u001b[0m - \u001b[1mLOG_FILE = '/Users/nicibe/Desktop/Job/swisstopo_stdl/soil_fribourg/proj-soils/logs/calculate_metrics.log'\u001b[0m\n",
      "\u001b[32m2024-03-04 11:29:51.740\u001b[0m |                    \u001b[1mINFO    \u001b[0m | \u001b[36m<module>\u001b[0m                    :\u001b[36m579\u001b[0m - \u001b[1mStarted Programm\u001b[0m\n",
      "\u001b[32m2024-03-04 11:33:34.444\u001b[0m |                    \u001b[1mINFO    \u001b[0m | \u001b[36mcalculate_metrics\u001b[0m                    :\u001b[36m188\u001b[0m - \u001b[1m43 images with shape (2048, 2048) have been considered.\n",
      "\u001b[0m\n",
      "/Users/nicibe/Desktop/Job/swisstopo_stdl/soil_fribourg/proj-soils/scripts/utilities/calculate_metrics.py:217: RuntimeWarning: invalid value encountered in divide\n",
      "  class_precisions = class_tps / (class_tps + class_fps)\n",
      "/Users/nicibe/Desktop/Job/swisstopo_stdl/soil_fribourg/proj-soils/scripts/utilities/calculate_metrics.py:221: RuntimeWarning: invalid value encountered in divide\n",
      "  class_mccs = (class_tps * class_tns - class_fps * class_fns) / np.sqrt(\n",
      "\u001b[32m2024-03-04 11:33:34.447\u001b[0m |                    \u001b[1mINFO    \u001b[0m | \u001b[36mcalculate_metrics\u001b[0m                    :\u001b[36m238\u001b[0m - \u001b[1m** heigvd-32k-10cm **:\u001b[0m\n",
      "\u001b[32m2024-03-04 11:33:34.447\u001b[0m |                    \u001b[1mINFO    \u001b[0m | \u001b[36mcalculate_metrics\u001b[0m                    :\u001b[36m262\u001b[0m - \u001b[1m\u001b[0m\n",
      "\u001b[32m2024-03-04 11:33:34.448\u001b[0m |                    \u001b[1mINFO    \u001b[0m | \u001b[36mcalculate_metrics\u001b[0m                    :\u001b[36m263\u001b[0m - \u001b[1mMean multiclass Metrics:\u001b[0m\n",
      "\u001b[32m2024-03-04 11:33:34.448\u001b[0m |                    \u001b[1mINFO    \u001b[0m | \u001b[36mcalculate_metrics\u001b[0m                    :\u001b[36m264\u001b[0m - \u001b[1mmean_iou = 0.565\u001b[0m\n",
      "\u001b[32m2024-03-04 11:33:34.448\u001b[0m |                    \u001b[1mINFO    \u001b[0m | \u001b[36mcalculate_metrics\u001b[0m                    :\u001b[36m265\u001b[0m - \u001b[1mmean_mcc = 0.728\u001b[0m\n",
      "\u001b[32m2024-03-04 11:33:34.448\u001b[0m |                    \u001b[1mINFO    \u001b[0m | \u001b[36mcalculate_metrics\u001b[0m                    :\u001b[36m266\u001b[0m - \u001b[1mmean_f1 = 0.656\u001b[0m\n",
      "\u001b[32m2024-03-04 11:33:34.448\u001b[0m |                    \u001b[1mINFO    \u001b[0m | \u001b[36mcalculate_metrics\u001b[0m                    :\u001b[36m267\u001b[0m - \u001b[1mmean_precision = 0.782\u001b[0m\n",
      "\u001b[32m2024-03-04 11:33:34.448\u001b[0m |                    \u001b[1mINFO    \u001b[0m | \u001b[36mcalculate_metrics\u001b[0m                    :\u001b[36m268\u001b[0m - \u001b[1mmean_recall = 0.668\n",
      "\u001b[0m\n",
      "\u001b[32m2024-03-04 11:33:34.448\u001b[0m |                    \u001b[1mINFO    \u001b[0m | \u001b[36mcalculate_metrics\u001b[0m                    :\u001b[36m238\u001b[0m - \u001b[1m** heigvd-32k-10cm **:\u001b[0m\n",
      "\u001b[32m2024-03-04 11:33:34.448\u001b[0m |                    \u001b[1mINFO    \u001b[0m | \u001b[36mcalculate_metrics\u001b[0m                    :\u001b[36m262\u001b[0m - \u001b[1m\u001b[0m\n",
      "\u001b[32m2024-03-04 11:33:34.448\u001b[0m |                    \u001b[1mINFO    \u001b[0m | \u001b[36mcalculate_metrics\u001b[0m                    :\u001b[36m263\u001b[0m - \u001b[1mMean binary Metrics:\u001b[0m\n",
      "\u001b[32m2024-03-04 11:33:34.448\u001b[0m |                    \u001b[1mINFO    \u001b[0m | \u001b[36mcalculate_metrics\u001b[0m                    :\u001b[36m264\u001b[0m - \u001b[1mmean_iou = 0.865\u001b[0m\n",
      "\u001b[32m2024-03-04 11:33:34.448\u001b[0m |                    \u001b[1mINFO    \u001b[0m | \u001b[36mcalculate_metrics\u001b[0m                    :\u001b[36m265\u001b[0m - \u001b[1mmean_mcc = 0.85\u001b[0m\n",
      "\u001b[32m2024-03-04 11:33:34.448\u001b[0m |                    \u001b[1mINFO    \u001b[0m | \u001b[36mcalculate_metrics\u001b[0m                    :\u001b[36m266\u001b[0m - \u001b[1mmean_f1 = 0.924\u001b[0m\n",
      "\u001b[32m2024-03-04 11:33:34.448\u001b[0m |                    \u001b[1mINFO    \u001b[0m | \u001b[36mcalculate_metrics\u001b[0m                    :\u001b[36m267\u001b[0m - \u001b[1mmean_precision = 0.901\u001b[0m\n",
      "\u001b[32m2024-03-04 11:33:34.448\u001b[0m |                    \u001b[1mINFO    \u001b[0m | \u001b[36mcalculate_metrics\u001b[0m                    :\u001b[36m268\u001b[0m - \u001b[1mmean_recall = 0.95\n",
      "\u001b[0m\n",
      "\u001b[32m2024-03-04 11:37:39.749\u001b[0m |                    \u001b[1mINFO    \u001b[0m | \u001b[36m<module>\u001b[0m                    :\u001b[36m597\u001b[0m - \u001b[1mEnded Program\n",
      "\u001b[0m\n"
     ]
    }
   ],
   "source": [
    "! python utilities/calculate_metrics.py --config_file {config_eval_heigvd_32k}"
   ]
  },
  {
   "cell_type": "markdown",
   "metadata": {},
   "source": [
    "### 20cm"
   ]
  },
  {
   "cell_type": "markdown",
   "metadata": {},
   "source": [
    "rescale GT first"
   ]
  },
  {
   "cell_type": "code",
   "execution_count": 4,
   "metadata": {},
   "outputs": [
    {
     "name": "stdout",
     "output_type": "stream",
     "text": [
      "\u001b[32m2024-03-04 11:56:55.447\u001b[0m | \u001b[1mINFO    \u001b[0m | \u001b[36m__main__\u001b[0m:\u001b[36m<module>\u001b[0m:\u001b[36m107\u001b[0m - \u001b[1mTIFF_FOLDER = '/Users/nicibe/Desktop/Job/swisstopo_stdl/soil_fribourg/data/GT/20240216/4-cut-to-grid-12cl/10cm/2048px'\u001b[0m\n",
      "\u001b[32m2024-03-04 11:56:55.447\u001b[0m | \u001b[1mINFO    \u001b[0m | \u001b[36m__main__\u001b[0m:\u001b[36m<module>\u001b[0m:\u001b[36m108\u001b[0m - \u001b[1mOUT_FOLDER = '/Users/nicibe/Desktop/Job/swisstopo_stdl/soil_fribourg/data/GT/20240216/4-cut-to-grid-12cl/20cm/1024px'\u001b[0m\n",
      "\u001b[32m2024-03-04 11:56:55.447\u001b[0m | \u001b[1mINFO    \u001b[0m | \u001b[36m__main__\u001b[0m:\u001b[36m<module>\u001b[0m:\u001b[36m109\u001b[0m - \u001b[1mTARGET_RES = 0.2\u001b[0m\n",
      "\u001b[32m2024-03-04 11:56:55.447\u001b[0m | \u001b[1mINFO    \u001b[0m | \u001b[36m__main__\u001b[0m:\u001b[36m<module>\u001b[0m:\u001b[36m110\u001b[0m - \u001b[1mLOG_FILE = '/Users/nicibe/Desktop/Job/swisstopo_stdl/soil_fribourg/proj-soils/logs/rescale_tif.log'\u001b[0m\n",
      "\u001b[32m2024-03-04 11:56:55.447\u001b[0m | \u001b[1mINFO    \u001b[0m | \u001b[36m__main__\u001b[0m:\u001b[36m<module>\u001b[0m:\u001b[36m113\u001b[0m - \u001b[1mStarted Programm\u001b[0m\n",
      "\u001b[32m2024-03-04 11:56:55.468\u001b[0m | \u001b[1mINFO    \u001b[0m | \u001b[36m__main__\u001b[0m:\u001b[36mrescale_tif\u001b[0m:\u001b[36m48\u001b[0m - \u001b[1mRescaling 16_scratch_20200323_1301_12501_0_5-6-7_aoi16.tif\u001b[0m\n",
      "\u001b[32m2024-03-04 11:56:55.475\u001b[0m | \u001b[1mINFO    \u001b[0m | \u001b[36m__main__\u001b[0m:\u001b[36mrescale_tif\u001b[0m:\u001b[36m48\u001b[0m - \u001b[1mRescaling 137_scratch_20200323_1250_12501_0_3-4-5-6_aoi16.tif\u001b[0m\n",
      "\u001b[32m2024-03-04 11:56:55.481\u001b[0m | \u001b[1mINFO    \u001b[0m | \u001b[36m__main__\u001b[0m:\u001b[36mrescale_tif\u001b[0m:\u001b[36m48\u001b[0m - \u001b[1mRescaling 195_scratch_20200323_1159_12501_0_6-7-8-9-10-11-12-13_aoi23.tif\u001b[0m\n",
      "\u001b[32m2024-03-04 11:56:55.487\u001b[0m | \u001b[1mINFO    \u001b[0m | \u001b[36m__main__\u001b[0m:\u001b[36mrescale_tif\u001b[0m:\u001b[36m48\u001b[0m - \u001b[1mRescaling 94_scratch_20200323_1159_12501_0_6-7-8-9-10-11-12-13_aoi24.tif\u001b[0m\n",
      "\u001b[32m2024-03-04 11:56:55.495\u001b[0m | \u001b[1mINFO    \u001b[0m | \u001b[36m__main__\u001b[0m:\u001b[36mrescale_tif\u001b[0m:\u001b[36m48\u001b[0m - \u001b[1mRescaling 17_scratch_20200323_1301_12501_0_5-6-7_aoi16.tif\u001b[0m\n",
      "\u001b[32m2024-03-04 11:56:55.505\u001b[0m | \u001b[1mINFO    \u001b[0m | \u001b[36m__main__\u001b[0m:\u001b[36mrescale_tif\u001b[0m:\u001b[36m48\u001b[0m - \u001b[1mRescaling 58_scratch_20200323_1159_12501_0_6-7-8-9-10-11-12-13_aoi24.tif\u001b[0m\n",
      "\u001b[32m2024-03-04 11:56:55.513\u001b[0m | \u001b[1mINFO    \u001b[0m | \u001b[36m__main__\u001b[0m:\u001b[36mrescale_tif\u001b[0m:\u001b[36m48\u001b[0m - \u001b[1mRescaling 155_scratch_20200805_0949_12504_0_2-3_aoi27.tif\u001b[0m\n",
      "\u001b[32m2024-03-04 11:56:55.520\u001b[0m | \u001b[1mINFO    \u001b[0m | \u001b[36m__main__\u001b[0m:\u001b[36mrescale_tif\u001b[0m:\u001b[36m48\u001b[0m - \u001b[1mRescaling 3_scratch_20200323_1301_12501_0_5-6-7_aoi16.tif\u001b[0m\n",
      "\u001b[32m2024-03-04 11:56:55.526\u001b[0m | \u001b[1mINFO    \u001b[0m | \u001b[36m__main__\u001b[0m:\u001b[36mrescale_tif\u001b[0m:\u001b[36m48\u001b[0m - \u001b[1mRescaling 67_scratch_20200323_1159_12501_0_6-7-8-9-10-11-12-13_aoi24.tif\u001b[0m\n",
      "\u001b[32m2024-03-04 11:56:55.534\u001b[0m | \u001b[1mINFO    \u001b[0m | \u001b[36m__main__\u001b[0m:\u001b[36mrescale_tif\u001b[0m:\u001b[36m48\u001b[0m - \u001b[1mRescaling 168_scratch_20200805_0949_12504_0_2-3_aoi27.tif\u001b[0m\n",
      "\u001b[32m2024-03-04 11:56:55.541\u001b[0m | \u001b[1mINFO    \u001b[0m | \u001b[36m__main__\u001b[0m:\u001b[36mrescale_tif\u001b[0m:\u001b[36m48\u001b[0m - \u001b[1mRescaling 1_scratch_20200323_1301_12501_0_5-6-7_aoi16.tif\u001b[0m\n",
      "\u001b[32m2024-03-04 11:56:55.548\u001b[0m | \u001b[1mINFO    \u001b[0m | \u001b[36m__main__\u001b[0m:\u001b[36mrescale_tif\u001b[0m:\u001b[36m48\u001b[0m - \u001b[1mRescaling 15_scratch_20200323_1301_12501_0_5-6-7_aoi16.tif\u001b[0m\n",
      "\u001b[32m2024-03-04 11:56:55.556\u001b[0m | \u001b[1mINFO    \u001b[0m | \u001b[36m__main__\u001b[0m:\u001b[36mrescale_tif\u001b[0m:\u001b[36m48\u001b[0m - \u001b[1mRescaling 72_scratch_20200323_1159_12501_0_6-7-8-9-10-11-12-13_aoi24.tif\u001b[0m\n",
      "\u001b[32m2024-03-04 11:56:55.563\u001b[0m | \u001b[1mINFO    \u001b[0m | \u001b[36m__main__\u001b[0m:\u001b[36mrescale_tif\u001b[0m:\u001b[36m48\u001b[0m - \u001b[1mRescaling 198_scratch_20200323_1159_12501_0_6-7-8-9-10-11-12-13_aoi23.tif\u001b[0m\n",
      "\u001b[32m2024-03-04 11:56:55.570\u001b[0m | \u001b[1mINFO    \u001b[0m | \u001b[36m__main__\u001b[0m:\u001b[36mrescale_tif\u001b[0m:\u001b[36m48\u001b[0m - \u001b[1mRescaling 97_scratch_20200323_1159_12501_0_6-7-8-9-10-11-12-13_aoi24.tif\u001b[0m\n",
      "\u001b[32m2024-03-04 11:56:55.577\u001b[0m | \u001b[1mINFO    \u001b[0m | \u001b[36m__main__\u001b[0m:\u001b[36mrescale_tif\u001b[0m:\u001b[36m48\u001b[0m - \u001b[1mRescaling 200_scratch_20200319_1348_12501_0_41-42-43_aoi37.tif\u001b[0m\n",
      "\u001b[32m2024-03-04 11:56:55.585\u001b[0m | \u001b[1mINFO    \u001b[0m | \u001b[36m__main__\u001b[0m:\u001b[36mrescale_tif\u001b[0m:\u001b[36m48\u001b[0m - \u001b[1mRescaling 51_scratch_20200526_0916_12501_0_3-4_aoi26.tif\u001b[0m\n",
      "\u001b[32m2024-03-04 11:56:55.592\u001b[0m | \u001b[1mINFO    \u001b[0m | \u001b[36m__main__\u001b[0m:\u001b[36mrescale_tif\u001b[0m:\u001b[36m48\u001b[0m - \u001b[1mRescaling 123_scratch_20200323_1250_12501_0_3-4-5-6_aoi16.tif\u001b[0m\n",
      "\u001b[32m2024-03-04 11:56:55.599\u001b[0m | \u001b[1mINFO    \u001b[0m | \u001b[36m__main__\u001b[0m:\u001b[36mrescale_tif\u001b[0m:\u001b[36m48\u001b[0m - \u001b[1mRescaling 154_scratch_20200805_0949_12504_0_2-3_aoi27.tif\u001b[0m\n",
      "\u001b[32m2024-03-04 11:56:55.606\u001b[0m | \u001b[1mINFO    \u001b[0m | \u001b[36m__main__\u001b[0m:\u001b[36mrescale_tif\u001b[0m:\u001b[36m48\u001b[0m - \u001b[1mRescaling 31_scratch_20200323_1301_12501_0_5-6-7_aoi16.tif\u001b[0m\n",
      "\u001b[32m2024-03-04 11:56:55.615\u001b[0m | \u001b[1mINFO    \u001b[0m | \u001b[36m__main__\u001b[0m:\u001b[36mrescale_tif\u001b[0m:\u001b[36m48\u001b[0m - \u001b[1mRescaling 33_scratch_20200323_1209_12501_0_7-8-9-10-11-12-13-14_aoi32.tif\u001b[0m\n",
      "\u001b[32m2024-03-04 11:56:55.622\u001b[0m | \u001b[1mINFO    \u001b[0m | \u001b[36m__main__\u001b[0m:\u001b[36mrescale_tif\u001b[0m:\u001b[36m48\u001b[0m - \u001b[1mRescaling 93_scratch_20200323_1159_12501_0_6-7-8-9-10-11-12-13_aoi24.tif\u001b[0m\n",
      "\u001b[32m2024-03-04 11:56:55.628\u001b[0m | \u001b[1mINFO    \u001b[0m | \u001b[36m__main__\u001b[0m:\u001b[36mrescale_tif\u001b[0m:\u001b[36m48\u001b[0m - \u001b[1mRescaling 176_scratch_20200805_0940_12504_0_2-3_aoi27.tif\u001b[0m\n",
      "\u001b[32m2024-03-04 11:56:55.636\u001b[0m | \u001b[1mINFO    \u001b[0m | \u001b[36m__main__\u001b[0m:\u001b[36mrescale_tif\u001b[0m:\u001b[36m48\u001b[0m - \u001b[1mRescaling 105_scratch_20200526_0924_12501_0_3-4_aoi26.tif\u001b[0m\n",
      "\u001b[32m2024-03-04 11:56:55.643\u001b[0m | \u001b[1mINFO    \u001b[0m | \u001b[36m__main__\u001b[0m:\u001b[36mrescale_tif\u001b[0m:\u001b[36m48\u001b[0m - \u001b[1mRescaling 126_scratch_20200323_1250_12501_0_3-4-5-6_aoi16.tif\u001b[0m\n",
      "\u001b[32m2024-03-04 11:56:55.652\u001b[0m | \u001b[1mINFO    \u001b[0m | \u001b[36m__main__\u001b[0m:\u001b[36mrescale_tif\u001b[0m:\u001b[36m48\u001b[0m - \u001b[1mRescaling 27_scratch_20200323_1301_12501_0_5-6-7_aoi16.tif\u001b[0m\n",
      "\u001b[32m2024-03-04 11:56:55.661\u001b[0m | \u001b[1mINFO    \u001b[0m | \u001b[36m__main__\u001b[0m:\u001b[36mrescale_tif\u001b[0m:\u001b[36m48\u001b[0m - \u001b[1mRescaling 88_scratch_20200323_1159_12501_0_6-7-8-9-10-11-12-13_aoi24.tif\u001b[0m\n",
      "\u001b[32m2024-03-04 11:56:55.670\u001b[0m | \u001b[1mINFO    \u001b[0m | \u001b[36m__main__\u001b[0m:\u001b[36mrescale_tif\u001b[0m:\u001b[36m48\u001b[0m - \u001b[1mRescaling 86_scratch_20200323_1159_12501_0_6-7-8-9-10-11-12-13_aoi24.tif\u001b[0m\n",
      "\u001b[32m2024-03-04 11:56:55.682\u001b[0m | \u001b[1mINFO    \u001b[0m | \u001b[36m__main__\u001b[0m:\u001b[36mrescale_tif\u001b[0m:\u001b[36m48\u001b[0m - \u001b[1mRescaling 24_scratch_20200323_1301_12501_0_5-6-7_aoi16.tif\u001b[0m\n",
      "\u001b[32m2024-03-04 11:56:55.693\u001b[0m | \u001b[1mINFO    \u001b[0m | \u001b[36m__main__\u001b[0m:\u001b[36mrescale_tif\u001b[0m:\u001b[36m48\u001b[0m - \u001b[1mRescaling 175_scratch_20200805_0940_12504_0_2-3_aoi27.tif\u001b[0m\n",
      "\u001b[32m2024-03-04 11:56:55.709\u001b[0m | \u001b[1mINFO    \u001b[0m | \u001b[36m__main__\u001b[0m:\u001b[36mrescale_tif\u001b[0m:\u001b[36m48\u001b[0m - \u001b[1mRescaling 45_scratch_20200526_0916_12501_0_3-4_aoi26.tif\u001b[0m\n",
      "\u001b[32m2024-03-04 11:56:55.722\u001b[0m | \u001b[1mINFO    \u001b[0m | \u001b[36m__main__\u001b[0m:\u001b[36mrescale_tif\u001b[0m:\u001b[36m48\u001b[0m - \u001b[1mRescaling 34_scratch_20200323_1209_12501_0_7-8-9-10-11-12-13-14_aoi32.tif\u001b[0m\n",
      "\u001b[32m2024-03-04 11:56:55.732\u001b[0m | \u001b[1mINFO    \u001b[0m | \u001b[36m__main__\u001b[0m:\u001b[36mrescale_tif\u001b[0m:\u001b[36m48\u001b[0m - \u001b[1mRescaling 166_scratch_20200805_0949_12504_0_2-3_aoi27.tif\u001b[0m\n",
      "\u001b[32m2024-03-04 11:56:55.741\u001b[0m | \u001b[1mINFO    \u001b[0m | \u001b[36m__main__\u001b[0m:\u001b[36mrescale_tif\u001b[0m:\u001b[36m48\u001b[0m - \u001b[1mRescaling 158_scratch_20200805_0949_12504_0_2-3_aoi27.tif\u001b[0m\n",
      "\u001b[32m2024-03-04 11:56:55.749\u001b[0m | \u001b[1mINFO    \u001b[0m | \u001b[36m__main__\u001b[0m:\u001b[36mrescale_tif\u001b[0m:\u001b[36m48\u001b[0m - \u001b[1mRescaling 92_scratch_20200323_1159_12501_0_6-7-8-9-10-11-12-13_aoi24.tif\u001b[0m\n",
      "\u001b[32m2024-03-04 11:56:55.756\u001b[0m | \u001b[1mINFO    \u001b[0m | \u001b[36m__main__\u001b[0m:\u001b[36mrescale_tif\u001b[0m:\u001b[36m48\u001b[0m - \u001b[1mRescaling 121_scratch_20200323_1250_12501_0_3-4-5-6_aoi16.tif\u001b[0m\n",
      "\u001b[32m2024-03-04 11:56:55.766\u001b[0m | \u001b[1mINFO    \u001b[0m | \u001b[36m__main__\u001b[0m:\u001b[36mrescale_tif\u001b[0m:\u001b[36m48\u001b[0m - \u001b[1mRescaling 170_scratch_20200805_0940_12504_0_2-3_aoi27.tif\u001b[0m\n",
      "\u001b[32m2024-03-04 11:56:55.777\u001b[0m | \u001b[1mINFO    \u001b[0m | \u001b[36m__main__\u001b[0m:\u001b[36mrescale_tif\u001b[0m:\u001b[36m48\u001b[0m - \u001b[1mRescaling 8_scratch_20200323_1301_12501_0_5-6-7_aoi16.tif\u001b[0m\n",
      "\u001b[32m2024-03-04 11:56:55.788\u001b[0m | \u001b[1mINFO    \u001b[0m | \u001b[36m__main__\u001b[0m:\u001b[36mrescale_tif\u001b[0m:\u001b[36m48\u001b[0m - \u001b[1mRescaling 25_scratch_20200323_1301_12501_0_5-6-7_aoi16.tif\u001b[0m\n",
      "\u001b[32m2024-03-04 11:56:55.796\u001b[0m | \u001b[1mINFO    \u001b[0m | \u001b[36m__main__\u001b[0m:\u001b[36mrescale_tif\u001b[0m:\u001b[36m48\u001b[0m - \u001b[1mRescaling 37_scratch_20200318_1318_12501_0_47-48_aoi25.tif\u001b[0m\n",
      "\u001b[32m2024-03-04 11:56:55.805\u001b[0m | \u001b[1mINFO    \u001b[0m | \u001b[36m__main__\u001b[0m:\u001b[36mrescale_tif\u001b[0m:\u001b[36m48\u001b[0m - \u001b[1mRescaling 111_scratch_20200526_0924_12501_0_3-4_aoi26.tif\u001b[0m\n",
      "\u001b[32m2024-03-04 11:56:55.812\u001b[0m | \u001b[1mINFO    \u001b[0m | \u001b[36m__main__\u001b[0m:\u001b[36mrescale_tif\u001b[0m:\u001b[36m48\u001b[0m - \u001b[1mRescaling 194_scratch_20200805_0940_12504_0_2-3_aoi27.tif\u001b[0m\n",
      "\u001b[32m2024-03-04 11:56:55.820\u001b[0m | \u001b[1mINFO    \u001b[0m | \u001b[36m__main__\u001b[0m:\u001b[36mrescale_tif\u001b[0m:\u001b[36m48\u001b[0m - \u001b[1mRescaling 120_scratch_20200323_1250_12501_0_3-4-5-6_aoi16.tif\u001b[0m\n",
      "\u001b[32m2024-03-04 11:56:55.825\u001b[0m | \u001b[1mINFO    \u001b[0m | \u001b[36m__main__\u001b[0m:\u001b[36m<module>\u001b[0m:\u001b[36m115\u001b[0m - \u001b[1mEnded Program\n",
      "\u001b[0m\n"
     ]
    }
   ],
   "source": [
    "! python utilities/rescale_tif.py --config_file {config_eval_heigvd_32k_20cm}"
   ]
  },
  {
   "cell_type": "markdown",
   "metadata": {},
   "source": [
    "### 40cm"
   ]
  },
  {
   "cell_type": "markdown",
   "metadata": {},
   "source": [
    "rescale GT first"
   ]
  },
  {
   "cell_type": "code",
   "execution_count": 3,
   "metadata": {},
   "outputs": [
    {
     "name": "stdout",
     "output_type": "stream",
     "text": [
      "\u001b[32m2024-03-05 08:34:42.444\u001b[0m | \u001b[1mINFO    \u001b[0m | \u001b[36m__main__\u001b[0m:\u001b[36m<module>\u001b[0m:\u001b[36m107\u001b[0m - \u001b[1mTIFF_FOLDER = '/Users/nicibe/Desktop/Job/swisstopo_stdl/soil_fribourg/data/GT/20240216/4-cut-to-grid-12cl/10cm/2048px'\u001b[0m\n",
      "\u001b[32m2024-03-05 08:34:42.445\u001b[0m | \u001b[1mINFO    \u001b[0m | \u001b[36m__main__\u001b[0m:\u001b[36m<module>\u001b[0m:\u001b[36m108\u001b[0m - \u001b[1mOUT_FOLDER = '/Users/nicibe/Desktop/Job/swisstopo_stdl/soil_fribourg/data/GT/20240216/4-cut-to-grid-12cl/40cm/512px'\u001b[0m\n",
      "\u001b[32m2024-03-05 08:34:42.445\u001b[0m | \u001b[1mINFO    \u001b[0m | \u001b[36m__main__\u001b[0m:\u001b[36m<module>\u001b[0m:\u001b[36m109\u001b[0m - \u001b[1mTARGET_RES = 0.4\u001b[0m\n",
      "\u001b[32m2024-03-05 08:34:42.445\u001b[0m | \u001b[1mINFO    \u001b[0m | \u001b[36m__main__\u001b[0m:\u001b[36m<module>\u001b[0m:\u001b[36m110\u001b[0m - \u001b[1mLOG_FILE = '/Users/nicibe/Desktop/Job/swisstopo_stdl/soil_fribourg/proj-soils/logs/rescale_tif.log'\u001b[0m\n",
      "\u001b[32m2024-03-05 08:34:42.445\u001b[0m | \u001b[1mINFO    \u001b[0m | \u001b[36m__main__\u001b[0m:\u001b[36m<module>\u001b[0m:\u001b[36m113\u001b[0m - \u001b[1mStarted Programm\u001b[0m\n",
      "\u001b[32m2024-03-05 08:34:42.489\u001b[0m | \u001b[1mINFO    \u001b[0m | \u001b[36m__main__\u001b[0m:\u001b[36mrescale_tif\u001b[0m:\u001b[36m48\u001b[0m - \u001b[1mRescaling 16_scratch_20200323_1301_12501_0_5-6-7_aoi16.tif\u001b[0m\n",
      "\u001b[32m2024-03-05 08:34:42.497\u001b[0m | \u001b[1mINFO    \u001b[0m | \u001b[36m__main__\u001b[0m:\u001b[36mrescale_tif\u001b[0m:\u001b[36m48\u001b[0m - \u001b[1mRescaling 137_scratch_20200323_1250_12501_0_3-4-5-6_aoi16.tif\u001b[0m\n",
      "\u001b[32m2024-03-05 08:34:42.503\u001b[0m | \u001b[1mINFO    \u001b[0m | \u001b[36m__main__\u001b[0m:\u001b[36mrescale_tif\u001b[0m:\u001b[36m48\u001b[0m - \u001b[1mRescaling 195_scratch_20200323_1159_12501_0_6-7-8-9-10-11-12-13_aoi23.tif\u001b[0m\n",
      "\u001b[32m2024-03-05 08:34:42.509\u001b[0m | \u001b[1mINFO    \u001b[0m | \u001b[36m__main__\u001b[0m:\u001b[36mrescale_tif\u001b[0m:\u001b[36m48\u001b[0m - \u001b[1mRescaling 94_scratch_20200323_1159_12501_0_6-7-8-9-10-11-12-13_aoi24.tif\u001b[0m\n",
      "\u001b[32m2024-03-05 08:34:42.516\u001b[0m | \u001b[1mINFO    \u001b[0m | \u001b[36m__main__\u001b[0m:\u001b[36mrescale_tif\u001b[0m:\u001b[36m48\u001b[0m - \u001b[1mRescaling 17_scratch_20200323_1301_12501_0_5-6-7_aoi16.tif\u001b[0m\n",
      "\u001b[32m2024-03-05 08:34:42.522\u001b[0m | \u001b[1mINFO    \u001b[0m | \u001b[36m__main__\u001b[0m:\u001b[36mrescale_tif\u001b[0m:\u001b[36m48\u001b[0m - \u001b[1mRescaling 58_scratch_20200323_1159_12501_0_6-7-8-9-10-11-12-13_aoi24.tif\u001b[0m\n",
      "\u001b[32m2024-03-05 08:34:42.528\u001b[0m | \u001b[1mINFO    \u001b[0m | \u001b[36m__main__\u001b[0m:\u001b[36mrescale_tif\u001b[0m:\u001b[36m48\u001b[0m - \u001b[1mRescaling 155_scratch_20200805_0949_12504_0_2-3_aoi27.tif\u001b[0m\n",
      "\u001b[32m2024-03-05 08:34:42.534\u001b[0m | \u001b[1mINFO    \u001b[0m | \u001b[36m__main__\u001b[0m:\u001b[36mrescale_tif\u001b[0m:\u001b[36m48\u001b[0m - \u001b[1mRescaling 3_scratch_20200323_1301_12501_0_5-6-7_aoi16.tif\u001b[0m\n",
      "\u001b[32m2024-03-05 08:34:42.540\u001b[0m | \u001b[1mINFO    \u001b[0m | \u001b[36m__main__\u001b[0m:\u001b[36mrescale_tif\u001b[0m:\u001b[36m48\u001b[0m - \u001b[1mRescaling 67_scratch_20200323_1159_12501_0_6-7-8-9-10-11-12-13_aoi24.tif\u001b[0m\n",
      "\u001b[32m2024-03-05 08:34:42.546\u001b[0m | \u001b[1mINFO    \u001b[0m | \u001b[36m__main__\u001b[0m:\u001b[36mrescale_tif\u001b[0m:\u001b[36m48\u001b[0m - \u001b[1mRescaling 168_scratch_20200805_0949_12504_0_2-3_aoi27.tif\u001b[0m\n",
      "\u001b[32m2024-03-05 08:34:42.552\u001b[0m | \u001b[1mINFO    \u001b[0m | \u001b[36m__main__\u001b[0m:\u001b[36mrescale_tif\u001b[0m:\u001b[36m48\u001b[0m - \u001b[1mRescaling 1_scratch_20200323_1301_12501_0_5-6-7_aoi16.tif\u001b[0m\n",
      "\u001b[32m2024-03-05 08:34:42.561\u001b[0m | \u001b[1mINFO    \u001b[0m | \u001b[36m__main__\u001b[0m:\u001b[36mrescale_tif\u001b[0m:\u001b[36m48\u001b[0m - \u001b[1mRescaling 15_scratch_20200323_1301_12501_0_5-6-7_aoi16.tif\u001b[0m\n",
      "\u001b[32m2024-03-05 08:34:42.567\u001b[0m | \u001b[1mINFO    \u001b[0m | \u001b[36m__main__\u001b[0m:\u001b[36mrescale_tif\u001b[0m:\u001b[36m48\u001b[0m - \u001b[1mRescaling 72_scratch_20200323_1159_12501_0_6-7-8-9-10-11-12-13_aoi24.tif\u001b[0m\n",
      "\u001b[32m2024-03-05 08:34:42.573\u001b[0m | \u001b[1mINFO    \u001b[0m | \u001b[36m__main__\u001b[0m:\u001b[36mrescale_tif\u001b[0m:\u001b[36m48\u001b[0m - \u001b[1mRescaling 198_scratch_20200323_1159_12501_0_6-7-8-9-10-11-12-13_aoi23.tif\u001b[0m\n",
      "\u001b[32m2024-03-05 08:34:42.579\u001b[0m | \u001b[1mINFO    \u001b[0m | \u001b[36m__main__\u001b[0m:\u001b[36mrescale_tif\u001b[0m:\u001b[36m48\u001b[0m - \u001b[1mRescaling 97_scratch_20200323_1159_12501_0_6-7-8-9-10-11-12-13_aoi24.tif\u001b[0m\n",
      "\u001b[32m2024-03-05 08:34:42.585\u001b[0m | \u001b[1mINFO    \u001b[0m | \u001b[36m__main__\u001b[0m:\u001b[36mrescale_tif\u001b[0m:\u001b[36m48\u001b[0m - \u001b[1mRescaling 200_scratch_20200319_1348_12501_0_41-42-43_aoi37.tif\u001b[0m\n",
      "\u001b[32m2024-03-05 08:34:42.591\u001b[0m | \u001b[1mINFO    \u001b[0m | \u001b[36m__main__\u001b[0m:\u001b[36mrescale_tif\u001b[0m:\u001b[36m48\u001b[0m - \u001b[1mRescaling 51_scratch_20200526_0916_12501_0_3-4_aoi26.tif\u001b[0m\n",
      "\u001b[32m2024-03-05 08:34:42.596\u001b[0m | \u001b[1mINFO    \u001b[0m | \u001b[36m__main__\u001b[0m:\u001b[36mrescale_tif\u001b[0m:\u001b[36m48\u001b[0m - \u001b[1mRescaling 123_scratch_20200323_1250_12501_0_3-4-5-6_aoi16.tif\u001b[0m\n",
      "\u001b[32m2024-03-05 08:34:42.602\u001b[0m | \u001b[1mINFO    \u001b[0m | \u001b[36m__main__\u001b[0m:\u001b[36mrescale_tif\u001b[0m:\u001b[36m48\u001b[0m - \u001b[1mRescaling 154_scratch_20200805_0949_12504_0_2-3_aoi27.tif\u001b[0m\n",
      "\u001b[32m2024-03-05 08:34:42.607\u001b[0m | \u001b[1mINFO    \u001b[0m | \u001b[36m__main__\u001b[0m:\u001b[36mrescale_tif\u001b[0m:\u001b[36m48\u001b[0m - \u001b[1mRescaling 31_scratch_20200323_1301_12501_0_5-6-7_aoi16.tif\u001b[0m\n",
      "\u001b[32m2024-03-05 08:34:42.614\u001b[0m | \u001b[1mINFO    \u001b[0m | \u001b[36m__main__\u001b[0m:\u001b[36mrescale_tif\u001b[0m:\u001b[36m48\u001b[0m - \u001b[1mRescaling 33_scratch_20200323_1209_12501_0_7-8-9-10-11-12-13-14_aoi32.tif\u001b[0m\n",
      "\u001b[32m2024-03-05 08:34:42.620\u001b[0m | \u001b[1mINFO    \u001b[0m | \u001b[36m__main__\u001b[0m:\u001b[36mrescale_tif\u001b[0m:\u001b[36m48\u001b[0m - \u001b[1mRescaling 93_scratch_20200323_1159_12501_0_6-7-8-9-10-11-12-13_aoi24.tif\u001b[0m\n",
      "\u001b[32m2024-03-05 08:34:42.626\u001b[0m | \u001b[1mINFO    \u001b[0m | \u001b[36m__main__\u001b[0m:\u001b[36mrescale_tif\u001b[0m:\u001b[36m48\u001b[0m - \u001b[1mRescaling 176_scratch_20200805_0940_12504_0_2-3_aoi27.tif\u001b[0m\n",
      "\u001b[32m2024-03-05 08:34:42.633\u001b[0m | \u001b[1mINFO    \u001b[0m | \u001b[36m__main__\u001b[0m:\u001b[36mrescale_tif\u001b[0m:\u001b[36m48\u001b[0m - \u001b[1mRescaling 105_scratch_20200526_0924_12501_0_3-4_aoi26.tif\u001b[0m\n",
      "\u001b[32m2024-03-05 08:34:42.639\u001b[0m | \u001b[1mINFO    \u001b[0m | \u001b[36m__main__\u001b[0m:\u001b[36mrescale_tif\u001b[0m:\u001b[36m48\u001b[0m - \u001b[1mRescaling 126_scratch_20200323_1250_12501_0_3-4-5-6_aoi16.tif\u001b[0m\n",
      "\u001b[32m2024-03-05 08:34:42.645\u001b[0m | \u001b[1mINFO    \u001b[0m | \u001b[36m__main__\u001b[0m:\u001b[36mrescale_tif\u001b[0m:\u001b[36m48\u001b[0m - \u001b[1mRescaling 27_scratch_20200323_1301_12501_0_5-6-7_aoi16.tif\u001b[0m\n",
      "\u001b[32m2024-03-05 08:34:42.651\u001b[0m | \u001b[1mINFO    \u001b[0m | \u001b[36m__main__\u001b[0m:\u001b[36mrescale_tif\u001b[0m:\u001b[36m48\u001b[0m - \u001b[1mRescaling 88_scratch_20200323_1159_12501_0_6-7-8-9-10-11-12-13_aoi24.tif\u001b[0m\n",
      "\u001b[32m2024-03-05 08:34:42.657\u001b[0m | \u001b[1mINFO    \u001b[0m | \u001b[36m__main__\u001b[0m:\u001b[36mrescale_tif\u001b[0m:\u001b[36m48\u001b[0m - \u001b[1mRescaling 86_scratch_20200323_1159_12501_0_6-7-8-9-10-11-12-13_aoi24.tif\u001b[0m\n",
      "\u001b[32m2024-03-05 08:34:42.663\u001b[0m | \u001b[1mINFO    \u001b[0m | \u001b[36m__main__\u001b[0m:\u001b[36mrescale_tif\u001b[0m:\u001b[36m48\u001b[0m - \u001b[1mRescaling 24_scratch_20200323_1301_12501_0_5-6-7_aoi16.tif\u001b[0m\n",
      "\u001b[32m2024-03-05 08:34:42.669\u001b[0m | \u001b[1mINFO    \u001b[0m | \u001b[36m__main__\u001b[0m:\u001b[36mrescale_tif\u001b[0m:\u001b[36m48\u001b[0m - \u001b[1mRescaling 175_scratch_20200805_0940_12504_0_2-3_aoi27.tif\u001b[0m\n",
      "\u001b[32m2024-03-05 08:34:42.676\u001b[0m | \u001b[1mINFO    \u001b[0m | \u001b[36m__main__\u001b[0m:\u001b[36mrescale_tif\u001b[0m:\u001b[36m48\u001b[0m - \u001b[1mRescaling 45_scratch_20200526_0916_12501_0_3-4_aoi26.tif\u001b[0m\n",
      "\u001b[32m2024-03-05 08:34:42.682\u001b[0m | \u001b[1mINFO    \u001b[0m | \u001b[36m__main__\u001b[0m:\u001b[36mrescale_tif\u001b[0m:\u001b[36m48\u001b[0m - \u001b[1mRescaling 34_scratch_20200323_1209_12501_0_7-8-9-10-11-12-13-14_aoi32.tif\u001b[0m\n",
      "\u001b[32m2024-03-05 08:34:42.687\u001b[0m | \u001b[1mINFO    \u001b[0m | \u001b[36m__main__\u001b[0m:\u001b[36mrescale_tif\u001b[0m:\u001b[36m48\u001b[0m - \u001b[1mRescaling 166_scratch_20200805_0949_12504_0_2-3_aoi27.tif\u001b[0m\n",
      "\u001b[32m2024-03-05 08:34:42.694\u001b[0m | \u001b[1mINFO    \u001b[0m | \u001b[36m__main__\u001b[0m:\u001b[36mrescale_tif\u001b[0m:\u001b[36m48\u001b[0m - \u001b[1mRescaling 158_scratch_20200805_0949_12504_0_2-3_aoi27.tif\u001b[0m\n",
      "\u001b[32m2024-03-05 08:34:42.700\u001b[0m | \u001b[1mINFO    \u001b[0m | \u001b[36m__main__\u001b[0m:\u001b[36mrescale_tif\u001b[0m:\u001b[36m48\u001b[0m - \u001b[1mRescaling 92_scratch_20200323_1159_12501_0_6-7-8-9-10-11-12-13_aoi24.tif\u001b[0m\n",
      "\u001b[32m2024-03-05 08:34:42.705\u001b[0m | \u001b[1mINFO    \u001b[0m | \u001b[36m__main__\u001b[0m:\u001b[36mrescale_tif\u001b[0m:\u001b[36m48\u001b[0m - \u001b[1mRescaling 121_scratch_20200323_1250_12501_0_3-4-5-6_aoi16.tif\u001b[0m\n",
      "\u001b[32m2024-03-05 08:34:42.711\u001b[0m | \u001b[1mINFO    \u001b[0m | \u001b[36m__main__\u001b[0m:\u001b[36mrescale_tif\u001b[0m:\u001b[36m48\u001b[0m - \u001b[1mRescaling 170_scratch_20200805_0940_12504_0_2-3_aoi27.tif\u001b[0m\n",
      "\u001b[32m2024-03-05 08:34:42.718\u001b[0m | \u001b[1mINFO    \u001b[0m | \u001b[36m__main__\u001b[0m:\u001b[36mrescale_tif\u001b[0m:\u001b[36m48\u001b[0m - \u001b[1mRescaling 8_scratch_20200323_1301_12501_0_5-6-7_aoi16.tif\u001b[0m\n",
      "\u001b[32m2024-03-05 08:34:42.725\u001b[0m | \u001b[1mINFO    \u001b[0m | \u001b[36m__main__\u001b[0m:\u001b[36mrescale_tif\u001b[0m:\u001b[36m48\u001b[0m - \u001b[1mRescaling 25_scratch_20200323_1301_12501_0_5-6-7_aoi16.tif\u001b[0m\n",
      "\u001b[32m2024-03-05 08:34:42.730\u001b[0m | \u001b[1mINFO    \u001b[0m | \u001b[36m__main__\u001b[0m:\u001b[36mrescale_tif\u001b[0m:\u001b[36m48\u001b[0m - \u001b[1mRescaling 37_scratch_20200318_1318_12501_0_47-48_aoi25.tif\u001b[0m\n",
      "\u001b[32m2024-03-05 08:34:42.736\u001b[0m | \u001b[1mINFO    \u001b[0m | \u001b[36m__main__\u001b[0m:\u001b[36mrescale_tif\u001b[0m:\u001b[36m48\u001b[0m - \u001b[1mRescaling 111_scratch_20200526_0924_12501_0_3-4_aoi26.tif\u001b[0m\n",
      "\u001b[32m2024-03-05 08:34:42.742\u001b[0m | \u001b[1mINFO    \u001b[0m | \u001b[36m__main__\u001b[0m:\u001b[36mrescale_tif\u001b[0m:\u001b[36m48\u001b[0m - \u001b[1mRescaling 194_scratch_20200805_0940_12504_0_2-3_aoi27.tif\u001b[0m\n",
      "\u001b[32m2024-03-05 08:34:42.747\u001b[0m | \u001b[1mINFO    \u001b[0m | \u001b[36m__main__\u001b[0m:\u001b[36mrescale_tif\u001b[0m:\u001b[36m48\u001b[0m - \u001b[1mRescaling 120_scratch_20200323_1250_12501_0_3-4-5-6_aoi16.tif\u001b[0m\n",
      "\u001b[32m2024-03-05 08:34:42.752\u001b[0m | \u001b[1mINFO    \u001b[0m | \u001b[36m__main__\u001b[0m:\u001b[36m<module>\u001b[0m:\u001b[36m115\u001b[0m - \u001b[1mEnded Program\n",
      "\u001b[0m\n"
     ]
    }
   ],
   "source": [
    "! python utilities/rescale_tif.py --config_file {config_eval_heigvd_32k_40cm}"
   ]
  }
 ],
 "metadata": {
  "kernelspec": {
   "display_name": "Python 3 (ipykernel)",
   "language": "python",
   "name": "python3"
  },
  "language_info": {
   "codemirror_mode": {
    "name": "ipython",
    "version": 3
   },
   "file_extension": ".py",
   "mimetype": "text/x-python",
   "name": "python",
   "nbconvert_exporter": "python",
   "pygments_lexer": "ipython3",
   "version": "3.11.3"
  },
  "vscode": {
   "interpreter": {
    "hash": "67c683be3b89053d7ca5cf9ab92fc1f76d72010376a6f7730bc4c074221af5a2"
   }
  }
 },
 "nbformat": 4,
 "nbformat_minor": 4
}
