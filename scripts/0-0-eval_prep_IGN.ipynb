{
 "cells": [
  {
   "attachments": {},
   "cell_type": "markdown",
   "metadata": {},
   "source": [
    "# Prepare IGN inferences for quantitative evaluation"
   ]
  },
  {
   "cell_type": "code",
   "execution_count": null,
   "metadata": {},
   "outputs": [],
   "source": [
    "config_file = \"../config/config-eval_IGN.yaml\""
   ]
  },
  {
   "attachments": {},
   "cell_type": "markdown",
   "metadata": {},
   "source": [
    "## 1. Reclassify"
   ]
  },
  {
   "cell_type": "code",
   "execution_count": null,
   "metadata": {},
   "outputs": [],
   "source": [
    "! python utilities/reclassify.py --config_file {config_file}"
   ]
  },
  {
   "attachments": {},
   "cell_type": "markdown",
   "metadata": {},
   "source": [
    "## 2. Cut tiff to predefined grid of Daniel"
   ]
  },
  {
   "cell_type": "code",
   "execution_count": null,
   "metadata": {},
   "outputs": [],
   "source": [
    "! python utilities/cut_tiff_to_grid.py --config_file {config_file}"
   ]
  },
  {
   "cell_type": "code",
   "execution_count": null,
   "metadata": {},
   "outputs": [],
   "source": [
    "import os\n",
    "import yaml\n",
    "\n",
    "with open(config_file) as fp:\n",
    "        cfg = yaml.load(\n",
    "            fp,\n",
    "            Loader=yaml.FullLoader)[\"cut_tiff_to_grid.py\"]\n",
    "\n",
    "root = cfg[\"out_folder\"]\n",
    "\n",
    "print(f\"{root = }\")\n",
    "\n",
    "for arch in [\"smp-fpn-resnet34-imagenet_RVBI\",\n",
    "    \"smp-unet-resnet34-imagenet_RVBI\", \"odeon-unet-vgg16_RVBI\",\n",
    "    \"smp-unet-resnet34-imagenet_RVBIE\", \"smp-fpn-resnet34-imagenet_RVBIE\",\n",
    "    \"odeon-unet-vgg16_RVBIE\"]:\n",
    "    arch_folder_path = os.path.join(root, arch)\n",
    "    if not os.path.exists(arch_folder_path):\n",
    "        os.mkdir(arch_folder_path)\n",
    "for file in os.listdir(root):\n",
    "    if not file.endswith(\".tif\"):\n",
    "        continue\n",
    "    arch = \"-\".join(file.split(\"-\")[1:-1])\n",
    "    os.rename(os.path.join(root, file), os.path.join(root, arch, file))\n",
    "\n",
    "    "
   ]
  },
  {
   "cell_type": "markdown",
   "metadata": {},
   "source": [
    "# (3.) Mask Tiffs to Urban Extents"
   ]
  },
  {
   "cell_type": "code",
   "execution_count": null,
   "metadata": {},
   "outputs": [],
   "source": [
    "! python utilities/mask_tiffs.py --config_file {config_file}"
   ]
  }
 ],
 "metadata": {
  "kernelspec": {
   "display_name": "Python 3 (ipykernel)",
   "language": "python",
   "name": "python3"
  },
  "language_info": {
   "codemirror_mode": {
    "name": "ipython",
    "version": 3
   },
   "file_extension": ".py",
   "mimetype": "text/x-python",
   "name": "python",
   "nbconvert_exporter": "python",
   "pygments_lexer": "ipython3",
   "version": "3.10.12"
  },
  "vscode": {
   "interpreter": {
    "hash": "67c683be3b89053d7ca5cf9ab92fc1f76d72010376a6f7730bc4c074221af5a2"
   }
  }
 },
 "nbformat": 4,
 "nbformat_minor": 4
}
