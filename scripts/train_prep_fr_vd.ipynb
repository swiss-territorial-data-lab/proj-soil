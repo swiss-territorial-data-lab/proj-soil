{
 "cells": [
  {
   "attachments": {},
   "cell_type": "markdown",
   "metadata": {},
   "source": [
    "# Prepare Dataset for Fine-Tuning of the HEIG-VD Model"
   ]
  },
  {
   "cell_type": "markdown",
   "metadata": {},
   "source": [
    "The ground truth files can not overlap and must have valid geometry. \n",
    "The image files can not overlap, or only if they come from a mosaic. \n"
   ]
  },
  {
   "cell_type": "markdown",
   "metadata": {},
   "source": [
    "# Ground Truth preparation"
   ]
  },
  {
   "cell_type": "code",
   "execution_count": 30,
   "metadata": {},
   "outputs": [],
   "source": [
    "import os\n",
    "import difflib\n",
    "\n",
    "import numpy as np\n",
    "import geopandas as gpd\n",
    "from shapely.validation import explain_validity"
   ]
  },
  {
   "attachments": {},
   "cell_type": "markdown",
   "metadata": {},
   "source": [
    "## 1. Clean GT\n",
    "\n",
    "- Clean up spelling mistakes\n",
    "- Merge classes"
   ]
  },
  {
   "cell_type": "code",
   "execution_count": 2,
   "metadata": {},
   "outputs": [],
   "source": [
    "# Class names in Fribourg dataset\n",
    "class_mapping_fr = {\n",
    "    np.nan: 0,\n",
    "    \"batiment\": 1,\n",
    "    \"surface_non_beton\": 2,\n",
    "    \"surface_beton\": 3,\n",
    "    \"roche_dure_meuble\": 4,\n",
    "    \"eau_naturelle\": 5,\n",
    "    \"roseliere\": 6,\n",
    "    \"sol_neige\": 7,\n",
    "    \"sol_vegetalise\": 8,\n",
    "    \"sol_vigne\": 9,\n",
    "    \"sol_agricole\": 10,\n",
    "    \"sol_bache\": 11,\n",
    "    \"sol_serre_temporaire\": 12,\n",
    "    \"serre_permanente\": 13,\n",
    "    \"toit_vegetalise\": 14,\n",
    "    \"eau_bassin\": 15,\n",
    "    \"gazon_synthetique\": 16,\n",
    "    \"avant_toit\": 17   \n",
    "}\n",
    "\n",
    "# Class names in Vaud dataset\n",
    "class_mapping_vd = {\n",
    "    np.nan: 0,\n",
    "    \"batiment\": 1,\n",
    "    \"surface_non_beton\": 2,\n",
    "    \"surface_beton\": 3,\n",
    "    \"roche_dure_meuble\": 4,\n",
    "    \"eau_naturelle\": 5,\n",
    "    \"roseliere\": 6,\n",
    "    \"neige\": 7,\n",
    "    \"sol_vegetalise\": 8,\n",
    "    \"sol_vigne_verger\": 9,\n",
    "    \"sol_agricole\": 10,\n",
    "    \"sol_bache\": 11,\n",
    "    \"sol_serre_temporaire\": 12,\n",
    "    \"serre_permanente\": 13,\n",
    "    \"toiture_vegetalisee\": 14,\n",
    "    \"eau_bassin\": 15,\n",
    "    \"gazon_synthetique\": 16,\n",
    "    \"avant_toit\": 17   \n",
    "}"
   ]
  },
  {
   "cell_type": "markdown",
   "metadata": {},
   "source": [
    "### 1.a Fribourg"
   ]
  },
  {
   "cell_type": "code",
   "execution_count": 3,
   "metadata": {},
   "outputs": [
    {
     "name": "stdout",
     "output_type": "stream",
     "text": [
      "The directory ../data/data_train/gt/1-cleaned was created.\n"
     ]
    }
   ],
   "source": [
    "source_dir = \"../data/data_train/gt/0-fr/\"\n",
    "target_dir = \"../data/data_train/gt/1-cleaned\"\n",
    "field_with_class = 'CLASS_2024'\n",
    "real_cats = [\"batiment\", \"surface_non_beton\", \"surface_beton\", \"roche_dure_meuble\", \"eau_naturelle\", \"roseliere\", \"sol_neige\",\n",
    "             \"sol_vegetalise\", \"sol_vigne\", \"sol_agricole\", \"sol_bache\", \"sol_serre_temporaire\", \"serre_permanente\", \"toit_vegetalise\",\n",
    "             \"eau_bassin\"]\n",
    "\n",
    "if not os.path.exists(target_dir):\n",
    "    os.makedirs(target_dir)\n",
    "    print(f\"The directory {target_dir} was created.\")"
   ]
  },
  {
   "attachments": {},
   "cell_type": "markdown",
   "metadata": {},
   "source": [
    "Get set (all_cats) of all the different class strings present"
   ]
  },
  {
   "cell_type": "code",
   "execution_count": 4,
   "metadata": {},
   "outputs": [
    {
     "name": "stdout",
     "output_type": "stream",
     "text": [
      "nancount = 0\n",
      "all_cats = {'roche_dure_meuble', 'sol_vigne', 'serre_permanente', 'batiment', 'roseliere', 'sol_bache', 'sol_agricole', 'surface_non_beton', 'eau_bassin', 'sol_vegetalise', 'surface_beton', 'sol_serre_temporaire', 'toit_vegetalise', 'sol_neige', 'eau_naturelle'}\n"
     ]
    }
   ],
   "source": [
    "nancount = 0\n",
    "\n",
    "all_cats = set()\n",
    "for root, dir, files in os.walk(source_dir):\n",
    "        for file in files:\n",
    "            if not file.endswith((\".shp\",\".gpkg\")):\n",
    "                continue\n",
    "                \n",
    "            gt = gpd.read_file(os.path.join(root, file))\n",
    "            for row in gt.iterrows():\n",
    "                cat = row[1][field_with_class]\n",
    "                all_cats.add(cat)\n",
    "\n",
    "                if not isinstance(cat, str):\n",
    "                    nancount += 1\n",
    "                    assert row[1][\"geometry\"] is None\n",
    "                \n",
    "                if not explain_validity(row[1][\"geometry\"]):\n",
    "                    print(file)\n",
    "\n",
    "                \n",
    "print(f'{nancount = }')\n",
    "print(f'{all_cats = }')"
   ]
  },
  {
   "cell_type": "code",
   "execution_count": 5,
   "metadata": {},
   "outputs": [],
   "source": [
    "all_cats = [cat for cat in all_cats if isinstance(cat, str)] \n",
    "all_cats = list(all_cats)\n",
    "\n",
    "assert len(all_cats) == len(real_cats)\n"
   ]
  },
  {
   "attachments": {},
   "cell_type": "markdown",
   "metadata": {},
   "source": [
    "Add new column with correct strings and merged classes"
   ]
  },
  {
   "cell_type": "code",
   "execution_count": 6,
   "metadata": {},
   "outputs": [],
   "source": [
    "for root, dir, files in os.walk(source_dir):\n",
    "        for file in files:\n",
    "            if not file.endswith((\".shp\",\".gpkg\")):\n",
    "                continue\n",
    "            \n",
    "            # print(os.path.join(root, file))\n",
    "            gt = gpd.read_file(os.path.join(root, file))\n",
    "            \n",
    "            gt[\"CLASSE_SEN_ID\"] = gt.apply(\n",
    "                lambda x: class_mapping_fr[x[field_with_class]], axis=1)\n",
    "            \n",
    "            gt[\"geometry\"] = gt.make_valid()\n",
    "\n",
    "            gt = gt.dropna(subset = [field_with_class])\n",
    "            gt = gt.explode(index_parts=False)\n",
    "            gt = gt.loc[gt[\"geometry\"].geom_type=='Polygon']\n",
    "            gt.to_file(os.path.join(target_dir, file.rstrip(\".gpkg.shp\")+\".gpkg\"))"
   ]
  },
  {
   "cell_type": "code",
   "execution_count": 7,
   "metadata": {},
   "outputs": [
    {
     "data": {
      "text/html": [
       "<div>\n",
       "<style scoped>\n",
       "    .dataframe tbody tr th:only-of-type {\n",
       "        vertical-align: middle;\n",
       "    }\n",
       "\n",
       "    .dataframe tbody tr th {\n",
       "        vertical-align: top;\n",
       "    }\n",
       "\n",
       "    .dataframe thead th {\n",
       "        text-align: right;\n",
       "    }\n",
       "</style>\n",
       "<table border=\"1\" class=\"dataframe\">\n",
       "  <thead>\n",
       "    <tr style=\"text-align: right;\">\n",
       "      <th></th>\n",
       "      <th>CLASS_2024</th>\n",
       "      <th>CLASS_SEN</th>\n",
       "      <th>CLASSE_SEN_ID</th>\n",
       "      <th>geometry</th>\n",
       "    </tr>\n",
       "  </thead>\n",
       "  <tbody>\n",
       "    <tr>\n",
       "      <th>0</th>\n",
       "      <td>sol_vegetalise</td>\n",
       "      <td>sol_vegetalise</td>\n",
       "      <td>8</td>\n",
       "      <td>POLYGON ((2574472.358 1163380.856, 2574468.906...</td>\n",
       "    </tr>\n",
       "    <tr>\n",
       "      <th>0</th>\n",
       "      <td>sol_vegetalise</td>\n",
       "      <td>sol_vegetalise</td>\n",
       "      <td>8</td>\n",
       "      <td>POLYGON ((2574472.358 1163722.595, 2574472.291...</td>\n",
       "    </tr>\n",
       "    <tr>\n",
       "      <th>0</th>\n",
       "      <td>sol_vegetalise</td>\n",
       "      <td>sol_vegetalise</td>\n",
       "      <td>8</td>\n",
       "      <td>POLYGON ((2574472.358 1163821.463, 2574470.644...</td>\n",
       "    </tr>\n",
       "    <tr>\n",
       "      <th>1</th>\n",
       "      <td>sol_vegetalise</td>\n",
       "      <td>sol_vegetalise</td>\n",
       "      <td>8</td>\n",
       "      <td>POLYGON ((2574472.358 1163186.171, 2574470.553...</td>\n",
       "    </tr>\n",
       "    <tr>\n",
       "      <th>2</th>\n",
       "      <td>batiment</td>\n",
       "      <td>batiment</td>\n",
       "      <td>1</td>\n",
       "      <td>POLYGON ((2574461.983 1163548.042, 2574458.911...</td>\n",
       "    </tr>\n",
       "  </tbody>\n",
       "</table>\n",
       "</div>"
      ],
      "text/plain": [
       "       CLASS_2024       CLASS_SEN  CLASSE_SEN_ID  \\\n",
       "0  sol_vegetalise  sol_vegetalise              8   \n",
       "0  sol_vegetalise  sol_vegetalise              8   \n",
       "0  sol_vegetalise  sol_vegetalise              8   \n",
       "1  sol_vegetalise  sol_vegetalise              8   \n",
       "2        batiment        batiment              1   \n",
       "\n",
       "                                            geometry  \n",
       "0  POLYGON ((2574472.358 1163380.856, 2574468.906...  \n",
       "0  POLYGON ((2574472.358 1163722.595, 2574472.291...  \n",
       "0  POLYGON ((2574472.358 1163821.463, 2574470.644...  \n",
       "1  POLYGON ((2574472.358 1163186.171, 2574470.553...  \n",
       "2  POLYGON ((2574461.983 1163548.042, 2574458.911...  "
      ]
     },
     "execution_count": 7,
     "metadata": {},
     "output_type": "execute_result"
    }
   ],
   "source": [
    "gt.head()"
   ]
  },
  {
   "cell_type": "markdown",
   "metadata": {},
   "source": [
    "### 1.b. Vaud"
   ]
  },
  {
   "cell_type": "code",
   "execution_count": 8,
   "metadata": {},
   "outputs": [],
   "source": [
    "source_dir = \"../data/data_train/gt/0-vd/\"\n",
    "target_dir = \"../data/data_train/gt/1-cleaned\"\n",
    "field_with_class = \"classe_nom\"\n",
    "real_cats = [\"batiment\", \"surface_non_beton\", \"surface_beton\", \"roche_dure_meuble\", \"eau_naturelle\", \"roseliere\", \"neige\",\n",
    "             \"sol_vegetalise\", \"sol_vigne_verger\", \"sol_agricole\", \"sol_bache\", \"sol_serre_temporaire\", \"serre_permanente\", \"toiture_vegetalisee\",\n",
    "             \"eau_bassin\", \"gazon_synthetique\", \"avant_toit\"]\n",
    "\n",
    "if not os.path.exists(target_dir):\n",
    "    os.makedirs(target_dir)\n",
    "    print(f\"The directory {target_dir} was created.\")"
   ]
  },
  {
   "cell_type": "markdown",
   "metadata": {},
   "source": [
    "Get set (all_cats) of all the different class strings present"
   ]
  },
  {
   "cell_type": "code",
   "execution_count": 9,
   "metadata": {},
   "outputs": [
    {
     "name": "stdout",
     "output_type": "stream",
     "text": [
      "nancount = 0\n",
      "all_cats = {'roche_dure_meuble', 'neige', 'serre_permanente', 'batiment', 'roseliere', 'sol_bache', 'toiture_vegetalisee', 'sol_agricole', 'surface_non_beton', 'avant_toit', 'eau_bassin', 'sol_vegetalise', 'surface_beton', 'sol_serre_temporaire', 'gazon_synthetique', 'sol_vigne_verger', 'eau_naturelle'}\n"
     ]
    }
   ],
   "source": [
    "nancount = 0\n",
    "\n",
    "all_cats = set()\n",
    "for root, dir, files in os.walk(source_dir):\n",
    "        for file in files:\n",
    "            if not file.endswith((\".shp\",\".gpkg\")):\n",
    "                continue\n",
    "                \n",
    "            gt = gpd.read_file(os.path.join(root, file))\n",
    "            for row in gt.iterrows():\n",
    "                cat = row[1][field_with_class]\n",
    "                all_cats.add(cat)\n",
    "\n",
    "                if not isinstance(cat, str):\n",
    "                    nancount += 1\n",
    "                    assert row[1][\"geometry\"] is None\n",
    "                \n",
    "                if not explain_validity(row[1][\"geometry\"]):\n",
    "                    print(file)\n",
    "\n",
    "                \n",
    "print(f'{nancount = }')\n",
    "print(f'{all_cats = }')"
   ]
  },
  {
   "cell_type": "code",
   "execution_count": 10,
   "metadata": {},
   "outputs": [],
   "source": [
    "all_cats = [cat for cat in all_cats if isinstance(cat, str)] \n",
    "all_cats = list(all_cats)\n",
    "\n",
    "assert len(all_cats) == len(real_cats)"
   ]
  },
  {
   "cell_type": "markdown",
   "metadata": {},
   "source": [
    "Add new column with correct strings and merged classes"
   ]
  },
  {
   "cell_type": "code",
   "execution_count": 11,
   "metadata": {},
   "outputs": [
    {
     "data": {
      "text/html": [
       "<div>\n",
       "<style scoped>\n",
       "    .dataframe tbody tr th:only-of-type {\n",
       "        vertical-align: middle;\n",
       "    }\n",
       "\n",
       "    .dataframe tbody tr th {\n",
       "        vertical-align: top;\n",
       "    }\n",
       "\n",
       "    .dataframe thead th {\n",
       "        text-align: right;\n",
       "    }\n",
       "</style>\n",
       "<table border=\"1\" class=\"dataframe\">\n",
       "  <thead>\n",
       "    <tr style=\"text-align: right;\">\n",
       "      <th></th>\n",
       "      <th>classe_num</th>\n",
       "      <th>categorie</th>\n",
       "      <th>classe_nom</th>\n",
       "      <th>Auteur</th>\n",
       "      <th>Date</th>\n",
       "      <th>AOI</th>\n",
       "      <th>CLASSE_SEN_ID</th>\n",
       "      <th>geometry</th>\n",
       "    </tr>\n",
       "  </thead>\n",
       "  <tbody>\n",
       "    <tr>\n",
       "      <th>0</th>\n",
       "      <td>10</td>\n",
       "      <td>sol</td>\n",
       "      <td>sol_vigne_verger</td>\n",
       "      <td>Bureau Terranum Sàrl (Ian Bonhote, Clement Mic...</td>\n",
       "      <td>2025-03-12</td>\n",
       "      <td>9</td>\n",
       "      <td>9</td>\n",
       "      <td>POLYGON ((2547117.000 1149007.400, 2547167.863...</td>\n",
       "    </tr>\n",
       "    <tr>\n",
       "      <th>1</th>\n",
       "      <td>2</td>\n",
       "      <td>non_sol</td>\n",
       "      <td>surface_non_beton</td>\n",
       "      <td>Bureau Terranum Sàrl (Ian Bonhote, Clement Mic...</td>\n",
       "      <td>2025-03-12</td>\n",
       "      <td>9</td>\n",
       "      <td>2</td>\n",
       "      <td>POLYGON ((2547129.523 1148998.156, 2547130.507...</td>\n",
       "    </tr>\n",
       "    <tr>\n",
       "      <th>2</th>\n",
       "      <td>10</td>\n",
       "      <td>sol</td>\n",
       "      <td>sol_vigne_verger</td>\n",
       "      <td>Bureau Terranum Sàrl (Ian Bonhote, Clement Mic...</td>\n",
       "      <td>2025-03-12</td>\n",
       "      <td>9</td>\n",
       "      <td>9</td>\n",
       "      <td>POLYGON ((2547117.000 1148992.744, 2547117.000...</td>\n",
       "    </tr>\n",
       "    <tr>\n",
       "      <th>3</th>\n",
       "      <td>2</td>\n",
       "      <td>non_sol</td>\n",
       "      <td>surface_non_beton</td>\n",
       "      <td>Bureau Terranum Sàrl (Ian Bonhote, Clement Mic...</td>\n",
       "      <td>2025-03-12</td>\n",
       "      <td>9</td>\n",
       "      <td>2</td>\n",
       "      <td>POLYGON ((2547117.000 1148991.874, 2547117.000...</td>\n",
       "    </tr>\n",
       "    <tr>\n",
       "      <th>4</th>\n",
       "      <td>3</td>\n",
       "      <td>non_sol</td>\n",
       "      <td>surface_beton</td>\n",
       "      <td>Bureau Terranum Sàrl (Ian Bonhote, Clement Mic...</td>\n",
       "      <td>2025-03-12</td>\n",
       "      <td>9</td>\n",
       "      <td>3</td>\n",
       "      <td>POLYGON ((2547141.680 1148977.512, 2547141.858...</td>\n",
       "    </tr>\n",
       "  </tbody>\n",
       "</table>\n",
       "</div>"
      ],
      "text/plain": [
       "   classe_num categorie         classe_nom  \\\n",
       "0          10       sol   sol_vigne_verger   \n",
       "1           2   non_sol  surface_non_beton   \n",
       "2          10       sol   sol_vigne_verger   \n",
       "3           2   non_sol  surface_non_beton   \n",
       "4           3   non_sol      surface_beton   \n",
       "\n",
       "                                              Auteur        Date  AOI  \\\n",
       "0  Bureau Terranum Sàrl (Ian Bonhote, Clement Mic...  2025-03-12    9   \n",
       "1  Bureau Terranum Sàrl (Ian Bonhote, Clement Mic...  2025-03-12    9   \n",
       "2  Bureau Terranum Sàrl (Ian Bonhote, Clement Mic...  2025-03-12    9   \n",
       "3  Bureau Terranum Sàrl (Ian Bonhote, Clement Mic...  2025-03-12    9   \n",
       "4  Bureau Terranum Sàrl (Ian Bonhote, Clement Mic...  2025-03-12    9   \n",
       "\n",
       "   CLASSE_SEN_ID                                           geometry  \n",
       "0              9  POLYGON ((2547117.000 1149007.400, 2547167.863...  \n",
       "1              2  POLYGON ((2547129.523 1148998.156, 2547130.507...  \n",
       "2              9  POLYGON ((2547117.000 1148992.744, 2547117.000...  \n",
       "3              2  POLYGON ((2547117.000 1148991.874, 2547117.000...  \n",
       "4              3  POLYGON ((2547141.680 1148977.512, 2547141.858...  "
      ]
     },
     "execution_count": 11,
     "metadata": {},
     "output_type": "execute_result"
    }
   ],
   "source": [
    "for root, dir, files in os.walk(source_dir):\n",
    "        for file in files:\n",
    "            if not file.endswith((\".shp\",\".gpkg\")):\n",
    "                continue\n",
    "            \n",
    "            # print(os.path.join(root, file))\n",
    "            gt = gpd.read_file(os.path.join(root, file))\n",
    "            \n",
    "            gt[\"CLASSE_SEN_ID\"] = gt.apply(\n",
    "                lambda x: class_mapping_vd[x[field_with_class]], axis=1)\n",
    "            \n",
    "            gt[\"geometry\"] = gt.make_valid()\n",
    "\n",
    "            gt = gt.dropna(subset = [\"classe_nom\"])\n",
    "            gt = gt.explode(index_parts=False)\n",
    "            gt = gt.loc[gt[\"geometry\"].geom_type=='Polygon']\n",
    "            gt.to_file(os.path.join(target_dir, file.rstrip(\".shp.gpkg\")+\".gpkg\"))\n",
    "\n",
    "gt.head()"
   ]
  },
  {
   "attachments": {},
   "cell_type": "markdown",
   "metadata": {},
   "source": [
    "## 2. Rasterize"
   ]
  },
  {
   "cell_type": "code",
   "execution_count": 12,
   "metadata": {},
   "outputs": [
    {
     "name": "stdout",
     "output_type": "stream",
     "text": [
      "\u001b[32m2025-09-26 08:13:12.515\u001b[0m | \u001b[1mINFO    \u001b[0m | \u001b[36m__main__\u001b[0m:\u001b[36m<module>\u001b[0m:\u001b[36m119\u001b[0m - \u001b[1mLOG_FILE = '/proj-soils/logs/rasterize_gt.log'\u001b[0m\n",
      "\u001b[32m2025-09-26 08:13:12.516\u001b[0m | \u001b[1mINFO    \u001b[0m | \u001b[36m__main__\u001b[0m:\u001b[36m<module>\u001b[0m:\u001b[36m120\u001b[0m - \u001b[1mPOLYGON_FOLDER = '/proj-soils/data/data_train/gt/1-cleaned'\u001b[0m\n",
      "\u001b[32m2025-09-26 08:13:12.516\u001b[0m | \u001b[1mINFO    \u001b[0m | \u001b[36m__main__\u001b[0m:\u001b[36m<module>\u001b[0m:\u001b[36m121\u001b[0m - \u001b[1mFIELD = 'CLASSE_SEN_ID'\u001b[0m\n",
      "\u001b[32m2025-09-26 08:13:12.516\u001b[0m | \u001b[1mINFO    \u001b[0m | \u001b[36m__main__\u001b[0m:\u001b[36m<module>\u001b[0m:\u001b[36m122\u001b[0m - \u001b[1mOUT_TIFF_FOLDER = '/proj-soils/data/data_train/gt/2-rasterized'\u001b[0m\n",
      "\u001b[32m2025-09-26 08:13:12.516\u001b[0m | \u001b[1mINFO    \u001b[0m | \u001b[36m__main__\u001b[0m:\u001b[36m<module>\u001b[0m:\u001b[36m123\u001b[0m - \u001b[1mCLASS_MAPPING = None\u001b[0m\n",
      "\u001b[32m2025-09-26 08:13:12.516\u001b[0m | \u001b[1mINFO    \u001b[0m | \u001b[36m__main__\u001b[0m:\u001b[36m<module>\u001b[0m:\u001b[36m124\u001b[0m - \u001b[1mMASK_PATH = None\u001b[0m\n",
      "\u001b[32m2025-09-26 08:13:12.516\u001b[0m | \u001b[1mINFO    \u001b[0m | \u001b[36m__main__\u001b[0m:\u001b[36m<module>\u001b[0m:\u001b[36m128\u001b[0m - \u001b[1mStarted Programm\u001b[0m\n",
      "\u001b[32m2025-09-26 08:13:39.232\u001b[0m | \u001b[1mINFO    \u001b[0m | \u001b[36m__main__\u001b[0m:\u001b[36m<module>\u001b[0m:\u001b[36m130\u001b[0m - \u001b[1mEnded Program\n",
      "\u001b[0m\n"
     ]
    }
   ],
   "source": [
    "! python utilities/rasterize_gt.py --config_file ../config/train/config-train_fr_vd_gt.yaml"
   ]
  },
  {
   "attachments": {},
   "cell_type": "markdown",
   "metadata": {},
   "source": [
    "## 3. Reclassify\n",
    "Reclassify carefully depending on what future evaluation has to be done: all classes or aggregated classes ?!"
   ]
  },
  {
   "cell_type": "code",
   "execution_count": 13,
   "metadata": {},
   "outputs": [
    {
     "name": "stdout",
     "output_type": "stream",
     "text": [
      "\u001b[32m2025-09-26 08:13:45.184\u001b[0m | \u001b[1mINFO    \u001b[0m | \u001b[36m__main__\u001b[0m:\u001b[36m<module>\u001b[0m:\u001b[36m84\u001b[0m - \u001b[1mSOURCE_FOLDER = None\u001b[0m\n",
      "\u001b[32m2025-09-26 08:13:45.184\u001b[0m | \u001b[1mINFO    \u001b[0m | \u001b[36m__main__\u001b[0m:\u001b[36m<module>\u001b[0m:\u001b[36m85\u001b[0m - \u001b[1mTARGET_FOLDER = None\u001b[0m\n",
      "\u001b[32m2025-09-26 08:13:45.184\u001b[0m | \u001b[1mINFO    \u001b[0m | \u001b[36m__main__\u001b[0m:\u001b[36m<module>\u001b[0m:\u001b[36m86\u001b[0m - \u001b[1mMAPPING = {0: 0, 1: 1, 2: 2, 3: 3, 4: 4, 5: 5, 6: 6, 7: 7, 8: 8, 9: 9, 10: 10, 11: 11, 12: 11, 13: 12, 14: 1, 15: 5, 16: 2, 17: 1}\u001b[0m\n",
      "\u001b[32m2025-09-26 08:13:45.185\u001b[0m | \u001b[1mINFO    \u001b[0m | \u001b[36m__main__\u001b[0m:\u001b[36m<module>\u001b[0m:\u001b[36m87\u001b[0m - \u001b[1mLOG_FILE = '/proj-soils/logs/reclassify.log'\u001b[0m\n",
      "\u001b[32m2025-09-26 08:13:45.185\u001b[0m | \u001b[1mINFO    \u001b[0m | \u001b[36m__main__\u001b[0m:\u001b[36m<module>\u001b[0m:\u001b[36m89\u001b[0m - \u001b[1mStarted Programm\u001b[0m\n",
      "\u001b[32m2025-09-26 08:13:45.185\u001b[0m | \u001b[1mINFO    \u001b[0m | \u001b[36m__main__\u001b[0m:\u001b[36m<module>\u001b[0m:\u001b[36m91\u001b[0m - \u001b[1mEnded Program\n",
      "\u001b[0m\n"
     ]
    }
   ],
   "source": [
    "! python utilities/reclassify.py --config_file ../config/train/config-train_fr_vd_gt.yaml"
   ]
  },
  {
   "cell_type": "markdown",
   "metadata": {},
   "source": [
    "## 4. Create grid"
   ]
  },
  {
   "cell_type": "markdown",
   "metadata": {},
   "source": [
    "Create a grid for the size of input tiles of the model. "
   ]
  },
  {
   "cell_type": "code",
   "execution_count": 14,
   "metadata": {
    "scrolled": true
   },
   "outputs": [
    {
     "name": "stdout",
     "output_type": "stream",
     "text": [
      "\u001b[32m2025-09-26 08:13:51.348\u001b[0m | \u001b[1mINFO    \u001b[0m | \u001b[36m__main__\u001b[0m:\u001b[36m<module>\u001b[0m:\u001b[36m161\u001b[0m - \u001b[1mSOURCE_FOLDER = '/proj-soils/data/data_train/gt/1-cleaned'\u001b[0m\n",
      "\u001b[32m2025-09-26 08:13:51.348\u001b[0m | \u001b[1mINFO    \u001b[0m | \u001b[36m__main__\u001b[0m:\u001b[36m<module>\u001b[0m:\u001b[36m162\u001b[0m - \u001b[1mTARGET_PATH = '/proj-soils/data/data_train/recursive_grids_max51-2m.gpkg'\u001b[0m\n",
      "\u001b[32m2025-09-26 08:13:51.348\u001b[0m | \u001b[1mINFO    \u001b[0m | \u001b[36m__main__\u001b[0m:\u001b[36m<module>\u001b[0m:\u001b[36m163\u001b[0m - \u001b[1mDEPTH = 0\u001b[0m\n",
      "\u001b[32m2025-09-26 08:13:51.349\u001b[0m | \u001b[1mINFO    \u001b[0m | \u001b[36m__main__\u001b[0m:\u001b[36m<module>\u001b[0m:\u001b[36m164\u001b[0m - \u001b[1mMAX_GRIDSIZE = 51.2\u001b[0m\n",
      "\u001b[32m2025-09-26 08:13:51.349\u001b[0m | \u001b[1mINFO    \u001b[0m | \u001b[36m__main__\u001b[0m:\u001b[36m<module>\u001b[0m:\u001b[36m165\u001b[0m - \u001b[1mLOG_FILE = '/prj-soils/logs/create_recursive_grid.log'\u001b[0m\n",
      "\u001b[32m2025-09-26 08:13:51.349\u001b[0m | \u001b[1mINFO    \u001b[0m | \u001b[36m__main__\u001b[0m:\u001b[36m<module>\u001b[0m:\u001b[36m167\u001b[0m - \u001b[1mStarted Programm\u001b[0m\n",
      "\u001b[32m2025-09-26 08:13:55.211\u001b[0m | \u001b[1mINFO    \u001b[0m | \u001b[36m__main__\u001b[0m:\u001b[36m<module>\u001b[0m:\u001b[36m169\u001b[0m - \u001b[1mEnded Program\n",
      "\u001b[0m\n"
     ]
    }
   ],
   "source": [
    "! python utilities/create_recursive_grid.py --config_file ../config/train/config-train_fr_vd_gt.yaml"
   ]
  },
  {
   "attachments": {},
   "cell_type": "markdown",
   "metadata": {},
   "source": [
    "## 5. Cut tiff to grid"
   ]
  },
  {
   "cell_type": "code",
   "execution_count": 15,
   "metadata": {},
   "outputs": [
    {
     "name": "stdout",
     "output_type": "stream",
     "text": [
      "\u001b[32m2025-09-26 08:14:07.383\u001b[0m | \u001b[1mINFO    \u001b[0m | \u001b[36m__main__\u001b[0m:\u001b[36m<module>\u001b[0m:\u001b[36m249\u001b[0m - \u001b[1mTIFF_FOLDER = '/proj-soils/data/data_train/gt/2-rasterized'\u001b[0m\n",
      "\u001b[32m2025-09-26 08:14:07.384\u001b[0m | \u001b[1mINFO    \u001b[0m | \u001b[36m__main__\u001b[0m:\u001b[36m<module>\u001b[0m:\u001b[36m250\u001b[0m - \u001b[1mOUT_FOLDER = '/proj-soils/data/data_train/gt/3-cut'\u001b[0m\n",
      "\u001b[32m2025-09-26 08:14:07.384\u001b[0m | \u001b[1mINFO    \u001b[0m | \u001b[36m__main__\u001b[0m:\u001b[36m<module>\u001b[0m:\u001b[36m251\u001b[0m - \u001b[1mGRID_PATH = '/proj-soils/data/data_train/recursive_grids_max51-2m.gpkg'\u001b[0m\n",
      "\u001b[32m2025-09-26 08:14:07.384\u001b[0m | \u001b[1mINFO    \u001b[0m | \u001b[36m__main__\u001b[0m:\u001b[36m<module>\u001b[0m:\u001b[36m252\u001b[0m - \u001b[1mGRID_QUERY = 'depth == 0'\u001b[0m\n",
      "\u001b[32m2025-09-26 08:14:07.384\u001b[0m | \u001b[1mINFO    \u001b[0m | \u001b[36m__main__\u001b[0m:\u001b[36m<module>\u001b[0m:\u001b[36m253\u001b[0m - \u001b[1mCELL_LENGTH = 512\u001b[0m\n",
      "\u001b[32m2025-09-26 08:14:07.385\u001b[0m | \u001b[1mINFO    \u001b[0m | \u001b[36m__main__\u001b[0m:\u001b[36m<module>\u001b[0m:\u001b[36m254\u001b[0m - \u001b[1mID_COLUMN = 'str_ids'\u001b[0m\n",
      "\u001b[32m2025-09-26 08:14:07.385\u001b[0m | \u001b[1mINFO    \u001b[0m | \u001b[36m__main__\u001b[0m:\u001b[36m<module>\u001b[0m:\u001b[36m255\u001b[0m - \u001b[1mLOG_FILE = '/proj-soils/logs/cut_tiff_to_grid.log'\u001b[0m\n",
      "\u001b[32m2025-09-26 08:14:07.385\u001b[0m | \u001b[1mINFO    \u001b[0m | \u001b[36m__main__\u001b[0m:\u001b[36m<module>\u001b[0m:\u001b[36m256\u001b[0m - \u001b[1mMASK_PATH = None\u001b[0m\n",
      "\u001b[32m2025-09-26 08:14:07.385\u001b[0m | \u001b[1mINFO    \u001b[0m | \u001b[36m__main__\u001b[0m:\u001b[36m<module>\u001b[0m:\u001b[36m257\u001b[0m - \u001b[1mFILE_EXT = '.tif'\u001b[0m\n",
      "\u001b[32m2025-09-26 08:14:07.385\u001b[0m | \u001b[1mINFO    \u001b[0m | \u001b[36m__main__\u001b[0m:\u001b[36m<module>\u001b[0m:\u001b[36m264\u001b[0m - \u001b[1mStarted Programm\u001b[0m\n",
      "len(grid) = 64\n",
      "\u001b[32m2025-09-26 08:14:07.459\u001b[0m | \u001b[1mINFO    \u001b[0m | \u001b[36m__main__\u001b[0m:\u001b[36mcut_tiff_to_grid\u001b[0m:\u001b[36m89\u001b[0m - \u001b[1mfile = 'scratch_20200318_1318_12501_0_47-48_aoi25_corr.tif'\u001b[0m\n",
      "\u001b[32m2025-09-26 08:14:07.459\u001b[0m | \u001b[1mINFO    \u001b[0m | \u001b[36m__main__\u001b[0m:\u001b[36mcut_tiff_to_grid\u001b[0m:\u001b[36m90\u001b[0m - \u001b[1m64 gridcells on tiff-extent\u001b[0m\n",
      "len(grid) = 144\n",
      "\u001b[32m2025-09-26 08:14:08.036\u001b[0m | \u001b[1mINFO    \u001b[0m | \u001b[36m__main__\u001b[0m:\u001b[36mcut_tiff_to_grid\u001b[0m:\u001b[36m89\u001b[0m - \u001b[1mfile = 'FR_3_swissimage2020_NoLeaves_river.tif'\u001b[0m\n",
      "\u001b[32m2025-09-26 08:14:08.037\u001b[0m | \u001b[1mINFO    \u001b[0m | \u001b[36m__main__\u001b[0m:\u001b[36mcut_tiff_to_grid\u001b[0m:\u001b[36m90\u001b[0m - \u001b[1m144 gridcells on tiff-extent\u001b[0m\n",
      "len(grid) = 192\n",
      "\u001b[32m2025-09-26 08:14:09.319\u001b[0m | \u001b[1mINFO    \u001b[0m | \u001b[36m__main__\u001b[0m:\u001b[36mcut_tiff_to_grid\u001b[0m:\u001b[36m89\u001b[0m - \u001b[1mfile = 'AOI_10.tif'\u001b[0m\n",
      "\u001b[32m2025-09-26 08:14:09.319\u001b[0m | \u001b[1mINFO    \u001b[0m | \u001b[36m__main__\u001b[0m:\u001b[36mcut_tiff_to_grid\u001b[0m:\u001b[36m90\u001b[0m - \u001b[1m192 gridcells on tiff-extent\u001b[0m\n",
      "len(grid) = 1020\n",
      "\u001b[32m2025-09-26 08:14:11.016\u001b[0m | \u001b[1mINFO    \u001b[0m | \u001b[36m__main__\u001b[0m:\u001b[36mcut_tiff_to_grid\u001b[0m:\u001b[36m89\u001b[0m - \u001b[1mfile = 'FR_5_swissimage2020_NoLeaves_reed.tif'\u001b[0m\n",
      "\u001b[32m2025-09-26 08:14:11.017\u001b[0m | \u001b[1mINFO    \u001b[0m | \u001b[36m__main__\u001b[0m:\u001b[36mcut_tiff_to_grid\u001b[0m:\u001b[36m90\u001b[0m - \u001b[1m1020 gridcells on tiff-extent\u001b[0m\n",
      "len(grid) = 552\n",
      "\u001b[32m2025-09-26 08:14:20.022\u001b[0m | \u001b[1mINFO    \u001b[0m | \u001b[36m__main__\u001b[0m:\u001b[36mcut_tiff_to_grid\u001b[0m:\u001b[36m89\u001b[0m - \u001b[1mfile = 'AOI_2.tif'\u001b[0m\n",
      "\u001b[32m2025-09-26 08:14:20.022\u001b[0m | \u001b[1mINFO    \u001b[0m | \u001b[36m__main__\u001b[0m:\u001b[36mcut_tiff_to_grid\u001b[0m:\u001b[36m90\u001b[0m - \u001b[1m552 gridcells on tiff-extent\u001b[0m\n",
      "len(grid) = 16\n",
      "\u001b[32m2025-09-26 08:14:24.518\u001b[0m | \u001b[1mINFO    \u001b[0m | \u001b[36m__main__\u001b[0m:\u001b[36mcut_tiff_to_grid\u001b[0m:\u001b[36m89\u001b[0m - \u001b[1mfile = 'FR_9_swissimage2020_NoLeaves_vegetatedRoof.tif'\u001b[0m\n",
      "\u001b[32m2025-09-26 08:14:24.518\u001b[0m | \u001b[1mINFO    \u001b[0m | \u001b[36m__main__\u001b[0m:\u001b[36mcut_tiff_to_grid\u001b[0m:\u001b[36m90\u001b[0m - \u001b[1m16 gridcells on tiff-extent\u001b[0m\n",
      "len(grid) = 64\n",
      "\u001b[32m2025-09-26 08:14:24.682\u001b[0m | \u001b[1mINFO    \u001b[0m | \u001b[36m__main__\u001b[0m:\u001b[36mcut_tiff_to_grid\u001b[0m:\u001b[36m89\u001b[0m - \u001b[1mfile = 'AOI_12.tif'\u001b[0m\n",
      "\u001b[32m2025-09-26 08:14:24.682\u001b[0m | \u001b[1mINFO    \u001b[0m | \u001b[36m__main__\u001b[0m:\u001b[36mcut_tiff_to_grid\u001b[0m:\u001b[36m90\u001b[0m - \u001b[1m64 gridcells on tiff-extent\u001b[0m\n",
      "len(grid) = 192\n",
      "\u001b[32m2025-09-26 08:14:25.253\u001b[0m | \u001b[1mINFO    \u001b[0m | \u001b[36m__main__\u001b[0m:\u001b[36mcut_tiff_to_grid\u001b[0m:\u001b[36m89\u001b[0m - \u001b[1mfile = 'AOI_11.tif'\u001b[0m\n",
      "\u001b[32m2025-09-26 08:14:25.253\u001b[0m | \u001b[1mINFO    \u001b[0m | \u001b[36m__main__\u001b[0m:\u001b[36mcut_tiff_to_grid\u001b[0m:\u001b[36m90\u001b[0m - \u001b[1m192 gridcells on tiff-extent\u001b[0m\n",
      "len(grid) = 48\n",
      "\u001b[32m2025-09-26 08:14:26.837\u001b[0m | \u001b[1mINFO    \u001b[0m | \u001b[36m__main__\u001b[0m:\u001b[36mcut_tiff_to_grid\u001b[0m:\u001b[36m89\u001b[0m - \u001b[1mfile = 'FR_8_swissimage2020_NoLeaves_sport.tif'\u001b[0m\n",
      "\u001b[32m2025-09-26 08:14:26.837\u001b[0m | \u001b[1mINFO    \u001b[0m | \u001b[36m__main__\u001b[0m:\u001b[36mcut_tiff_to_grid\u001b[0m:\u001b[36m90\u001b[0m - \u001b[1m48 gridcells on tiff-extent\u001b[0m\n",
      "len(grid) = 192\n",
      "\u001b[32m2025-09-26 08:14:27.286\u001b[0m | \u001b[1mINFO    \u001b[0m | \u001b[36m__main__\u001b[0m:\u001b[36mcut_tiff_to_grid\u001b[0m:\u001b[36m89\u001b[0m - \u001b[1mfile = 'AOI_6.tif'\u001b[0m\n",
      "\u001b[32m2025-09-26 08:14:27.286\u001b[0m | \u001b[1mINFO    \u001b[0m | \u001b[36m__main__\u001b[0m:\u001b[36mcut_tiff_to_grid\u001b[0m:\u001b[36m90\u001b[0m - \u001b[1m192 gridcells on tiff-extent\u001b[0m\n",
      "len(grid) = 64\n",
      "\u001b[32m2025-09-26 08:14:28.911\u001b[0m | \u001b[1mINFO    \u001b[0m | \u001b[36m__main__\u001b[0m:\u001b[36mcut_tiff_to_grid\u001b[0m:\u001b[36m89\u001b[0m - \u001b[1mfile = 'AOI_8.tif'\u001b[0m\n",
      "\u001b[32m2025-09-26 08:14:28.911\u001b[0m | \u001b[1mINFO    \u001b[0m | \u001b[36m__main__\u001b[0m:\u001b[36mcut_tiff_to_grid\u001b[0m:\u001b[36m90\u001b[0m - \u001b[1m64 gridcells on tiff-extent\u001b[0m\n",
      "len(grid) = 722\n",
      "\u001b[32m2025-09-26 08:14:29.572\u001b[0m | \u001b[1mINFO    \u001b[0m | \u001b[36m__main__\u001b[0m:\u001b[36mcut_tiff_to_grid\u001b[0m:\u001b[36m89\u001b[0m - \u001b[1mfile = 'scratch_20200526_0916_12501_0_3-4_aoi26_corr.tif'\u001b[0m\n",
      "\u001b[32m2025-09-26 08:14:29.572\u001b[0m | \u001b[1mINFO    \u001b[0m | \u001b[36m__main__\u001b[0m:\u001b[36mcut_tiff_to_grid\u001b[0m:\u001b[36m90\u001b[0m - \u001b[1m722 gridcells on tiff-extent\u001b[0m\n",
      "len(grid) = 105\n",
      "\u001b[32m2025-09-26 08:14:35.653\u001b[0m | \u001b[1mINFO    \u001b[0m | \u001b[36m__main__\u001b[0m:\u001b[36mcut_tiff_to_grid\u001b[0m:\u001b[36m89\u001b[0m - \u001b[1mfile = 'AOI_1.tif'\u001b[0m\n",
      "\u001b[32m2025-09-26 08:14:35.654\u001b[0m | \u001b[1mINFO    \u001b[0m | \u001b[36m__main__\u001b[0m:\u001b[36mcut_tiff_to_grid\u001b[0m:\u001b[36m90\u001b[0m - \u001b[1m105 gridcells on tiff-extent\u001b[0m\n",
      "len(grid) = 992\n",
      "\u001b[32m2025-09-26 08:14:36.683\u001b[0m | \u001b[1mINFO    \u001b[0m | \u001b[36m__main__\u001b[0m:\u001b[36mcut_tiff_to_grid\u001b[0m:\u001b[36m89\u001b[0m - \u001b[1mfile = 'aoi_16.tif'\u001b[0m\n",
      "\u001b[32m2025-09-26 08:14:36.684\u001b[0m | \u001b[1mINFO    \u001b[0m | \u001b[36m__main__\u001b[0m:\u001b[36mcut_tiff_to_grid\u001b[0m:\u001b[36m90\u001b[0m - \u001b[1m992 gridcells on tiff-extent\u001b[0m\n",
      "len(grid) = 984\n",
      "\u001b[32m2025-09-26 08:14:44.846\u001b[0m | \u001b[1mINFO    \u001b[0m | \u001b[36m__main__\u001b[0m:\u001b[36mcut_tiff_to_grid\u001b[0m:\u001b[36m89\u001b[0m - \u001b[1mfile = 'AOI_3.tif'\u001b[0m\n",
      "\u001b[32m2025-09-26 08:14:44.846\u001b[0m | \u001b[1mINFO    \u001b[0m | \u001b[36m__main__\u001b[0m:\u001b[36mcut_tiff_to_grid\u001b[0m:\u001b[36m90\u001b[0m - \u001b[1m984 gridcells on tiff-extent\u001b[0m\n",
      "len(grid) = 234\n",
      "\u001b[32m2025-09-26 08:14:53.222\u001b[0m | \u001b[1mINFO    \u001b[0m | \u001b[36m__main__\u001b[0m:\u001b[36mcut_tiff_to_grid\u001b[0m:\u001b[36m89\u001b[0m - \u001b[1mfile = 'scratch_20200319_1043_12501_0_49-50-51-53-54_aoi40.tif'\u001b[0m\n",
      "\u001b[32m2025-09-26 08:14:53.222\u001b[0m | \u001b[1mINFO    \u001b[0m | \u001b[36m__main__\u001b[0m:\u001b[36mcut_tiff_to_grid\u001b[0m:\u001b[36m90\u001b[0m - \u001b[1m234 gridcells on tiff-extent\u001b[0m\n",
      "len(grid) = 300\n",
      "\u001b[32m2025-09-26 08:14:55.316\u001b[0m | \u001b[1mINFO    \u001b[0m | \u001b[36m__main__\u001b[0m:\u001b[36mcut_tiff_to_grid\u001b[0m:\u001b[36m89\u001b[0m - \u001b[1mfile = 'AOI_0.tif'\u001b[0m\n",
      "\u001b[32m2025-09-26 08:14:55.316\u001b[0m | \u001b[1mINFO    \u001b[0m | \u001b[36m__main__\u001b[0m:\u001b[36mcut_tiff_to_grid\u001b[0m:\u001b[36m90\u001b[0m - \u001b[1m300 gridcells on tiff-extent\u001b[0m\n",
      "len(grid) = 304\n",
      "\u001b[32m2025-09-26 08:14:57.835\u001b[0m | \u001b[1mINFO    \u001b[0m | \u001b[36m__main__\u001b[0m:\u001b[36mcut_tiff_to_grid\u001b[0m:\u001b[36m89\u001b[0m - \u001b[1mfile = 'AOI_5.tif'\u001b[0m\n",
      "\u001b[32m2025-09-26 08:14:57.835\u001b[0m | \u001b[1mINFO    \u001b[0m | \u001b[36m__main__\u001b[0m:\u001b[36mcut_tiff_to_grid\u001b[0m:\u001b[36m90\u001b[0m - \u001b[1m304 gridcells on tiff-extent\u001b[0m\n",
      "len(grid) = 64\n",
      "\u001b[32m2025-09-26 08:15:00.364\u001b[0m | \u001b[1mINFO    \u001b[0m | \u001b[36m__main__\u001b[0m:\u001b[36mcut_tiff_to_grid\u001b[0m:\u001b[36m89\u001b[0m - \u001b[1mfile = 'AOI_9.tif'\u001b[0m\n",
      "\u001b[32m2025-09-26 08:15:00.365\u001b[0m | \u001b[1mINFO    \u001b[0m | \u001b[36m__main__\u001b[0m:\u001b[36mcut_tiff_to_grid\u001b[0m:\u001b[36m90\u001b[0m - \u001b[1m64 gridcells on tiff-extent\u001b[0m\n",
      "len(grid) = 64\n",
      "\u001b[32m2025-09-26 08:15:00.931\u001b[0m | \u001b[1mINFO    \u001b[0m | \u001b[36m__main__\u001b[0m:\u001b[36mcut_tiff_to_grid\u001b[0m:\u001b[36m89\u001b[0m - \u001b[1mfile = 'scratch_20200323_1209_12501_0_7-8-9-10-11-12-13-14_aoi32.tif'\u001b[0m\n",
      "\u001b[32m2025-09-26 08:15:00.931\u001b[0m | \u001b[1mINFO    \u001b[0m | \u001b[36m__main__\u001b[0m:\u001b[36mcut_tiff_to_grid\u001b[0m:\u001b[36m90\u001b[0m - \u001b[1m64 gridcells on tiff-extent\u001b[0m\n",
      "len(grid) = 288\n",
      "\u001b[32m2025-09-26 08:15:01.539\u001b[0m | \u001b[1mINFO    \u001b[0m | \u001b[36m__main__\u001b[0m:\u001b[36mcut_tiff_to_grid\u001b[0m:\u001b[36m89\u001b[0m - \u001b[1mfile = 'aoi_37.tif'\u001b[0m\n",
      "\u001b[32m2025-09-26 08:15:01.539\u001b[0m | \u001b[1mINFO    \u001b[0m | \u001b[36m__main__\u001b[0m:\u001b[36mcut_tiff_to_grid\u001b[0m:\u001b[36m90\u001b[0m - \u001b[1m288 gridcells on tiff-extent\u001b[0m\n",
      "len(grid) = 48\n",
      "\u001b[32m2025-09-26 08:15:03.924\u001b[0m | \u001b[1mINFO    \u001b[0m | \u001b[36m__main__\u001b[0m:\u001b[36mcut_tiff_to_grid\u001b[0m:\u001b[36m89\u001b[0m - \u001b[1mfile = 'FR_2_swissimage2020_NoLeaves_river.tif'\u001b[0m\n",
      "\u001b[32m2025-09-26 08:15:03.925\u001b[0m | \u001b[1mINFO    \u001b[0m | \u001b[36m__main__\u001b[0m:\u001b[36mcut_tiff_to_grid\u001b[0m:\u001b[36m90\u001b[0m - \u001b[1m48 gridcells on tiff-extent\u001b[0m\n",
      "len(grid) = 128\n",
      "\u001b[32m2025-09-26 08:15:04.343\u001b[0m | \u001b[1mINFO    \u001b[0m | \u001b[36m__main__\u001b[0m:\u001b[36mcut_tiff_to_grid\u001b[0m:\u001b[36m89\u001b[0m - \u001b[1mfile = 'AOI_7.tif'\u001b[0m\n",
      "\u001b[32m2025-09-26 08:15:04.344\u001b[0m | \u001b[1mINFO    \u001b[0m | \u001b[36m__main__\u001b[0m:\u001b[36mcut_tiff_to_grid\u001b[0m:\u001b[36m90\u001b[0m - \u001b[1m128 gridcells on tiff-extent\u001b[0m\n",
      "len(grid) = 48\n",
      "\u001b[32m2025-09-26 08:15:05.534\u001b[0m | \u001b[1mINFO    \u001b[0m | \u001b[36m__main__\u001b[0m:\u001b[36mcut_tiff_to_grid\u001b[0m:\u001b[36m89\u001b[0m - \u001b[1mfile = 'AOI_4.tif'\u001b[0m\n",
      "\u001b[32m2025-09-26 08:15:05.534\u001b[0m | \u001b[1mINFO    \u001b[0m | \u001b[36m__main__\u001b[0m:\u001b[36mcut_tiff_to_grid\u001b[0m:\u001b[36m90\u001b[0m - \u001b[1m48 gridcells on tiff-extent\u001b[0m\n",
      "len(grid) = 64\n",
      "\u001b[32m2025-09-26 08:15:05.968\u001b[0m | \u001b[1mINFO    \u001b[0m | \u001b[36m__main__\u001b[0m:\u001b[36mcut_tiff_to_grid\u001b[0m:\u001b[36m89\u001b[0m - \u001b[1mfile = 'scratch_20200323_1159_12501_0_6-7-8-9-10-11-12-13_aoi23.tif'\u001b[0m\n",
      "\u001b[32m2025-09-26 08:15:05.968\u001b[0m | \u001b[1mINFO    \u001b[0m | \u001b[36m__main__\u001b[0m:\u001b[36mcut_tiff_to_grid\u001b[0m:\u001b[36m90\u001b[0m - \u001b[1m64 gridcells on tiff-extent\u001b[0m\n",
      "len(grid) = 798\n",
      "\u001b[32m2025-09-26 08:15:06.706\u001b[0m | \u001b[1mINFO    \u001b[0m | \u001b[36m__main__\u001b[0m:\u001b[36mcut_tiff_to_grid\u001b[0m:\u001b[36m89\u001b[0m - \u001b[1mfile = 'aoi_27_corr.tif'\u001b[0m\n",
      "\u001b[32m2025-09-26 08:15:06.706\u001b[0m | \u001b[1mINFO    \u001b[0m | \u001b[36m__main__\u001b[0m:\u001b[36mcut_tiff_to_grid\u001b[0m:\u001b[36m90\u001b[0m - \u001b[1m798 gridcells on tiff-extent\u001b[0m\n",
      "len(grid) = 722\n",
      "\u001b[32m2025-09-26 08:15:13.337\u001b[0m | \u001b[1mINFO    \u001b[0m | \u001b[36m__main__\u001b[0m:\u001b[36mcut_tiff_to_grid\u001b[0m:\u001b[36m89\u001b[0m - \u001b[1mfile = 'aoi_26.tif'\u001b[0m\n",
      "\u001b[32m2025-09-26 08:15:13.337\u001b[0m | \u001b[1mINFO    \u001b[0m | \u001b[36m__main__\u001b[0m:\u001b[36mcut_tiff_to_grid\u001b[0m:\u001b[36m90\u001b[0m - \u001b[1m722 gridcells on tiff-extent\u001b[0m\n",
      "len(grid) = 713\n",
      "\u001b[32m2025-09-26 08:15:19.501\u001b[0m | \u001b[1mINFO    \u001b[0m | \u001b[36m__main__\u001b[0m:\u001b[36mcut_tiff_to_grid\u001b[0m:\u001b[36m89\u001b[0m - \u001b[1mfile = 'scratch_20200323_1159_12501_0_6-7-8-9-10-11-12-13_aoi24_corr.tif'\u001b[0m\n",
      "\u001b[32m2025-09-26 08:15:19.501\u001b[0m | \u001b[1mINFO    \u001b[0m | \u001b[36m__main__\u001b[0m:\u001b[36mcut_tiff_to_grid\u001b[0m:\u001b[36m90\u001b[0m - \u001b[1m713 gridcells on tiff-extent\u001b[0m\n",
      "\u001b[32m2025-09-26 08:15:25.354\u001b[0m | \u001b[1mINFO    \u001b[0m | \u001b[36m__main__\u001b[0m:\u001b[36m<module>\u001b[0m:\u001b[36m266\u001b[0m - \u001b[1mEnded Program 77.96856427192688 s\n",
      "\u001b[0m\n"
     ]
    }
   ],
   "source": [
    "! python utilities/cut_tiff_to_grid.py --config_file ../config/train/config-train_fr_vd_gt.yaml"
   ]
  },
  {
   "cell_type": "markdown",
   "metadata": {},
   "source": [
    "# Prepare scratch and swissimage\n",
    "Download the SWISSIMAGE 10 cm tiles from the internet using wget and list of download hyperlinks. See the README in the folder data_train/im/0-ori-res/.\n"
   ]
  },
  {
   "cell_type": "markdown",
   "metadata": {},
   "source": [
    "## 1. Ensure every file has resolution 10cm\n"
   ]
  },
  {
   "cell_type": "code",
   "execution_count": 22,
   "metadata": {},
   "outputs": [
    {
     "name": "stdout",
     "output_type": "stream",
     "text": [
      "\u001b[32m2025-09-26 08:18:20.985\u001b[0m | \u001b[1mINFO    \u001b[0m | \u001b[36m__main__\u001b[0m:\u001b[36m<module>\u001b[0m:\u001b[36m128\u001b[0m - \u001b[1mTIFF_FOLDER = '/proj-soils/data/data_train/im/0-ori-res'\u001b[0m\n",
      "\u001b[32m2025-09-26 08:18:20.986\u001b[0m | \u001b[1mINFO    \u001b[0m | \u001b[36m__main__\u001b[0m:\u001b[36m<module>\u001b[0m:\u001b[36m129\u001b[0m - \u001b[1mOUT_FOLDER = '/proj-soils/data/data_train/im/1-10cm'\u001b[0m\n",
      "\u001b[32m2025-09-26 08:18:20.986\u001b[0m | \u001b[1mINFO    \u001b[0m | \u001b[36m__main__\u001b[0m:\u001b[36m<module>\u001b[0m:\u001b[36m130\u001b[0m - \u001b[1mTARGET_RES = 0.1\u001b[0m\n",
      "\u001b[32m2025-09-26 08:18:20.986\u001b[0m | \u001b[1mINFO    \u001b[0m | \u001b[36m__main__\u001b[0m:\u001b[36m<module>\u001b[0m:\u001b[36m131\u001b[0m - \u001b[1mLOG_FILE = '/proj-soils/logs/rescale.log'\u001b[0m\n",
      "\u001b[32m2025-09-26 08:18:20.986\u001b[0m | \u001b[1mINFO    \u001b[0m | \u001b[36m__main__\u001b[0m:\u001b[36m<module>\u001b[0m:\u001b[36m135\u001b[0m - \u001b[1mStarted Programm\u001b[0m\n",
      "\u001b[32m2025-09-26 08:18:21.005\u001b[0m | \u001b[1mINFO    \u001b[0m | \u001b[36m__main__\u001b[0m:\u001b[36mrescale_tif\u001b[0m:\u001b[36m50\u001b[0m - \u001b[1mswissimage-dop10_2023_2569-1201_0.1_2056.tif is already at target resolution\u001b[0m\n",
      "\u001b[32m2025-09-26 08:18:21.046\u001b[0m | \u001b[1mINFO    \u001b[0m | \u001b[36m__main__\u001b[0m:\u001b[36mrescale_tif\u001b[0m:\u001b[36m50\u001b[0m - \u001b[1mswissimage-dop10_2023_2535-1151_0.1_2056.tif is already at target resolution\u001b[0m\n",
      "\u001b[32m2025-09-26 08:18:21.063\u001b[0m | \u001b[1mINFO    \u001b[0m | \u001b[36m__main__\u001b[0m:\u001b[36mrescale_tif\u001b[0m:\u001b[36m50\u001b[0m - \u001b[1mswissimage-dop10_2020_2561-1195_0.1_2056.tif is already at target resolution\u001b[0m\n",
      "\u001b[32m2025-09-26 08:18:21.111\u001b[0m | \u001b[1mINFO    \u001b[0m | \u001b[36m__main__\u001b[0m:\u001b[36mrescale_tif\u001b[0m:\u001b[36m50\u001b[0m - \u001b[1mswissimage-dop10_2020_2561-1194_0.1_2056.tif is already at target resolution\u001b[0m\n",
      "\u001b[32m2025-09-26 08:18:21.161\u001b[0m | \u001b[1mINFO    \u001b[0m | \u001b[36m__main__\u001b[0m:\u001b[36mrescale_tif\u001b[0m:\u001b[36m50\u001b[0m - \u001b[1mswissimage-dop10_2023_2535-1179_0.1_2056.tif is already at target resolution\u001b[0m\n",
      "\u001b[32m2025-09-26 08:18:21.209\u001b[0m | \u001b[1mINFO    \u001b[0m | \u001b[36m__main__\u001b[0m:\u001b[36mrescale_tif\u001b[0m:\u001b[36m50\u001b[0m - \u001b[1mswissimage-dop10_2023_2547-1148_0.1_2056.tif is already at target resolution\u001b[0m\n",
      "\u001b[32m2025-09-26 08:18:21.250\u001b[0m | \u001b[1mINFO    \u001b[0m | \u001b[36m__main__\u001b[0m:\u001b[36mrescale_tif\u001b[0m:\u001b[36m50\u001b[0m - \u001b[1mswissimage-dop10_2023_2537-1182_0.1_2056.tif is already at target resolution\u001b[0m\n",
      "\u001b[32m2025-09-26 08:18:21.294\u001b[0m | \u001b[1mINFO    \u001b[0m | \u001b[36m__main__\u001b[0m:\u001b[36mrescale_tif\u001b[0m:\u001b[36m50\u001b[0m - \u001b[1mswissimage-dop10_2020_2574-1159_0.1_2056.tif is already at target resolution\u001b[0m\n",
      "\u001b[32m2025-09-26 08:18:21.324\u001b[0m | \u001b[1mINFO    \u001b[0m | \u001b[36m__main__\u001b[0m:\u001b[36mrescale_tif\u001b[0m:\u001b[36m50\u001b[0m - \u001b[1mswissimage-dop10_2023_2536-1151_0.1_2056.tif is already at target resolution\u001b[0m\n",
      "\u001b[32m2025-09-26 08:18:21.357\u001b[0m | \u001b[1mINFO    \u001b[0m | \u001b[36m__main__\u001b[0m:\u001b[36mrescale_tif\u001b[0m:\u001b[36m50\u001b[0m - \u001b[1mswissimage-dop10_2023_2536-1182_0.1_2056.tif is already at target resolution\u001b[0m\n",
      "\u001b[32m2025-09-26 08:18:21.403\u001b[0m | \u001b[1mINFO    \u001b[0m | \u001b[36m__main__\u001b[0m:\u001b[36mrescale_tif\u001b[0m:\u001b[36m50\u001b[0m - \u001b[1mswissimage-dop10_2023_2533-1177_0.1_2056.tif is already at target resolution\u001b[0m\n",
      "\u001b[32m2025-09-26 08:18:21.453\u001b[0m | \u001b[1mINFO    \u001b[0m | \u001b[36m__main__\u001b[0m:\u001b[36mrescale_tif\u001b[0m:\u001b[36m50\u001b[0m - \u001b[1mswissimage-dop10_2020_2573-1159_0.1_2056.tif is already at target resolution\u001b[0m\n",
      "\u001b[32m2025-09-26 08:18:21.493\u001b[0m | \u001b[1mINFO    \u001b[0m | \u001b[36m__main__\u001b[0m:\u001b[36mrescale_tif\u001b[0m:\u001b[36m50\u001b[0m - \u001b[1mswissimage-dop10_2023_2535-1177_0.1_2056.tif is already at target resolution\u001b[0m\n",
      "\u001b[32m2025-09-26 08:18:21.538\u001b[0m | \u001b[1mINFO    \u001b[0m | \u001b[36m__main__\u001b[0m:\u001b[36mrescale_tif\u001b[0m:\u001b[36m50\u001b[0m - \u001b[1mswissimage-dop10_2023_2536-1181_0.1_2056.tif is already at target resolution\u001b[0m\n",
      "\u001b[32m2025-09-26 08:18:21.587\u001b[0m | \u001b[1mINFO    \u001b[0m | \u001b[36m__main__\u001b[0m:\u001b[36mrescale_tif\u001b[0m:\u001b[36m50\u001b[0m - \u001b[1mswissimage-dop10_2020_2559-1194_0.1_2056.tif is already at target resolution\u001b[0m\n",
      "\u001b[32m2025-09-26 08:18:21.623\u001b[0m | \u001b[1mINFO    \u001b[0m | \u001b[36m__main__\u001b[0m:\u001b[36mrescale_tif\u001b[0m:\u001b[36m50\u001b[0m - \u001b[1mswissimage-dop10_2023_2534-1177_0.1_2056.tif is already at target resolution\u001b[0m\n",
      "\u001b[32m2025-09-26 08:18:21.674\u001b[0m | \u001b[1mINFO    \u001b[0m | \u001b[36m__main__\u001b[0m:\u001b[36mrescale_tif\u001b[0m:\u001b[36m50\u001b[0m - \u001b[1mswissimage-dop10_2023_2534-1178_0.1_2056.tif is already at target resolution\u001b[0m\n",
      "\u001b[32m2025-09-26 08:18:21.725\u001b[0m | \u001b[1mINFO    \u001b[0m | \u001b[36m__main__\u001b[0m:\u001b[36mrescale_tif\u001b[0m:\u001b[36m50\u001b[0m - \u001b[1mswissimage-dop10_2023_2530-1166_0.1_2056.tif is already at target resolution\u001b[0m\n",
      "\u001b[32m2025-09-26 08:18:21.772\u001b[0m | \u001b[1mINFO    \u001b[0m | \u001b[36m__main__\u001b[0m:\u001b[36mrescale_tif\u001b[0m:\u001b[36m50\u001b[0m - \u001b[1mswissimage-dop10_2020_2560-1194_0.1_2056.tif is already at target resolution\u001b[0m\n",
      "\u001b[32m2025-09-26 08:18:21.820\u001b[0m | \u001b[1mINFO    \u001b[0m | \u001b[36m__main__\u001b[0m:\u001b[36mrescale_tif\u001b[0m:\u001b[36m50\u001b[0m - \u001b[1mswissimage-dop10_2023_2533-1178_0.1_2056.tif is already at target resolution\u001b[0m\n",
      "\u001b[32m2025-09-26 08:18:21.871\u001b[0m | \u001b[1mINFO    \u001b[0m | \u001b[36m__main__\u001b[0m:\u001b[36mrescale_tif\u001b[0m:\u001b[36m50\u001b[0m - \u001b[1mswissimage-dop10_2023_2535-1178_0.1_2056.tif is already at target resolution\u001b[0m\n",
      "\u001b[32m2025-09-26 08:18:21.919\u001b[0m | \u001b[1mINFO    \u001b[0m | \u001b[36m__main__\u001b[0m:\u001b[36mrescale_tif\u001b[0m:\u001b[36m50\u001b[0m - \u001b[1mswissimage-dop10_2020_2560-1195_0.1_2056.tif is already at target resolution\u001b[0m\n",
      "\u001b[32m2025-09-26 08:18:21.941\u001b[0m | \u001b[1mINFO    \u001b[0m | \u001b[36m__main__\u001b[0m:\u001b[36mrescale_tif\u001b[0m:\u001b[36m50\u001b[0m - \u001b[1mswissimage-dop10_2020_2574-1158_0.1_2056.tif is already at target resolution\u001b[0m\n",
      "\u001b[32m2025-09-26 08:18:21.982\u001b[0m | \u001b[1mINFO    \u001b[0m | \u001b[36m__main__\u001b[0m:\u001b[36mrescale_tif\u001b[0m:\u001b[36m50\u001b[0m - \u001b[1mswissimage-dop10_2020_2571-1163_0.1_2056.tif is already at target resolution\u001b[0m\n",
      "\u001b[32m2025-09-26 08:18:22.026\u001b[0m | \u001b[1mINFO    \u001b[0m | \u001b[36m__main__\u001b[0m:\u001b[36mrescale_tif\u001b[0m:\u001b[36m50\u001b[0m - \u001b[1mswissimage-dop10_2023_2514-1156_0.1_2056.tif is already at target resolution\u001b[0m\n",
      "\u001b[32m2025-09-26 08:18:22.075\u001b[0m | \u001b[1mINFO    \u001b[0m | \u001b[36m__main__\u001b[0m:\u001b[36mrescale_tif\u001b[0m:\u001b[36m50\u001b[0m - \u001b[1mswissimage-dop10_2023_2547-1149_0.1_2056.tif is already at target resolution\u001b[0m\n",
      "\u001b[32m2025-09-26 08:18:22.121\u001b[0m | \u001b[1mINFO    \u001b[0m | \u001b[36m__main__\u001b[0m:\u001b[36mrescale_tif\u001b[0m:\u001b[36m50\u001b[0m - \u001b[1mswissimage-dop10_2023_2536-1177_0.1_2056.tif is already at target resolution\u001b[0m\n",
      "\u001b[32m2025-09-26 08:18:22.168\u001b[0m | \u001b[1mINFO    \u001b[0m | \u001b[36m__main__\u001b[0m:\u001b[36mrescale_tif\u001b[0m:\u001b[36m50\u001b[0m - \u001b[1mswissimage-dop10_2023_2560-1137_0.1_2056.tif is already at target resolution\u001b[0m\n",
      "\u001b[32m2025-09-26 08:18:22.208\u001b[0m | \u001b[1mINFO    \u001b[0m | \u001b[36m__main__\u001b[0m:\u001b[36mrescale_tif\u001b[0m:\u001b[36m50\u001b[0m - \u001b[1mswissimage-dop10_2023_2537-1152_0.1_2056.tif is already at target resolution\u001b[0m\n",
      "\u001b[32m2025-09-26 08:18:22.252\u001b[0m | \u001b[1mINFO    \u001b[0m | \u001b[36m__main__\u001b[0m:\u001b[36mrescale_tif\u001b[0m:\u001b[36m50\u001b[0m - \u001b[1mswissimage-dop10_2023_2568-1202_0.1_2056.tif is already at target resolution\u001b[0m\n",
      "\u001b[32m2025-09-26 08:18:22.292\u001b[0m | \u001b[1mINFO    \u001b[0m | \u001b[36m__main__\u001b[0m:\u001b[36mrescale_tif\u001b[0m:\u001b[36m50\u001b[0m - \u001b[1mswissimage-dop10_2023_2536-1178_0.1_2056.tif is already at target resolution\u001b[0m\n",
      "\u001b[32m2025-09-26 08:18:22.342\u001b[0m | \u001b[1mINFO    \u001b[0m | \u001b[36m__main__\u001b[0m:\u001b[36mrescale_tif\u001b[0m:\u001b[36m50\u001b[0m - \u001b[1mswissimage-dop10_2023_2534-1179_0.1_2056.tif is already at target resolution\u001b[0m\n",
      "\u001b[32m2025-09-26 08:18:22.392\u001b[0m | \u001b[1mINFO    \u001b[0m | \u001b[36m__main__\u001b[0m:\u001b[36mrescale_tif\u001b[0m:\u001b[36m50\u001b[0m - \u001b[1mswissimage-dop10_2020_2559-1195_0.1_2056.tif is already at target resolution\u001b[0m\n",
      "\u001b[32m2025-09-26 08:18:22.397\u001b[0m | \u001b[1mINFO    \u001b[0m | \u001b[36m__main__\u001b[0m:\u001b[36mrescale_tif\u001b[0m:\u001b[36m50\u001b[0m - \u001b[1mswissimage-dop10_2023_2513-1156_0.1_2056.tif is already at target resolution\u001b[0m\n",
      "\u001b[32m2025-09-26 08:18:22.454\u001b[0m | \u001b[1mINFO    \u001b[0m | \u001b[36m__main__\u001b[0m:\u001b[36mrescale_tif\u001b[0m:\u001b[36m50\u001b[0m - \u001b[1mswissimage-dop10_2023_2537-1181_0.1_2056.tif is already at target resolution\u001b[0m\n",
      "\u001b[32m2025-09-26 08:18:22.500\u001b[0m | \u001b[1mINFO    \u001b[0m | \u001b[36m__main__\u001b[0m:\u001b[36mrescale_tif\u001b[0m:\u001b[36m50\u001b[0m - \u001b[1mswissimage-dop10_2023_2529-1154_0.1_2056.tif is already at target resolution\u001b[0m\n",
      "\u001b[32m2025-09-26 08:18:22.552\u001b[0m | \u001b[1mINFO    \u001b[0m | \u001b[36m__main__\u001b[0m:\u001b[36mrescale_tif\u001b[0m:\u001b[36m50\u001b[0m - \u001b[1mswissimage-dop10_2023_2581-1129_0.1_2056.tif is already at target resolution\u001b[0m\n",
      "\u001b[32m2025-09-26 08:18:22.586\u001b[0m | \u001b[1mINFO    \u001b[0m | \u001b[36m__main__\u001b[0m:\u001b[36mrescale_tif\u001b[0m:\u001b[36m50\u001b[0m - \u001b[1mswissimage-dop10_2023_2569-1202_0.1_2056.tif is already at target resolution\u001b[0m\n",
      "\u001b[32m2025-09-26 08:18:22.632\u001b[0m | \u001b[1mINFO    \u001b[0m | \u001b[36m__main__\u001b[0m:\u001b[36mrescale_tif\u001b[0m:\u001b[36m50\u001b[0m - \u001b[1mswissimage-dop10_2023_2568-1201_0.1_2056.tif is already at target resolution\u001b[0m\n",
      "\u001b[32m2025-09-26 08:18:22.675\u001b[0m | \u001b[1mINFO    \u001b[0m | \u001b[36m__main__\u001b[0m:\u001b[36mrescale_tif\u001b[0m:\u001b[36m50\u001b[0m - \u001b[1mswissimage-dop10_2020_2573-1158_0.1_2056.tif is already at target resolution\u001b[0m\n",
      "\u001b[32m2025-09-26 08:18:22.723\u001b[0m | \u001b[1mINFO    \u001b[0m | \u001b[36m__main__\u001b[0m:\u001b[36mrescale_tif\u001b[0m:\u001b[36m50\u001b[0m - \u001b[1mswissimage-dop10_2020_2570-1163_0.1_2056.tif is already at target resolution\u001b[0m\n",
      "\u001b[32m2025-09-26 08:18:22.775\u001b[0m | \u001b[1mINFO    \u001b[0m | \u001b[36m__main__\u001b[0m:\u001b[36mrescale_tif\u001b[0m:\u001b[36m50\u001b[0m - \u001b[1mswissimage-dop10_2023_2513-1155_0.1_2056.tif is already at target resolution\u001b[0m\n",
      "\u001b[32m2025-09-26 08:18:22.832\u001b[0m | \u001b[1mINFO    \u001b[0m | \u001b[36m__main__\u001b[0m:\u001b[36mrescale_tif\u001b[0m:\u001b[36m50\u001b[0m - \u001b[1mswissimage-dop10_2020_2571-1162_0.1_2056.tif is already at target resolution\u001b[0m\n",
      "\u001b[32m2025-09-26 08:18:22.878\u001b[0m | \u001b[1mINFO    \u001b[0m | \u001b[36m__main__\u001b[0m:\u001b[36mrescale_tif\u001b[0m:\u001b[36m50\u001b[0m - \u001b[1mswissimage-dop10_2023_2538-1152_0.1_2056.tif is already at target resolution\u001b[0m\n",
      "\u001b[32m2025-09-26 08:18:22.923\u001b[0m | \u001b[1mINFO    \u001b[0m | \u001b[36m__main__\u001b[0m:\u001b[36mrescale_tif\u001b[0m:\u001b[36m50\u001b[0m - \u001b[1mswissimage-dop10_2023_2561-1137_0.1_2056.tif is already at target resolution\u001b[0m\n",
      "\u001b[32m2025-09-26 08:18:22.972\u001b[0m | \u001b[1mINFO    \u001b[0m | \u001b[36m__main__\u001b[0m:\u001b[36mrescale_tif\u001b[0m:\u001b[36m50\u001b[0m - \u001b[1mswissimage-dop10_2023_2580-1129_0.1_2056.tif is already at target resolution\u001b[0m\n",
      "\u001b[32m2025-09-26 08:18:23.004\u001b[0m | \u001b[1mINFO    \u001b[0m | \u001b[36m__main__\u001b[0m:\u001b[36mrescale_tif\u001b[0m:\u001b[36m50\u001b[0m - \u001b[1mswissimage-dop10_2023_2536-1179_0.1_2056.tif is already at target resolution\u001b[0m\n",
      "\u001b[32m2025-09-26 08:18:23.057\u001b[0m | \u001b[1mINFO    \u001b[0m | \u001b[36m__main__\u001b[0m:\u001b[36mrescale_tif\u001b[0m:\u001b[36m50\u001b[0m - \u001b[1mswissimage-dop10_2023_2514-1155_0.1_2056.tif is already at target resolution\u001b[0m\n",
      "\u001b[32m2025-09-26 08:18:23.105\u001b[0m | \u001b[1mINFO    \u001b[0m | \u001b[36m__main__\u001b[0m:\u001b[36mrescale_tif\u001b[0m:\u001b[36m50\u001b[0m - \u001b[1mswissimage-dop10_2023_2531-1166_0.1_2056.tif is already at target resolution\u001b[0m\n",
      "\u001b[32m2025-09-26 08:18:23.153\u001b[0m | \u001b[1mINFO    \u001b[0m | \u001b[36m__main__\u001b[0m:\u001b[36m<module>\u001b[0m:\u001b[36m137\u001b[0m - \u001b[1mEnded Program\n",
      "\u001b[0m\n"
     ]
    }
   ],
   "source": [
    "! python utilities/rescale_tif.py --config_file ../config/train/config-train_fr_vd_im.yaml"
   ]
  },
  {
   "cell_type": "code",
   "execution_count": 23,
   "metadata": {},
   "outputs": [
    {
     "name": "stdout",
     "output_type": "stream",
     "text": [
      "\u001b[32m2025-09-26 08:18:27.775\u001b[0m | \u001b[1mINFO    \u001b[0m | \u001b[36m__main__\u001b[0m:\u001b[36m<module>\u001b[0m:\u001b[36m78\u001b[0m - \u001b[1m---------------------\u001b[0m\n",
      "\u001b[32m2025-09-26 08:18:27.775\u001b[0m | \u001b[1mINFO    \u001b[0m | \u001b[36m__main__\u001b[0m:\u001b[36m<module>\u001b[0m:\u001b[36m79\u001b[0m - \u001b[1mSOURCE_FOLDER = '/proj-soils/data/data_train/im/1-10cm'\u001b[0m\n",
      "\u001b[32m2025-09-26 08:18:27.775\u001b[0m | \u001b[1mINFO    \u001b[0m | \u001b[36m__main__\u001b[0m:\u001b[36m<module>\u001b[0m:\u001b[36m80\u001b[0m - \u001b[1mTARGET_FOLDER = '/proj-soils/data/data_train/im/1-10cm'\u001b[0m\n",
      "\u001b[32m2025-09-26 08:18:27.775\u001b[0m | \u001b[1mINFO    \u001b[0m | \u001b[36m__main__\u001b[0m:\u001b[36m<module>\u001b[0m:\u001b[36m81\u001b[0m - \u001b[1mVRT_NAME = 'mosaic.vrt'\u001b[0m\n",
      "\u001b[32m2025-09-26 08:18:27.775\u001b[0m | \u001b[1mINFO    \u001b[0m | \u001b[36m__main__\u001b[0m:\u001b[36m<module>\u001b[0m:\u001b[36m82\u001b[0m - \u001b[1mBBOX_GPKG = None\u001b[0m\n",
      "\u001b[32m2025-09-26 08:18:27.775\u001b[0m | \u001b[1mINFO    \u001b[0m | \u001b[36m__main__\u001b[0m:\u001b[36m<module>\u001b[0m:\u001b[36m86\u001b[0m - \u001b[1mStarted Programm\u001b[0m\n",
      "\u001b[32m2025-09-26 08:18:27.776\u001b[0m | \u001b[1mINFO    \u001b[0m | \u001b[36m__main__\u001b[0m:\u001b[36mvrt_build\u001b[0m:\u001b[36m33\u001b[0m - \u001b[1mListing the image files...\u001b[0m\n",
      "\u001b[32m2025-09-26 08:18:27.861\u001b[0m | \u001b[1mINFO    \u001b[0m | \u001b[36m__main__\u001b[0m:\u001b[36m<module>\u001b[0m:\u001b[36m88\u001b[0m - \u001b[1mEnded Program  0.08524298667907715 s.\n",
      "\u001b[0m\n"
     ]
    }
   ],
   "source": [
    "! python utilities/build_vrt.py --config_file ../config/train/config-train_fr_vd_im.yaml"
   ]
  },
  {
   "cell_type": "markdown",
   "metadata": {},
   "source": [
    "## Cut tiff to grid"
   ]
  },
  {
   "cell_type": "code",
   "execution_count": 24,
   "metadata": {},
   "outputs": [
    {
     "name": "stdout",
     "output_type": "stream",
     "text": [
      "\u001b[32m2025-09-26 08:18:35.486\u001b[0m | \u001b[1mINFO    \u001b[0m | \u001b[36m__main__\u001b[0m:\u001b[36m<module>\u001b[0m:\u001b[36m249\u001b[0m - \u001b[1mTIFF_FOLDER = '/proj-soils/data/data_train/im/1-10cm'\u001b[0m\n",
      "\u001b[32m2025-09-26 08:18:35.486\u001b[0m | \u001b[1mINFO    \u001b[0m | \u001b[36m__main__\u001b[0m:\u001b[36m<module>\u001b[0m:\u001b[36m250\u001b[0m - \u001b[1mOUT_FOLDER = '/proj-soils/data/data_train/im/2-cut'\u001b[0m\n",
      "\u001b[32m2025-09-26 08:18:35.487\u001b[0m | \u001b[1mINFO    \u001b[0m | \u001b[36m__main__\u001b[0m:\u001b[36m<module>\u001b[0m:\u001b[36m251\u001b[0m - \u001b[1mGRID_PATH = '/proj-soils/data/data_train/recursive_grids_max51-2m.gpkg'\u001b[0m\n",
      "\u001b[32m2025-09-26 08:18:35.487\u001b[0m | \u001b[1mINFO    \u001b[0m | \u001b[36m__main__\u001b[0m:\u001b[36m<module>\u001b[0m:\u001b[36m252\u001b[0m - \u001b[1mGRID_QUERY = 'depth == 0'\u001b[0m\n",
      "\u001b[32m2025-09-26 08:18:35.487\u001b[0m | \u001b[1mINFO    \u001b[0m | \u001b[36m__main__\u001b[0m:\u001b[36m<module>\u001b[0m:\u001b[36m253\u001b[0m - \u001b[1mCELL_LENGTH = 512\u001b[0m\n",
      "\u001b[32m2025-09-26 08:18:35.487\u001b[0m | \u001b[1mINFO    \u001b[0m | \u001b[36m__main__\u001b[0m:\u001b[36m<module>\u001b[0m:\u001b[36m254\u001b[0m - \u001b[1mID_COLUMN = 'str_ids'\u001b[0m\n",
      "\u001b[32m2025-09-26 08:18:35.487\u001b[0m | \u001b[1mINFO    \u001b[0m | \u001b[36m__main__\u001b[0m:\u001b[36m<module>\u001b[0m:\u001b[36m255\u001b[0m - \u001b[1mLOG_FILE = '/proj-soils/logs/cut_tiff_to_grid.log'\u001b[0m\n",
      "\u001b[32m2025-09-26 08:18:35.487\u001b[0m | \u001b[1mINFO    \u001b[0m | \u001b[36m__main__\u001b[0m:\u001b[36m<module>\u001b[0m:\u001b[36m256\u001b[0m - \u001b[1mMASK_PATH = None\u001b[0m\n",
      "\u001b[32m2025-09-26 08:18:35.487\u001b[0m | \u001b[1mINFO    \u001b[0m | \u001b[36m__main__\u001b[0m:\u001b[36m<module>\u001b[0m:\u001b[36m257\u001b[0m - \u001b[1mFILE_EXT = '.vrt'\u001b[0m\n",
      "\u001b[32m2025-09-26 08:18:35.487\u001b[0m | \u001b[1mINFO    \u001b[0m | \u001b[36m__main__\u001b[0m:\u001b[36m<module>\u001b[0m:\u001b[36m264\u001b[0m - \u001b[1mStarted Programm\u001b[0m\n",
      "len(grid) = 8404\n",
      "\u001b[32m2025-09-26 08:18:36.875\u001b[0m | \u001b[1mINFO    \u001b[0m | \u001b[36m__main__\u001b[0m:\u001b[36mcut_tiff_to_grid\u001b[0m:\u001b[36m89\u001b[0m - \u001b[1mfile = 'mosaic.vrt'\u001b[0m\n",
      "\u001b[32m2025-09-26 08:18:36.875\u001b[0m | \u001b[1mINFO    \u001b[0m | \u001b[36m__main__\u001b[0m:\u001b[36mcut_tiff_to_grid\u001b[0m:\u001b[36m90\u001b[0m - \u001b[1m8404 gridcells on tiff-extent\u001b[0m\n",
      "\u001b[32m2025-09-26 08:22:13.116\u001b[0m | \u001b[1mINFO    \u001b[0m | \u001b[36m__main__\u001b[0m:\u001b[36m<module>\u001b[0m:\u001b[36m266\u001b[0m - \u001b[1mEnded Program 217.62835478782654 s\n",
      "\u001b[0m\n"
     ]
    }
   ],
   "source": [
    "! python utilities/cut_tiff_to_grid.py --config_file ../config/train/config-train_fr_vd_im.yaml"
   ]
  },
  {
   "cell_type": "markdown",
   "metadata": {},
   "source": [
    "# Split dataset"
   ]
  },
  {
   "cell_type": "markdown",
   "metadata": {},
   "source": [
    "Split the ground truth in train, validation and test dataset. It can also be done only on some part of the ground truth with help of vector layer for cantonal border by example. \n",
    "The split is saved in YAML file: each tile is attributed to one dataset key (train, val or test). "
   ]
  },
  {
   "cell_type": "code",
   "execution_count": 25,
   "metadata": {},
   "outputs": [
    {
     "name": "stdout",
     "output_type": "stream",
     "text": [
      "\u001b[32m2025-09-26 08:22:27.712\u001b[0m | \u001b[1mINFO    \u001b[0m | \u001b[36m__main__\u001b[0m:\u001b[36m<module>\u001b[0m:\u001b[36m127\u001b[0m - \u001b[1mSEED = 42\u001b[0m\n",
      "\u001b[32m2025-09-26 08:22:27.713\u001b[0m | \u001b[1mINFO    \u001b[0m | \u001b[36m__main__\u001b[0m:\u001b[36m<module>\u001b[0m:\u001b[36m128\u001b[0m - \u001b[1mGRID_PATH = '/proj-soils/data/data_train/recursive_grids_max51-2m.gpkg'\u001b[0m\n",
      "\u001b[32m2025-09-26 08:22:27.713\u001b[0m | \u001b[1mINFO    \u001b[0m | \u001b[36m__main__\u001b[0m:\u001b[36m<module>\u001b[0m:\u001b[36m129\u001b[0m - \u001b[1mCT_AOI = '/proj-soils/data/data_train/canton_perimeter.gpkg'\u001b[0m\n",
      "\u001b[32m2025-09-26 08:22:27.713\u001b[0m | \u001b[1mINFO    \u001b[0m | \u001b[36m__main__\u001b[0m:\u001b[36m<module>\u001b[0m:\u001b[36m130\u001b[0m - \u001b[1mGRID_PATH_SPLIT = '/proj-soils/data/data_train/recursive_grids_max51-2m_splits.gpkg'\u001b[0m\n",
      "\u001b[32m2025-09-26 08:22:27.713\u001b[0m | \u001b[1mINFO    \u001b[0m | \u001b[36m__main__\u001b[0m:\u001b[36m<module>\u001b[0m:\u001b[36m131\u001b[0m - \u001b[1mPREVIOUS_SPLIT = '/proj-soils/data/data_train/model_exploration_recursive_grids_max204-8m.gpkg'\u001b[0m\n",
      "\u001b[32m2025-09-26 08:22:27.713\u001b[0m | \u001b[1mINFO    \u001b[0m | \u001b[36m__main__\u001b[0m:\u001b[36m<module>\u001b[0m:\u001b[36m132\u001b[0m - \u001b[1mTARGET_ROOT = '/proj-soils/data/data_train/'\u001b[0m\n",
      "\u001b[32m2025-09-26 08:22:27.714\u001b[0m | \u001b[1mINFO    \u001b[0m | \u001b[36m__main__\u001b[0m:\u001b[36m<module>\u001b[0m:\u001b[36m133\u001b[0m - \u001b[1mAOI_FILTER = {' ': 'FR+VD', 'Vaud': 'FR', 'Fribourg': 'VD'}\u001b[0m\n",
      "\u001b[32m2025-09-26 08:22:27.714\u001b[0m | \u001b[1mINFO    \u001b[0m | \u001b[36m__main__\u001b[0m:\u001b[36m<module>\u001b[0m:\u001b[36m139\u001b[0m - \u001b[1mStarted Programm\u001b[0m\n",
      "\u001b[32m2025-09-26 08:22:32.147\u001b[0m | \u001b[1mINFO    \u001b[0m | \u001b[36m__main__\u001b[0m:\u001b[36m<module>\u001b[0m:\u001b[36m141\u001b[0m - \u001b[1mEnded Program 4.433142900466919 s\n",
      "\u001b[0m\n"
     ]
    }
   ],
   "source": [
    "! python utilities/random_split_grid_by_region.py --config_file ../config/train/config-train_fr_vd_gt.yaml"
   ]
  },
  {
   "cell_type": "markdown",
   "metadata": {},
   "source": [
    "Some edits on the split may be needed to have a balanced distribution throughout the classes.\n",
    "Aterwards, one must updates the YAML with the split."
   ]
  },
  {
   "cell_type": "code",
   "execution_count": 26,
   "metadata": {},
   "outputs": [],
   "source": [
    "import yaml\n",
    "\n",
    "grid_p2_split_p1 = gpd.read_file(\"/proj-soils/data/data_train/recursive_grids_max51-2m_splits_edited_del.gpkg\")\n",
    "\n",
    "AOI_FILTER = {' ': 'FR+VD', 'Vaud': 'FR', 'Fribourg': 'VD'}\n",
    "for key, value in AOI_FILTER.items(): \n",
    "    grid_to_yaml = grid_p2_split_p1[grid_p2_split_p1['name']!=key]\n",
    "    split_dic = {\"train\": sorted(list(grid_to_yaml[grid_to_yaml['final_split']=='train']['unique_id'])), \n",
    "                \"val\": sorted(list(grid_to_yaml[grid_to_yaml['final_split']=='val']['unique_id'])), \n",
    "                \"test\":sorted(list(grid_to_yaml[grid_to_yaml['final_split']=='test']['unique_id']))}\n",
    "    with open(f'/proj-soils/data/data_train/split_{value}.yaml', 'w') as file:\n",
    "        yaml.dump(split_dic, file)\n",
    "\n"
   ]
  },
  {
   "cell_type": "markdown",
   "metadata": {},
   "source": [
    "Do the actual split of tiles in folders with help of the YAML file containing split information."
   ]
  },
  {
   "cell_type": "code",
   "execution_count": 27,
   "metadata": {},
   "outputs": [
    {
     "name": "stdout",
     "output_type": "stream",
     "text": [
      "\u001b[32m2025-09-26 08:24:15.691\u001b[0m | \u001b[1mINFO    \u001b[0m | \u001b[36m__main__\u001b[0m:\u001b[36m<module>\u001b[0m:\u001b[36m159\u001b[0m - \u001b[1mSOURCE_IPT_FOLDER = '/proj-soils/data/data_train/im/2-cut'\u001b[0m\n",
      "\u001b[32m2025-09-26 08:24:15.693\u001b[0m | \u001b[1mINFO    \u001b[0m | \u001b[36m__main__\u001b[0m:\u001b[36m<module>\u001b[0m:\u001b[36m160\u001b[0m - \u001b[1mSOURCE_TGT_FOLDER = '/proj-soils/data/data_train/gt/3-cut/'\u001b[0m\n",
      "\u001b[32m2025-09-26 08:24:15.693\u001b[0m | \u001b[1mINFO    \u001b[0m | \u001b[36m__main__\u001b[0m:\u001b[36m<module>\u001b[0m:\u001b[36m161\u001b[0m - \u001b[1mTARGET_ROOT = '/proj-soils/data/data_train/dataset/FR+VD/'\u001b[0m\n",
      "\u001b[32m2025-09-26 08:24:15.693\u001b[0m | \u001b[1mINFO    \u001b[0m | \u001b[36m__main__\u001b[0m:\u001b[36m<module>\u001b[0m:\u001b[36m162\u001b[0m - \u001b[1mSEED = 6\u001b[0m\n",
      "\u001b[32m2025-09-26 08:24:15.693\u001b[0m | \u001b[1mINFO    \u001b[0m | \u001b[36m__main__\u001b[0m:\u001b[36m<module>\u001b[0m:\u001b[36m163\u001b[0m - \u001b[1mSPLIT_FILE = '/proj-soils/data/data_train/split_FR+VD.yaml'\u001b[0m\n",
      "\u001b[32m2025-09-26 08:24:15.693\u001b[0m | \u001b[1mINFO    \u001b[0m | \u001b[36m__main__\u001b[0m:\u001b[36m<module>\u001b[0m:\u001b[36m164\u001b[0m - \u001b[1mLOG_FILE = '/proj-soils/logs/random_split.log'\u001b[0m\n",
      "\u001b[32m2025-09-26 08:24:15.694\u001b[0m | \u001b[1mINFO    \u001b[0m | \u001b[36m__main__\u001b[0m:\u001b[36m<module>\u001b[0m:\u001b[36m168\u001b[0m - \u001b[1mStarted Programm\u001b[0m\n",
      "\u001b[32m2025-09-26 08:24:16.183\u001b[0m | \u001b[1mINFO    \u001b[0m | \u001b[36m__main__\u001b[0m:\u001b[36mrandom_split\u001b[0m:\u001b[36m93\u001b[0m - \u001b[1mLoaded split from /proj-soils/data/data_train/split_FR+VD.yaml\u001b[0m\n",
      "\u001b[32m2025-09-26 08:24:56.860\u001b[0m | \u001b[1mINFO    \u001b[0m | \u001b[36m__main__\u001b[0m:\u001b[36mrandom_split\u001b[0m:\u001b[36m124\u001b[0m - \u001b[1mtraincount = 6212\u001b[0m\n",
      "\u001b[32m2025-09-26 08:24:56.862\u001b[0m | \u001b[1mINFO    \u001b[0m | \u001b[36m__main__\u001b[0m:\u001b[36mrandom_split\u001b[0m:\u001b[36m125\u001b[0m - \u001b[1mvalcount = 1088\u001b[0m\n",
      "\u001b[32m2025-09-26 08:24:56.862\u001b[0m | \u001b[1mINFO    \u001b[0m | \u001b[36m__main__\u001b[0m:\u001b[36mrandom_split\u001b[0m:\u001b[36m126\u001b[0m - \u001b[1mtestcount = 1097\u001b[0m\n",
      "\u001b[32m2025-09-26 08:24:56.863\u001b[0m | \u001b[1mINFO    \u001b[0m | \u001b[36m__main__\u001b[0m:\u001b[36m<module>\u001b[0m:\u001b[36m170\u001b[0m - \u001b[1mEnded Program\n",
      "\u001b[0m\n"
     ]
    }
   ],
   "source": [
    "! python utilities/random_split.py --config_file ../config/train/config-train_fr_vd_gt.yaml"
   ]
  },
  {
   "cell_type": "markdown",
   "metadata": {},
   "source": [
    "Verify distribution of classes in the datasets. "
   ]
  },
  {
   "cell_type": "code",
   "execution_count": 28,
   "metadata": {},
   "outputs": [
    {
     "name": "stdout",
     "output_type": "stream",
     "text": [
      "\u001b[32m2025-09-26 08:27:09.770\u001b[0m | \u001b[1mINFO    \u001b[0m | \u001b[36m__main__\u001b[0m:\u001b[36m<module>\u001b[0m:\u001b[36m109\u001b[0m - \u001b[1mDATASET_DIR = '/proj-soils/data/data_train/dataset/FR+VD/'\u001b[0m\n",
      "\u001b[32m2025-09-26 08:27:09.771\u001b[0m | \u001b[1mINFO    \u001b[0m | \u001b[36m__main__\u001b[0m:\u001b[36m<module>\u001b[0m:\u001b[36m110\u001b[0m - \u001b[1mSUB_DIRS = ['train', 'val', 'test']\u001b[0m\n",
      "\u001b[32m2025-09-26 08:27:09.772\u001b[0m | \u001b[1mINFO    \u001b[0m | \u001b[36m__main__\u001b[0m:\u001b[36m<module>\u001b[0m:\u001b[36m111\u001b[0m - \u001b[1mcount_dict = {0: 0, 1: 0, 2: 0, 3: 0, 4: 0, 5: 0, 6: 0, 7: 0, 8: 0, 9: 0, 10: 0, 11: 0, 12: 0, 13: 0, 14: 0, 15: 0, 16: 0, 17: 0}\u001b[0m\n",
      "\u001b[32m2025-09-26 08:27:09.772\u001b[0m | \u001b[1mINFO    \u001b[0m | \u001b[36m__main__\u001b[0m:\u001b[36m<module>\u001b[0m:\u001b[36m112\u001b[0m - \u001b[1mCLASS_NAME = ['no_data', 'building', 'non_beton', 'beton', 'roche dur meuble', 'water', 'roseliere', 'neige', 'sol vegetalise', 'sol agricole', 'vigne', 'bache', 'serre temporaire', 'serre permanente', 'toit vegetalise', 'eau bassin', 'gazon synthetique', 'avant-toit', 'dataset']\u001b[0m\n",
      "\u001b[32m2025-09-26 08:27:09.772\u001b[0m | \u001b[1mINFO    \u001b[0m | \u001b[36m__main__\u001b[0m:\u001b[36m<module>\u001b[0m:\u001b[36m118\u001b[0m - \u001b[1mStarted Programm\u001b[0m\n",
      "\u001b[32m2025-09-26 08:27:49.960\u001b[0m | \u001b[1mINFO    \u001b[0m | \u001b[36m__main__\u001b[0m:\u001b[36m<module>\u001b[0m:\u001b[36m120\u001b[0m - \u001b[1mEnded Program 40.18799114227295 s\n",
      "\u001b[0m\n"
     ]
    }
   ],
   "source": [
    "! python utilities/pixel_count_per_class.py --config_file ../config/train/config-train_fr_vd_gt.yaml"
   ]
  },
  {
   "cell_type": "code",
   "execution_count": 31,
   "metadata": {},
   "outputs": [
    {
     "name": "stdout",
     "output_type": "stream",
     "text": [
      "{'train': [0.0, 2.28, 2.32, 3.53, 4.54, 13.64, 2.08, 0.57, 31.36, 0.89, 36.65, 0.76, 0.08, 1.06, 0.13, 0.04, 0.04, 0.03], 'val': [0.0, 1.16, 2.48, 2.48, 5.15, 16.78, 3.27, 0.42, 27.74, 0.86, 36.68, 0.45, 0.26, 2.0, 0.15, 0.04, 0.04, 0.01], 'test': [0.0, 1.18, 2.09, 3.15, 4.36, 17.33, 2.71, 0.73, 27.58, 0.61, 38.52, 0.67, 0.11, 0.67, 0.18, 0.06, 0.0, 0.05], 'gt': [0.0, 1.99, 2.31, 3.34, 4.6, 14.53, 2.31, 0.57, 30.4, 0.85, 36.9, 0.71, 0.11, 1.13, 0.14, 0.04, 0.03, 0.03]}\n"
     ]
    },
    {
     "data": {
      "image/png": "[encoded data removed]",
      "text/plain": [
       "<Figure size 640x480 with 1 Axes>"
      ]
     },
     "metadata": {},
     "output_type": "display_data"
    }
   ],
   "source": [
    "import pandas as pd\n",
    "import matplotlib.pyplot as plt\n",
    "import numpy as np\n",
    "\n",
    "df = pd.read_csv(\"/proj-soils/data/data_train/dataset/FR+VD/pixel_counts.csv\")\n",
    "\n",
    "# Identify key column and value columns\n",
    "key_column = df.columns[-1]\n",
    "value_columns = df.columns[:-1]\n",
    "\n",
    "# Build the dictionary\n",
    "result_dict = {\n",
    "    row[key_column]: row[value_columns].tolist()\n",
    "    for _, row in df.iterrows()\n",
    "}\n",
    "print(result_dict)\n",
    "\n",
    "classes = ['no_data','building','non-concrete anthropogenic surface','surface in concrete', 'bare rock','natural water','reed','snow', \n",
    "                'soil with vegetation', 'vineyard and orchard', 'agricultural land', 'tarp', 'temporary greenhouse',\n",
    "                'permanent greenhouse', 'green roof', 'basin', 'synthetic lawn', 'eave']\n",
    "x = np.arange(len(classes))  # the label locations\n",
    "width = 0.2  # the width of the bars\n",
    "multiplier = 0\n",
    "\n",
    "fig, ax = plt.subplots(layout='constrained')\n",
    "\n",
    "for attribute, measurement in result_dict.items():\n",
    "    offset = width * multiplier\n",
    "    rects = ax.bar(x + offset, measurement, width, label=attribute)\n",
    "    multiplier += 1\n",
    "\n",
    "# Add some text for labels, title and custom x-axis tick labels, etc.\n",
    "ax.set_ylabel('Percentage [log]')\n",
    "ax.set_title('Pixel distribution by class')\n",
    "ax.set_xticks(x + width, classes)\n",
    "ax.set_xticklabels(ax.get_xticklabels(), rotation=90)\n",
    "ax.legend(loc='upper left', ncols=3)\n",
    "\n",
    "plt.yscale('log')\n",
    "ax.set_ylim(0.0001, 800)\n",
    "\n",
    "plt.savefig(\"/proj-soils/data/data_train/dataset/FR+VD/distribution.png\")\n",
    "plt.show()\n",
    "\n"
   ]
  },
  {
   "cell_type": "code",
   "execution_count": null,
   "metadata": {},
   "outputs": [],
   "source": []
  }
 ],
 "metadata": {
  "kernelspec": {
   "display_name": "Python 3 (ipykernel)",
   "language": "python",
   "name": "python3"
  },
  "language_info": {
   "codemirror_mode": {
    "name": "ipython",
    "version": 3
   },
   "file_extension": ".py",
   "mimetype": "text/x-python",
   "name": "python",
   "nbconvert_exporter": "python",
   "pygments_lexer": "ipython3",
   "version": "3.10.12"
  },
  "vscode": {
   "interpreter": {
    "hash": "67c683be3b89053d7ca5cf9ab92fc1f76d72010376a6f7730bc4c074221af5a2"
   }
  }
 },
 "nbformat": 4,
 "nbformat_minor": 4
}
